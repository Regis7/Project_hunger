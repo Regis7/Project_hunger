{
 "cells": [
  {
   "cell_type": "markdown",
   "id": "919005c8",
   "metadata": {
    "papermill": {
     "duration": 0.024253,
     "end_time": "2023-01-06T06:57:48.306806",
     "exception": false,
     "start_time": "2023-01-06T06:57:48.282553",
     "status": "completed"
    },
    "tags": []
   },
   "source": [
    "# # **Big Data Analystics Project**"
   ]
  },
  {
   "cell_type": "markdown",
   "id": "824fb290",
   "metadata": {
    "papermill": {
     "duration": 0.019033,
     "end_time": "2023-01-06T06:57:48.345986",
     "exception": false,
     "start_time": "2023-01-06T06:57:48.326953",
     "status": "completed"
    },
    "tags": []
   },
   "source": [
    "# **Introduction**"
   ]
  },
  {
   "cell_type": "markdown",
   "id": "4500d205",
   "metadata": {
    "papermill": {
     "duration": 0.019451,
     "end_time": "2023-01-06T06:57:48.384753",
     "exception": false,
     "start_time": "2023-01-06T06:57:48.365302",
     "status": "completed"
    },
    "tags": []
   },
   "source": [
    "Concern Worldwide and Wealth hunger life published the Global Hunger Index (GHI). It was initially published in 2006 and is released yearly in October. The 2021 edition of the Global Hunger Index (GHI) was the 16th edition of the index report. The main target of the Global Hunger Index is to track the hunger or poverty level at international and regional levels in different areas of the world.\n",
    "\n",
    "The Global Hunger Index (GHI) is calculated based on 4 parameters, which are\n",
    "\n",
    "* Child mortality\n",
    "* Under-nourishment\n",
    "* Child stunting\n",
    "* Child wasting\n",
    "\n",
    "The scoring process of nations in the Global Hunger Index (GHI) determines the hunger level of states on a scale of Zero to 100. This ranking process works in reverse order in this GHI index. The states that scored the least numbers, like 0, 1, 2, 3, 4, etc., are considered the best, with the least hunger or low food poverty in their country. Unlike the nations which fall under the category of \"80s, '90s, and '100\", they fall into the worst category in the GHI index."
   ]
  },
  {
   "cell_type": "markdown",
   "id": "6fe9bd64",
   "metadata": {
    "papermill": {
     "duration": 0.020895,
     "end_time": "2023-01-06T06:57:48.424829",
     "exception": false,
     "start_time": "2023-01-06T06:57:48.403934",
     "status": "completed"
    },
    "tags": []
   },
   "source": [
    "**Prediction model on achieving the “Zero hunger” SDG by 2030**"
   ]
  },
  {
   "cell_type": "markdown",
   "id": "dd8fe2d0",
   "metadata": {
    "papermill": {
     "duration": 0.018677,
     "end_time": "2023-01-06T06:57:48.462947",
     "exception": false,
     "start_time": "2023-01-06T06:57:48.444270",
     "status": "completed"
    },
    "tags": []
   },
   "source": [
    "The UN has voted on the resolution to stop hunger worldwide by 2030 in the\n",
    "so-called “Zero Hunger” to implement sustainable development. In this project, we want to know if that goal will be achieved and when.\n",
    "Our goal is to predict if, by the year 2030, the UN will have achieved the zero hunger target."
   ]
  },
  {
   "cell_type": "markdown",
   "id": "8e47889c",
   "metadata": {
    "papermill": {
     "duration": 0.018894,
     "end_time": "2023-01-06T06:57:48.500884",
     "exception": false,
     "start_time": "2023-01-06T06:57:48.481990",
     "status": "completed"
    },
    "tags": []
   },
   "source": [
    "Each indicator is given a standardised score on a 100 point scale based on the highest observed level for the indicator on a global scale in recent decades. The scores are then aggregated to calculate the GHI score for each country.\n",
    "\n",
    "These scores place a country along a severity scale:\n",
    "\n",
    "Low = less than or equal to 9.9\n",
    "\n",
    "Moderate = 10.0 - 19.9\n",
    "\n",
    "Serious = 20.0 - 34.9\n",
    "\n",
    "Alarming = 35.0 - 49.9\n",
    "\n",
    "Extremely alarming = less than or equal to 50.0"
   ]
  },
  {
   "cell_type": "markdown",
   "id": "4ef9b8b5",
   "metadata": {
    "papermill": {
     "duration": 0.018684,
     "end_time": "2023-01-06T06:57:48.539652",
     "exception": false,
     "start_time": "2023-01-06T06:57:48.520968",
     "status": "completed"
    },
    "tags": []
   },
   "source": [
    "# **Importing necessary libraries**"
   ]
  },
  {
   "cell_type": "code",
   "execution_count": 1,
   "id": "7b80c5b0",
   "metadata": {
    "execution": {
     "iopub.execute_input": "2023-01-06T06:57:48.579662Z",
     "iopub.status.busy": "2023-01-06T06:57:48.579193Z",
     "iopub.status.idle": "2023-01-06T06:57:49.864429Z",
     "shell.execute_reply": "2023-01-06T06:57:49.863446Z"
    },
    "papermill": {
     "duration": 1.309015,
     "end_time": "2023-01-06T06:57:49.867615",
     "exception": false,
     "start_time": "2023-01-06T06:57:48.558600",
     "status": "completed"
    },
    "tags": []
   },
   "outputs": [],
   "source": [
    "# data analysis and wrangling\n",
    "\n",
    "import numpy as np \n",
    "import pandas as pd \n",
    "from pandas import Series,DataFrame\n",
    "\n",
    "# visualization\n",
    "import matplotlib.pyplot as plt\n",
    "import seaborn as sns\n",
    "import warnings\n",
    "warnings.filterwarnings('ignore')\n",
    "\n",
    "# machine learning\n",
    "\n",
    "from sklearn.model_selection import train_test_split\n",
    "from sklearn.linear_model import LogisticRegression\n",
    "from sklearn import preprocessing\n",
    "from sklearn import utils"
   ]
  },
  {
   "cell_type": "markdown",
   "id": "44687bef",
   "metadata": {
    "papermill": {
     "duration": 0.019121,
     "end_time": "2023-01-06T06:57:49.906459",
     "exception": false,
     "start_time": "2023-01-06T06:57:49.887338",
     "status": "completed"
    },
    "tags": []
   },
   "source": [
    "# **Importing datasets**"
   ]
  },
  {
   "cell_type": "markdown",
   "id": "27878e2c",
   "metadata": {
    "papermill": {
     "duration": 0.018964,
     "end_time": "2023-01-06T06:57:49.944743",
     "exception": false,
     "start_time": "2023-01-06T06:57:49.925779",
     "status": "completed"
    },
    "tags": []
   },
   "source": []
  },
  {
   "cell_type": "code",
   "execution_count": 2,
   "id": "e2be90dd",
   "metadata": {
    "execution": {
     "iopub.execute_input": "2023-01-06T06:57:49.985196Z",
     "iopub.status.busy": "2023-01-06T06:57:49.984574Z",
     "iopub.status.idle": "2023-01-06T06:57:50.047129Z",
     "shell.execute_reply": "2023-01-06T06:57:50.046297Z"
    },
    "papermill": {
     "duration": 0.085699,
     "end_time": "2023-01-06T06:57:50.049557",
     "exception": false,
     "start_time": "2023-01-06T06:57:49.963858",
     "status": "completed"
    },
    "tags": []
   },
   "outputs": [],
   "source": [
    "df_global_hunger_index = pd.read_csv(\"/kaggle/input/the-global-hunger-index/global-hunger-index.csv\")\n",
    "df_chridren_underweight = pd.read_csv(\"/kaggle/input/the-global-hunger-index/share-of-children-underweight.csv\")\n",
    "df_chridren_withweight = pd.read_csv(\"/kaggle/input/the-global-hunger-index/share-of-children-with-a-weight-too-low-for-their-height-wasting.csv\")\n",
    "df_chridren_younger5 = pd.read_csv(\"/kaggle/input/the-global-hunger-index/share-of-children-younger-than-5-who-suffer-from-stunting.csv\")"
   ]
  },
  {
   "cell_type": "markdown",
   "id": "496cf651",
   "metadata": {
    "papermill": {
     "duration": 0.0189,
     "end_time": "2023-01-06T06:57:50.088032",
     "exception": false,
     "start_time": "2023-01-06T06:57:50.069132",
     "status": "completed"
    },
    "tags": []
   },
   "source": [
    "# **Understanding the datasets**"
   ]
  },
  {
   "cell_type": "code",
   "execution_count": 3,
   "id": "18968361",
   "metadata": {
    "execution": {
     "iopub.execute_input": "2023-01-06T06:57:50.128501Z",
     "iopub.status.busy": "2023-01-06T06:57:50.127456Z",
     "iopub.status.idle": "2023-01-06T06:57:50.149690Z",
     "shell.execute_reply": "2023-01-06T06:57:50.148618Z"
    },
    "papermill": {
     "duration": 0.045144,
     "end_time": "2023-01-06T06:57:50.152336",
     "exception": false,
     "start_time": "2023-01-06T06:57:50.107192",
     "status": "completed"
    },
    "tags": []
   },
   "outputs": [
    {
     "data": {
      "text/html": [
       "<div>\n",
       "<style scoped>\n",
       "    .dataframe tbody tr th:only-of-type {\n",
       "        vertical-align: middle;\n",
       "    }\n",
       "\n",
       "    .dataframe tbody tr th {\n",
       "        vertical-align: top;\n",
       "    }\n",
       "\n",
       "    .dataframe thead th {\n",
       "        text-align: right;\n",
       "    }\n",
       "</style>\n",
       "<table border=\"1\" class=\"dataframe\">\n",
       "  <thead>\n",
       "    <tr style=\"text-align: right;\">\n",
       "      <th></th>\n",
       "      <th>Entity</th>\n",
       "      <th>Code</th>\n",
       "      <th>Year</th>\n",
       "      <th>Global Hunger Index (2021)</th>\n",
       "      <th>411773-annotations</th>\n",
       "    </tr>\n",
       "  </thead>\n",
       "  <tbody>\n",
       "    <tr>\n",
       "      <th>0</th>\n",
       "      <td>Afghanistan</td>\n",
       "      <td>AFG</td>\n",
       "      <td>2000</td>\n",
       "      <td>50.9</td>\n",
       "      <td>NaN</td>\n",
       "    </tr>\n",
       "    <tr>\n",
       "      <th>1</th>\n",
       "      <td>Afghanistan</td>\n",
       "      <td>AFG</td>\n",
       "      <td>2006</td>\n",
       "      <td>42.7</td>\n",
       "      <td>NaN</td>\n",
       "    </tr>\n",
       "    <tr>\n",
       "      <th>2</th>\n",
       "      <td>Afghanistan</td>\n",
       "      <td>AFG</td>\n",
       "      <td>2012</td>\n",
       "      <td>34.3</td>\n",
       "      <td>NaN</td>\n",
       "    </tr>\n",
       "    <tr>\n",
       "      <th>3</th>\n",
       "      <td>Afghanistan</td>\n",
       "      <td>AFG</td>\n",
       "      <td>2021</td>\n",
       "      <td>28.3</td>\n",
       "      <td>NaN</td>\n",
       "    </tr>\n",
       "    <tr>\n",
       "      <th>4</th>\n",
       "      <td>Albania</td>\n",
       "      <td>ALB</td>\n",
       "      <td>2000</td>\n",
       "      <td>20.7</td>\n",
       "      <td>NaN</td>\n",
       "    </tr>\n",
       "  </tbody>\n",
       "</table>\n",
       "</div>"
      ],
      "text/plain": [
       "        Entity Code  Year  Global Hunger Index (2021) 411773-annotations\n",
       "0  Afghanistan  AFG  2000                        50.9                NaN\n",
       "1  Afghanistan  AFG  2006                        42.7                NaN\n",
       "2  Afghanistan  AFG  2012                        34.3                NaN\n",
       "3  Afghanistan  AFG  2021                        28.3                NaN\n",
       "4      Albania  ALB  2000                        20.7                NaN"
      ]
     },
     "execution_count": 3,
     "metadata": {},
     "output_type": "execute_result"
    }
   ],
   "source": [
    "df_global_hunger_index.head()"
   ]
  },
  {
   "cell_type": "code",
   "execution_count": 4,
   "id": "b219a5a8",
   "metadata": {
    "execution": {
     "iopub.execute_input": "2023-01-06T06:57:50.192908Z",
     "iopub.status.busy": "2023-01-06T06:57:50.192488Z",
     "iopub.status.idle": "2023-01-06T06:57:50.203591Z",
     "shell.execute_reply": "2023-01-06T06:57:50.202857Z"
    },
    "papermill": {
     "duration": 0.033778,
     "end_time": "2023-01-06T06:57:50.205495",
     "exception": false,
     "start_time": "2023-01-06T06:57:50.171717",
     "status": "completed"
    },
    "tags": []
   },
   "outputs": [
    {
     "data": {
      "text/html": [
       "<div>\n",
       "<style scoped>\n",
       "    .dataframe tbody tr th:only-of-type {\n",
       "        vertical-align: middle;\n",
       "    }\n",
       "\n",
       "    .dataframe tbody tr th {\n",
       "        vertical-align: top;\n",
       "    }\n",
       "\n",
       "    .dataframe thead th {\n",
       "        text-align: right;\n",
       "    }\n",
       "</style>\n",
       "<table border=\"1\" class=\"dataframe\">\n",
       "  <thead>\n",
       "    <tr style=\"text-align: right;\">\n",
       "      <th></th>\n",
       "      <th>Entity</th>\n",
       "      <th>Code</th>\n",
       "      <th>Year</th>\n",
       "      <th>Prevalence of underweight, weight for age (% of children under 5)</th>\n",
       "    </tr>\n",
       "  </thead>\n",
       "  <tbody>\n",
       "    <tr>\n",
       "      <th>0</th>\n",
       "      <td>Afghanistan</td>\n",
       "      <td>AFG</td>\n",
       "      <td>1997</td>\n",
       "      <td>44.900002</td>\n",
       "    </tr>\n",
       "    <tr>\n",
       "      <th>1</th>\n",
       "      <td>Afghanistan</td>\n",
       "      <td>AFG</td>\n",
       "      <td>2004</td>\n",
       "      <td>32.900002</td>\n",
       "    </tr>\n",
       "    <tr>\n",
       "      <th>2</th>\n",
       "      <td>Afghanistan</td>\n",
       "      <td>AFG</td>\n",
       "      <td>2013</td>\n",
       "      <td>24.600000</td>\n",
       "    </tr>\n",
       "    <tr>\n",
       "      <th>3</th>\n",
       "      <td>Afghanistan</td>\n",
       "      <td>AFG</td>\n",
       "      <td>2018</td>\n",
       "      <td>19.100000</td>\n",
       "    </tr>\n",
       "    <tr>\n",
       "      <th>4</th>\n",
       "      <td>Albania</td>\n",
       "      <td>ALB</td>\n",
       "      <td>1997</td>\n",
       "      <td>7.100000</td>\n",
       "    </tr>\n",
       "  </tbody>\n",
       "</table>\n",
       "</div>"
      ],
      "text/plain": [
       "        Entity Code  Year  \\\n",
       "0  Afghanistan  AFG  1997   \n",
       "1  Afghanistan  AFG  2004   \n",
       "2  Afghanistan  AFG  2013   \n",
       "3  Afghanistan  AFG  2018   \n",
       "4      Albania  ALB  1997   \n",
       "\n",
       "   Prevalence of underweight, weight for age (% of children under 5)  \n",
       "0                                          44.900002                  \n",
       "1                                          32.900002                  \n",
       "2                                          24.600000                  \n",
       "3                                          19.100000                  \n",
       "4                                           7.100000                  "
      ]
     },
     "execution_count": 4,
     "metadata": {},
     "output_type": "execute_result"
    }
   ],
   "source": [
    "df_chridren_underweight.head()"
   ]
  },
  {
   "cell_type": "code",
   "execution_count": 5,
   "id": "fd02a27d",
   "metadata": {
    "execution": {
     "iopub.execute_input": "2023-01-06T06:57:50.246608Z",
     "iopub.status.busy": "2023-01-06T06:57:50.245829Z",
     "iopub.status.idle": "2023-01-06T06:57:50.257194Z",
     "shell.execute_reply": "2023-01-06T06:57:50.256422Z"
    },
    "papermill": {
     "duration": 0.034241,
     "end_time": "2023-01-06T06:57:50.259255",
     "exception": false,
     "start_time": "2023-01-06T06:57:50.225014",
     "status": "completed"
    },
    "tags": []
   },
   "outputs": [
    {
     "data": {
      "text/html": [
       "<div>\n",
       "<style scoped>\n",
       "    .dataframe tbody tr th:only-of-type {\n",
       "        vertical-align: middle;\n",
       "    }\n",
       "\n",
       "    .dataframe tbody tr th {\n",
       "        vertical-align: top;\n",
       "    }\n",
       "\n",
       "    .dataframe thead th {\n",
       "        text-align: right;\n",
       "    }\n",
       "</style>\n",
       "<table border=\"1\" class=\"dataframe\">\n",
       "  <thead>\n",
       "    <tr style=\"text-align: right;\">\n",
       "      <th></th>\n",
       "      <th>Entity</th>\n",
       "      <th>Code</th>\n",
       "      <th>Year</th>\n",
       "      <th>Prevalence of wasting, weight for height (% of children under 5)</th>\n",
       "    </tr>\n",
       "  </thead>\n",
       "  <tbody>\n",
       "    <tr>\n",
       "      <th>0</th>\n",
       "      <td>Afghanistan</td>\n",
       "      <td>AFG</td>\n",
       "      <td>1997</td>\n",
       "      <td>18.200001</td>\n",
       "    </tr>\n",
       "    <tr>\n",
       "      <th>1</th>\n",
       "      <td>Afghanistan</td>\n",
       "      <td>AFG</td>\n",
       "      <td>2004</td>\n",
       "      <td>8.600000</td>\n",
       "    </tr>\n",
       "    <tr>\n",
       "      <th>2</th>\n",
       "      <td>Afghanistan</td>\n",
       "      <td>AFG</td>\n",
       "      <td>2013</td>\n",
       "      <td>9.500000</td>\n",
       "    </tr>\n",
       "    <tr>\n",
       "      <th>3</th>\n",
       "      <td>Afghanistan</td>\n",
       "      <td>AFG</td>\n",
       "      <td>2018</td>\n",
       "      <td>5.100000</td>\n",
       "    </tr>\n",
       "    <tr>\n",
       "      <th>4</th>\n",
       "      <td>Albania</td>\n",
       "      <td>ALB</td>\n",
       "      <td>1997</td>\n",
       "      <td>8.100000</td>\n",
       "    </tr>\n",
       "  </tbody>\n",
       "</table>\n",
       "</div>"
      ],
      "text/plain": [
       "        Entity Code  Year  \\\n",
       "0  Afghanistan  AFG  1997   \n",
       "1  Afghanistan  AFG  2004   \n",
       "2  Afghanistan  AFG  2013   \n",
       "3  Afghanistan  AFG  2018   \n",
       "4      Albania  ALB  1997   \n",
       "\n",
       "   Prevalence of wasting, weight for height (% of children under 5)  \n",
       "0                                          18.200001                 \n",
       "1                                           8.600000                 \n",
       "2                                           9.500000                 \n",
       "3                                           5.100000                 \n",
       "4                                           8.100000                 "
      ]
     },
     "execution_count": 5,
     "metadata": {},
     "output_type": "execute_result"
    }
   ],
   "source": [
    "df_chridren_withweight.head()"
   ]
  },
  {
   "cell_type": "code",
   "execution_count": 6,
   "id": "6e634f73",
   "metadata": {
    "execution": {
     "iopub.execute_input": "2023-01-06T06:57:50.301215Z",
     "iopub.status.busy": "2023-01-06T06:57:50.300169Z",
     "iopub.status.idle": "2023-01-06T06:57:50.313501Z",
     "shell.execute_reply": "2023-01-06T06:57:50.312425Z"
    },
    "papermill": {
     "duration": 0.036932,
     "end_time": "2023-01-06T06:57:50.316041",
     "exception": false,
     "start_time": "2023-01-06T06:57:50.279109",
     "status": "completed"
    },
    "tags": []
   },
   "outputs": [
    {
     "data": {
      "text/html": [
       "<div>\n",
       "<style scoped>\n",
       "    .dataframe tbody tr th:only-of-type {\n",
       "        vertical-align: middle;\n",
       "    }\n",
       "\n",
       "    .dataframe tbody tr th {\n",
       "        vertical-align: top;\n",
       "    }\n",
       "\n",
       "    .dataframe thead th {\n",
       "        text-align: right;\n",
       "    }\n",
       "</style>\n",
       "<table border=\"1\" class=\"dataframe\">\n",
       "  <thead>\n",
       "    <tr style=\"text-align: right;\">\n",
       "      <th></th>\n",
       "      <th>Entity</th>\n",
       "      <th>Code</th>\n",
       "      <th>Year</th>\n",
       "      <th>Prevalence of stunting, height for age (% of children under 5)</th>\n",
       "    </tr>\n",
       "  </thead>\n",
       "  <tbody>\n",
       "    <tr>\n",
       "      <th>0</th>\n",
       "      <td>Afghanistan</td>\n",
       "      <td>AFG</td>\n",
       "      <td>1997</td>\n",
       "      <td>53.200001</td>\n",
       "    </tr>\n",
       "    <tr>\n",
       "      <th>1</th>\n",
       "      <td>Afghanistan</td>\n",
       "      <td>AFG</td>\n",
       "      <td>2004</td>\n",
       "      <td>59.299999</td>\n",
       "    </tr>\n",
       "    <tr>\n",
       "      <th>2</th>\n",
       "      <td>Afghanistan</td>\n",
       "      <td>AFG</td>\n",
       "      <td>2013</td>\n",
       "      <td>40.400002</td>\n",
       "    </tr>\n",
       "    <tr>\n",
       "      <th>3</th>\n",
       "      <td>Afghanistan</td>\n",
       "      <td>AFG</td>\n",
       "      <td>2018</td>\n",
       "      <td>38.200001</td>\n",
       "    </tr>\n",
       "    <tr>\n",
       "      <th>4</th>\n",
       "      <td>Albania</td>\n",
       "      <td>ALB</td>\n",
       "      <td>1997</td>\n",
       "      <td>20.400000</td>\n",
       "    </tr>\n",
       "  </tbody>\n",
       "</table>\n",
       "</div>"
      ],
      "text/plain": [
       "        Entity Code  Year  \\\n",
       "0  Afghanistan  AFG  1997   \n",
       "1  Afghanistan  AFG  2004   \n",
       "2  Afghanistan  AFG  2013   \n",
       "3  Afghanistan  AFG  2018   \n",
       "4      Albania  ALB  1997   \n",
       "\n",
       "   Prevalence of stunting, height for age (% of children under 5)  \n",
       "0                                          53.200001               \n",
       "1                                          59.299999               \n",
       "2                                          40.400002               \n",
       "3                                          38.200001               \n",
       "4                                          20.400000               "
      ]
     },
     "execution_count": 6,
     "metadata": {},
     "output_type": "execute_result"
    }
   ],
   "source": [
    "df_chridren_younger5.head()"
   ]
  },
  {
   "cell_type": "code",
   "execution_count": 7,
   "id": "d5c3a063",
   "metadata": {
    "execution": {
     "iopub.execute_input": "2023-01-06T06:57:50.358537Z",
     "iopub.status.busy": "2023-01-06T06:57:50.357891Z",
     "iopub.status.idle": "2023-01-06T06:57:50.362307Z",
     "shell.execute_reply": "2023-01-06T06:57:50.361252Z"
    },
    "papermill": {
     "duration": 0.028429,
     "end_time": "2023-01-06T06:57:50.364587",
     "exception": false,
     "start_time": "2023-01-06T06:57:50.336158",
     "status": "completed"
    },
    "tags": []
   },
   "outputs": [],
   "source": [
    "# df.drop('Year', inplace=True, axis=1)\n",
    "# df"
   ]
  },
  {
   "cell_type": "code",
   "execution_count": 8,
   "id": "fee5d580",
   "metadata": {
    "execution": {
     "iopub.execute_input": "2023-01-06T06:57:50.406309Z",
     "iopub.status.busy": "2023-01-06T06:57:50.405900Z",
     "iopub.status.idle": "2023-01-06T06:57:50.410288Z",
     "shell.execute_reply": "2023-01-06T06:57:50.409189Z"
    },
    "papermill": {
     "duration": 0.028059,
     "end_time": "2023-01-06T06:57:50.412631",
     "exception": false,
     "start_time": "2023-01-06T06:57:50.384572",
     "status": "completed"
    },
    "tags": []
   },
   "outputs": [],
   "source": [
    "# df = df['Year'].unique()\n",
    "# df"
   ]
  },
  {
   "cell_type": "code",
   "execution_count": 9,
   "id": "aad59c49",
   "metadata": {
    "execution": {
     "iopub.execute_input": "2023-01-06T06:57:50.454932Z",
     "iopub.status.busy": "2023-01-06T06:57:50.454520Z",
     "iopub.status.idle": "2023-01-06T06:57:50.479135Z",
     "shell.execute_reply": "2023-01-06T06:57:50.478292Z"
    },
    "papermill": {
     "duration": 0.048653,
     "end_time": "2023-01-06T06:57:50.481674",
     "exception": false,
     "start_time": "2023-01-06T06:57:50.433021",
     "status": "completed"
    },
    "tags": []
   },
   "outputs": [
    {
     "name": "stdout",
     "output_type": "stream",
     "text": [
      "<class 'pandas.core.frame.DataFrame'>\n",
      "RangeIndex: 471 entries, 0 to 470\n",
      "Data columns (total 5 columns):\n",
      " #   Column                      Non-Null Count  Dtype  \n",
      "---  ------                      --------------  -----  \n",
      " 0   Entity                      471 non-null    object \n",
      " 1   Code                        471 non-null    object \n",
      " 2   Year                        471 non-null    int64  \n",
      " 3   Global Hunger Index (2021)  471 non-null    float64\n",
      " 4   411773-annotations          12 non-null     object \n",
      "dtypes: float64(1), int64(1), object(3)\n",
      "memory usage: 18.5+ KB\n"
     ]
    }
   ],
   "source": [
    "df_global_hunger_index.info()"
   ]
  },
  {
   "cell_type": "code",
   "execution_count": 10,
   "id": "3c1f2705",
   "metadata": {
    "execution": {
     "iopub.execute_input": "2023-01-06T06:57:50.524972Z",
     "iopub.status.busy": "2023-01-06T06:57:50.523809Z",
     "iopub.status.idle": "2023-01-06T06:57:50.542424Z",
     "shell.execute_reply": "2023-01-06T06:57:50.541316Z"
    },
    "papermill": {
     "duration": 0.042556,
     "end_time": "2023-01-06T06:57:50.544684",
     "exception": false,
     "start_time": "2023-01-06T06:57:50.502128",
     "status": "completed"
    },
    "tags": []
   },
   "outputs": [
    {
     "data": {
      "text/html": [
       "<div>\n",
       "<style scoped>\n",
       "    .dataframe tbody tr th:only-of-type {\n",
       "        vertical-align: middle;\n",
       "    }\n",
       "\n",
       "    .dataframe tbody tr th {\n",
       "        vertical-align: top;\n",
       "    }\n",
       "\n",
       "    .dataframe thead th {\n",
       "        text-align: right;\n",
       "    }\n",
       "</style>\n",
       "<table border=\"1\" class=\"dataframe\">\n",
       "  <thead>\n",
       "    <tr style=\"text-align: right;\">\n",
       "      <th></th>\n",
       "      <th>Entity</th>\n",
       "      <th>Code</th>\n",
       "      <th>Year</th>\n",
       "      <th>Global Hunger Index (2021)</th>\n",
       "      <th>411773-annotations</th>\n",
       "    </tr>\n",
       "  </thead>\n",
       "  <tbody>\n",
       "    <tr>\n",
       "      <th>0</th>\n",
       "      <td>Afghanistan</td>\n",
       "      <td>AFG</td>\n",
       "      <td>2000</td>\n",
       "      <td>50.9</td>\n",
       "      <td>NaN</td>\n",
       "    </tr>\n",
       "    <tr>\n",
       "      <th>1</th>\n",
       "      <td>Afghanistan</td>\n",
       "      <td>AFG</td>\n",
       "      <td>2006</td>\n",
       "      <td>42.7</td>\n",
       "      <td>NaN</td>\n",
       "    </tr>\n",
       "    <tr>\n",
       "      <th>2</th>\n",
       "      <td>Afghanistan</td>\n",
       "      <td>AFG</td>\n",
       "      <td>2012</td>\n",
       "      <td>34.3</td>\n",
       "      <td>NaN</td>\n",
       "    </tr>\n",
       "    <tr>\n",
       "      <th>3</th>\n",
       "      <td>Afghanistan</td>\n",
       "      <td>AFG</td>\n",
       "      <td>2021</td>\n",
       "      <td>28.3</td>\n",
       "      <td>NaN</td>\n",
       "    </tr>\n",
       "    <tr>\n",
       "      <th>4</th>\n",
       "      <td>Albania</td>\n",
       "      <td>ALB</td>\n",
       "      <td>2000</td>\n",
       "      <td>20.7</td>\n",
       "      <td>NaN</td>\n",
       "    </tr>\n",
       "    <tr>\n",
       "      <th>...</th>\n",
       "      <td>...</td>\n",
       "      <td>...</td>\n",
       "      <td>...</td>\n",
       "      <td>...</td>\n",
       "      <td>...</td>\n",
       "    </tr>\n",
       "    <tr>\n",
       "      <th>466</th>\n",
       "      <td>Yemen</td>\n",
       "      <td>YEM</td>\n",
       "      <td>2006</td>\n",
       "      <td>38.8</td>\n",
       "      <td>NaN</td>\n",
       "    </tr>\n",
       "    <tr>\n",
       "      <th>467</th>\n",
       "      <td>Yemen</td>\n",
       "      <td>YEM</td>\n",
       "      <td>2012</td>\n",
       "      <td>38.4</td>\n",
       "      <td>NaN</td>\n",
       "    </tr>\n",
       "    <tr>\n",
       "      <th>468</th>\n",
       "      <td>Yemen</td>\n",
       "      <td>YEM</td>\n",
       "      <td>2021</td>\n",
       "      <td>45.1</td>\n",
       "      <td>NaN</td>\n",
       "    </tr>\n",
       "    <tr>\n",
       "      <th>469</th>\n",
       "      <td>Zambia</td>\n",
       "      <td>ZMB</td>\n",
       "      <td>2021</td>\n",
       "      <td>27.5</td>\n",
       "      <td>Value represents the mid-point of its group in...</td>\n",
       "    </tr>\n",
       "    <tr>\n",
       "      <th>470</th>\n",
       "      <td>Zimbabwe</td>\n",
       "      <td>ZWE</td>\n",
       "      <td>2021</td>\n",
       "      <td>27.5</td>\n",
       "      <td>Value represents the mid-point of its group in...</td>\n",
       "    </tr>\n",
       "  </tbody>\n",
       "</table>\n",
       "<p>471 rows × 5 columns</p>\n",
       "</div>"
      ],
      "text/plain": [
       "          Entity Code  Year  Global Hunger Index (2021)  \\\n",
       "0    Afghanistan  AFG  2000                        50.9   \n",
       "1    Afghanistan  AFG  2006                        42.7   \n",
       "2    Afghanistan  AFG  2012                        34.3   \n",
       "3    Afghanistan  AFG  2021                        28.3   \n",
       "4        Albania  ALB  2000                        20.7   \n",
       "..           ...  ...   ...                         ...   \n",
       "466        Yemen  YEM  2006                        38.8   \n",
       "467        Yemen  YEM  2012                        38.4   \n",
       "468        Yemen  YEM  2021                        45.1   \n",
       "469       Zambia  ZMB  2021                        27.5   \n",
       "470     Zimbabwe  ZWE  2021                        27.5   \n",
       "\n",
       "                                    411773-annotations  \n",
       "0                                                  NaN  \n",
       "1                                                  NaN  \n",
       "2                                                  NaN  \n",
       "3                                                  NaN  \n",
       "4                                                  NaN  \n",
       "..                                                 ...  \n",
       "466                                                NaN  \n",
       "467                                                NaN  \n",
       "468                                                NaN  \n",
       "469  Value represents the mid-point of its group in...  \n",
       "470  Value represents the mid-point of its group in...  \n",
       "\n",
       "[471 rows x 5 columns]"
      ]
     },
     "execution_count": 10,
     "metadata": {},
     "output_type": "execute_result"
    }
   ],
   "source": [
    "df_global_hunger_index"
   ]
  },
  {
   "cell_type": "markdown",
   "id": "4fdd1376",
   "metadata": {
    "papermill": {
     "duration": 0.020201,
     "end_time": "2023-01-06T06:57:50.585343",
     "exception": false,
     "start_time": "2023-01-06T06:57:50.565142",
     "status": "completed"
    },
    "tags": []
   },
   "source": [
    "**Check Null Values**"
   ]
  },
  {
   "cell_type": "code",
   "execution_count": 11,
   "id": "ac73d137",
   "metadata": {
    "execution": {
     "iopub.execute_input": "2023-01-06T06:57:50.630780Z",
     "iopub.status.busy": "2023-01-06T06:57:50.630369Z",
     "iopub.status.idle": "2023-01-06T06:57:50.638700Z",
     "shell.execute_reply": "2023-01-06T06:57:50.637890Z"
    },
    "papermill": {
     "duration": 0.033373,
     "end_time": "2023-01-06T06:57:50.640888",
     "exception": false,
     "start_time": "2023-01-06T06:57:50.607515",
     "status": "completed"
    },
    "tags": []
   },
   "outputs": [
    {
     "data": {
      "text/plain": [
       "Entity                          0\n",
       "Code                            0\n",
       "Year                            0\n",
       "Global Hunger Index (2021)      0\n",
       "411773-annotations            459\n",
       "dtype: int64"
      ]
     },
     "execution_count": 11,
     "metadata": {},
     "output_type": "execute_result"
    }
   ],
   "source": [
    "df_global_hunger_index.isnull().sum()"
   ]
  },
  {
   "cell_type": "markdown",
   "id": "80160457",
   "metadata": {
    "papermill": {
     "duration": 0.020922,
     "end_time": "2023-01-06T06:57:50.683050",
     "exception": false,
     "start_time": "2023-01-06T06:57:50.662128",
     "status": "completed"
    },
    "tags": []
   },
   "source": [
    "**Check duplicate values**"
   ]
  },
  {
   "cell_type": "code",
   "execution_count": 12,
   "id": "353860b7",
   "metadata": {
    "execution": {
     "iopub.execute_input": "2023-01-06T06:57:50.726633Z",
     "iopub.status.busy": "2023-01-06T06:57:50.725888Z",
     "iopub.status.idle": "2023-01-06T06:57:50.736510Z",
     "shell.execute_reply": "2023-01-06T06:57:50.735406Z"
    },
    "papermill": {
     "duration": 0.034844,
     "end_time": "2023-01-06T06:57:50.738869",
     "exception": false,
     "start_time": "2023-01-06T06:57:50.704025",
     "status": "completed"
    },
    "tags": []
   },
   "outputs": [
    {
     "data": {
      "text/plain": [
       "0"
      ]
     },
     "execution_count": 12,
     "metadata": {},
     "output_type": "execute_result"
    }
   ],
   "source": [
    "df_global_hunger_index.duplicated().sum()"
   ]
  },
  {
   "cell_type": "markdown",
   "id": "640ce5c2",
   "metadata": {
    "papermill": {
     "duration": 0.020538,
     "end_time": "2023-01-06T06:57:50.781301",
     "exception": false,
     "start_time": "2023-01-06T06:57:50.760763",
     "status": "completed"
    },
    "tags": []
   },
   "source": [
    "**Let's see summary statistics of our dataset by applying describe(). **"
   ]
  },
  {
   "cell_type": "code",
   "execution_count": 13,
   "id": "2751d9f0",
   "metadata": {
    "execution": {
     "iopub.execute_input": "2023-01-06T06:57:50.824196Z",
     "iopub.status.busy": "2023-01-06T06:57:50.823800Z",
     "iopub.status.idle": "2023-01-06T06:57:50.843204Z",
     "shell.execute_reply": "2023-01-06T06:57:50.842162Z"
    },
    "papermill": {
     "duration": 0.043643,
     "end_time": "2023-01-06T06:57:50.845517",
     "exception": false,
     "start_time": "2023-01-06T06:57:50.801874",
     "status": "completed"
    },
    "tags": []
   },
   "outputs": [
    {
     "data": {
      "text/html": [
       "<div>\n",
       "<style scoped>\n",
       "    .dataframe tbody tr th:only-of-type {\n",
       "        vertical-align: middle;\n",
       "    }\n",
       "\n",
       "    .dataframe tbody tr th {\n",
       "        vertical-align: top;\n",
       "    }\n",
       "\n",
       "    .dataframe thead th {\n",
       "        text-align: right;\n",
       "    }\n",
       "</style>\n",
       "<table border=\"1\" class=\"dataframe\">\n",
       "  <thead>\n",
       "    <tr style=\"text-align: right;\">\n",
       "      <th></th>\n",
       "      <th>Year</th>\n",
       "      <th>Global Hunger Index (2021)</th>\n",
       "    </tr>\n",
       "  </thead>\n",
       "  <tbody>\n",
       "    <tr>\n",
       "      <th>count</th>\n",
       "      <td>471.000000</td>\n",
       "      <td>471.000000</td>\n",
       "    </tr>\n",
       "    <tr>\n",
       "      <th>mean</th>\n",
       "      <td>2010.127389</td>\n",
       "      <td>19.824628</td>\n",
       "    </tr>\n",
       "    <tr>\n",
       "      <th>std</th>\n",
       "      <td>7.852951</td>\n",
       "      <td>13.449570</td>\n",
       "    </tr>\n",
       "    <tr>\n",
       "      <th>min</th>\n",
       "      <td>2000.000000</td>\n",
       "      <td>2.500000</td>\n",
       "    </tr>\n",
       "    <tr>\n",
       "      <th>25%</th>\n",
       "      <td>2006.000000</td>\n",
       "      <td>8.800000</td>\n",
       "    </tr>\n",
       "    <tr>\n",
       "      <th>50%</th>\n",
       "      <td>2012.000000</td>\n",
       "      <td>17.000000</td>\n",
       "    </tr>\n",
       "    <tr>\n",
       "      <th>75%</th>\n",
       "      <td>2021.000000</td>\n",
       "      <td>28.550000</td>\n",
       "    </tr>\n",
       "    <tr>\n",
       "      <th>max</th>\n",
       "      <td>2021.000000</td>\n",
       "      <td>65.100000</td>\n",
       "    </tr>\n",
       "  </tbody>\n",
       "</table>\n",
       "</div>"
      ],
      "text/plain": [
       "              Year  Global Hunger Index (2021)\n",
       "count   471.000000                  471.000000\n",
       "mean   2010.127389                   19.824628\n",
       "std       7.852951                   13.449570\n",
       "min    2000.000000                    2.500000\n",
       "25%    2006.000000                    8.800000\n",
       "50%    2012.000000                   17.000000\n",
       "75%    2021.000000                   28.550000\n",
       "max    2021.000000                   65.100000"
      ]
     },
     "execution_count": 13,
     "metadata": {},
     "output_type": "execute_result"
    }
   ],
   "source": [
    "df_global_hunger_index.describe()"
   ]
  },
  {
   "cell_type": "markdown",
   "id": "c99c358e",
   "metadata": {
    "papermill": {
     "duration": 0.021005,
     "end_time": "2023-01-06T06:57:50.887573",
     "exception": false,
     "start_time": "2023-01-06T06:57:50.866568",
     "status": "completed"
    },
    "tags": []
   },
   "source": [
    "Years do we have in our dataset"
   ]
  },
  {
   "cell_type": "code",
   "execution_count": 14,
   "id": "baa29fb9",
   "metadata": {
    "execution": {
     "iopub.execute_input": "2023-01-06T06:57:50.932675Z",
     "iopub.status.busy": "2023-01-06T06:57:50.932272Z",
     "iopub.status.idle": "2023-01-06T06:57:50.940705Z",
     "shell.execute_reply": "2023-01-06T06:57:50.939707Z"
    },
    "papermill": {
     "duration": 0.034333,
     "end_time": "2023-01-06T06:57:50.943050",
     "exception": false,
     "start_time": "2023-01-06T06:57:50.908717",
     "status": "completed"
    },
    "tags": []
   },
   "outputs": [
    {
     "data": {
      "text/plain": [
       "array([2000, 2006, 2012, 2021])"
      ]
     },
     "execution_count": 14,
     "metadata": {},
     "output_type": "execute_result"
    }
   ],
   "source": [
    "df_years = df_global_hunger_index['Year'].unique()\n",
    "df_years"
   ]
  },
  {
   "cell_type": "markdown",
   "id": "a781c933",
   "metadata": {
    "papermill": {
     "duration": 0.02103,
     "end_time": "2023-01-06T06:57:50.985716",
     "exception": false,
     "start_time": "2023-01-06T06:57:50.964686",
     "status": "completed"
    },
    "tags": []
   },
   "source": [
    "**Visualization**"
   ]
  },
  {
   "cell_type": "code",
   "execution_count": 15,
   "id": "8fad6371",
   "metadata": {
    "execution": {
     "iopub.execute_input": "2023-01-06T06:57:51.029303Z",
     "iopub.status.busy": "2023-01-06T06:57:51.028881Z",
     "iopub.status.idle": "2023-01-06T06:57:52.062705Z",
     "shell.execute_reply": "2023-01-06T06:57:52.061554Z"
    },
    "papermill": {
     "duration": 1.058676,
     "end_time": "2023-01-06T06:57:52.065419",
     "exception": false,
     "start_time": "2023-01-06T06:57:51.006743",
     "status": "completed"
    },
    "tags": []
   },
   "outputs": [
    {
     "data": {
      "text/plain": [
       "<seaborn.axisgrid.PairGrid at 0x7eff1c863190>"
      ]
     },
     "execution_count": 15,
     "metadata": {},
     "output_type": "execute_result"
    },
    {
     "data": {
      "image/png": "[encoded data removed]",
      "text/plain": [
       "<Figure size 360x360 with 6 Axes>"
      ]
     },
     "metadata": {
      "needs_background": "light"
     },
     "output_type": "display_data"
    }
   ],
   "source": [
    "# Let's plot a pair plot of all variables in our dataframe\n",
    "sns.pairplot(df_global_hunger_index)"
   ]
  },
  {
   "cell_type": "code",
   "execution_count": 16,
   "id": "2ab9b77e",
   "metadata": {
    "execution": {
     "iopub.execute_input": "2023-01-06T06:57:52.114205Z",
     "iopub.status.busy": "2023-01-06T06:57:52.113832Z",
     "iopub.status.idle": "2023-01-06T06:57:52.118714Z",
     "shell.execute_reply": "2023-01-06T06:57:52.117489Z"
    },
    "papermill": {
     "duration": 0.030577,
     "end_time": "2023-01-06T06:57:52.120956",
     "exception": false,
     "start_time": "2023-01-06T06:57:52.090379",
     "status": "completed"
    },
    "tags": []
   },
   "outputs": [],
   "source": [
    "#sns.heatmap(df_global_hunger_index.corr(),annot=True)"
   ]
  },
  {
   "cell_type": "code",
   "execution_count": 17,
   "id": "02fb5d0e",
   "metadata": {
    "execution": {
     "iopub.execute_input": "2023-01-06T06:57:52.167647Z",
     "iopub.status.busy": "2023-01-06T06:57:52.166647Z",
     "iopub.status.idle": "2023-01-06T06:57:52.171027Z",
     "shell.execute_reply": "2023-01-06T06:57:52.170262Z"
    },
    "papermill": {
     "duration": 0.030127,
     "end_time": "2023-01-06T06:57:52.173089",
     "exception": false,
     "start_time": "2023-01-06T06:57:52.142962",
     "status": "completed"
    },
    "tags": []
   },
   "outputs": [],
   "source": [
    "# df_global_hunger_index.plot(x=\"Entity\", y=[\"Global Hunger Index (2021)\",\"Year\"], kind=\"bar\", figsize=(20, 9))\n",
    "# plt.show()                     "
   ]
  },
  {
   "cell_type": "markdown",
   "id": "dbcbbb63",
   "metadata": {
    "papermill": {
     "duration": 0.021539,
     "end_time": "2023-01-06T06:57:52.216409",
     "exception": false,
     "start_time": "2023-01-06T06:57:52.194870",
     "status": "completed"
    },
    "tags": []
   },
   "source": [
    "# **Data Pre-processing**"
   ]
  },
  {
   "cell_type": "markdown",
   "id": "2181c23c",
   "metadata": {
    "papermill": {
     "duration": 0.02137,
     "end_time": "2023-01-06T06:57:52.259461",
     "exception": false,
     "start_time": "2023-01-06T06:57:52.238091",
     "status": "completed"
    },
    "tags": []
   },
   "source": [
    "**Renaming columns**"
   ]
  },
  {
   "cell_type": "code",
   "execution_count": 18,
   "id": "581a9095",
   "metadata": {
    "execution": {
     "iopub.execute_input": "2023-01-06T06:57:52.304497Z",
     "iopub.status.busy": "2023-01-06T06:57:52.303809Z",
     "iopub.status.idle": "2023-01-06T06:57:52.316724Z",
     "shell.execute_reply": "2023-01-06T06:57:52.315826Z"
    },
    "papermill": {
     "duration": 0.037748,
     "end_time": "2023-01-06T06:57:52.318864",
     "exception": false,
     "start_time": "2023-01-06T06:57:52.281116",
     "status": "completed"
    },
    "tags": []
   },
   "outputs": [
    {
     "data": {
      "text/html": [
       "<div>\n",
       "<style scoped>\n",
       "    .dataframe tbody tr th:only-of-type {\n",
       "        vertical-align: middle;\n",
       "    }\n",
       "\n",
       "    .dataframe tbody tr th {\n",
       "        vertical-align: top;\n",
       "    }\n",
       "\n",
       "    .dataframe thead th {\n",
       "        text-align: right;\n",
       "    }\n",
       "</style>\n",
       "<table border=\"1\" class=\"dataframe\">\n",
       "  <thead>\n",
       "    <tr style=\"text-align: right;\">\n",
       "      <th></th>\n",
       "      <th>Country</th>\n",
       "      <th>Code</th>\n",
       "      <th>Year</th>\n",
       "      <th>GHI</th>\n",
       "      <th>411773-annotations</th>\n",
       "    </tr>\n",
       "  </thead>\n",
       "  <tbody>\n",
       "    <tr>\n",
       "      <th>0</th>\n",
       "      <td>Afghanistan</td>\n",
       "      <td>AFG</td>\n",
       "      <td>2000</td>\n",
       "      <td>50.9</td>\n",
       "      <td>NaN</td>\n",
       "    </tr>\n",
       "    <tr>\n",
       "      <th>1</th>\n",
       "      <td>Afghanistan</td>\n",
       "      <td>AFG</td>\n",
       "      <td>2006</td>\n",
       "      <td>42.7</td>\n",
       "      <td>NaN</td>\n",
       "    </tr>\n",
       "    <tr>\n",
       "      <th>2</th>\n",
       "      <td>Afghanistan</td>\n",
       "      <td>AFG</td>\n",
       "      <td>2012</td>\n",
       "      <td>34.3</td>\n",
       "      <td>NaN</td>\n",
       "    </tr>\n",
       "    <tr>\n",
       "      <th>3</th>\n",
       "      <td>Afghanistan</td>\n",
       "      <td>AFG</td>\n",
       "      <td>2021</td>\n",
       "      <td>28.3</td>\n",
       "      <td>NaN</td>\n",
       "    </tr>\n",
       "    <tr>\n",
       "      <th>4</th>\n",
       "      <td>Albania</td>\n",
       "      <td>ALB</td>\n",
       "      <td>2000</td>\n",
       "      <td>20.7</td>\n",
       "      <td>NaN</td>\n",
       "    </tr>\n",
       "  </tbody>\n",
       "</table>\n",
       "</div>"
      ],
      "text/plain": [
       "       Country Code  Year   GHI 411773-annotations\n",
       "0  Afghanistan  AFG  2000  50.9                NaN\n",
       "1  Afghanistan  AFG  2006  42.7                NaN\n",
       "2  Afghanistan  AFG  2012  34.3                NaN\n",
       "3  Afghanistan  AFG  2021  28.3                NaN\n",
       "4      Albania  ALB  2000  20.7                NaN"
      ]
     },
     "execution_count": 18,
     "metadata": {},
     "output_type": "execute_result"
    }
   ],
   "source": [
    "df_global_hunger_index.rename(columns={'Entity':'Country','Global Hunger Index (2021)': 'GHI'}, inplace=True)\n",
    "df_global_hunger_index.head()"
   ]
  },
  {
   "cell_type": "markdown",
   "id": "1874be0a",
   "metadata": {
    "papermill": {
     "duration": 0.021425,
     "end_time": "2023-01-06T06:57:52.362130",
     "exception": false,
     "start_time": "2023-01-06T06:57:52.340705",
     "status": "completed"
    },
    "tags": []
   },
   "source": [
    "**Remove unwanted column \"411773-annotations\"**"
   ]
  },
  {
   "cell_type": "code",
   "execution_count": 19,
   "id": "6aa5b851",
   "metadata": {
    "execution": {
     "iopub.execute_input": "2023-01-06T06:57:52.407626Z",
     "iopub.status.busy": "2023-01-06T06:57:52.407036Z",
     "iopub.status.idle": "2023-01-06T06:57:52.421438Z",
     "shell.execute_reply": "2023-01-06T06:57:52.420531Z"
    },
    "papermill": {
     "duration": 0.039672,
     "end_time": "2023-01-06T06:57:52.423558",
     "exception": false,
     "start_time": "2023-01-06T06:57:52.383886",
     "status": "completed"
    },
    "tags": []
   },
   "outputs": [
    {
     "data": {
      "text/html": [
       "<div>\n",
       "<style scoped>\n",
       "    .dataframe tbody tr th:only-of-type {\n",
       "        vertical-align: middle;\n",
       "    }\n",
       "\n",
       "    .dataframe tbody tr th {\n",
       "        vertical-align: top;\n",
       "    }\n",
       "\n",
       "    .dataframe thead th {\n",
       "        text-align: right;\n",
       "    }\n",
       "</style>\n",
       "<table border=\"1\" class=\"dataframe\">\n",
       "  <thead>\n",
       "    <tr style=\"text-align: right;\">\n",
       "      <th></th>\n",
       "      <th>Country</th>\n",
       "      <th>Code</th>\n",
       "      <th>Year</th>\n",
       "      <th>GHI</th>\n",
       "    </tr>\n",
       "  </thead>\n",
       "  <tbody>\n",
       "    <tr>\n",
       "      <th>0</th>\n",
       "      <td>Afghanistan</td>\n",
       "      <td>AFG</td>\n",
       "      <td>2000</td>\n",
       "      <td>50.9</td>\n",
       "    </tr>\n",
       "    <tr>\n",
       "      <th>1</th>\n",
       "      <td>Afghanistan</td>\n",
       "      <td>AFG</td>\n",
       "      <td>2006</td>\n",
       "      <td>42.7</td>\n",
       "    </tr>\n",
       "    <tr>\n",
       "      <th>2</th>\n",
       "      <td>Afghanistan</td>\n",
       "      <td>AFG</td>\n",
       "      <td>2012</td>\n",
       "      <td>34.3</td>\n",
       "    </tr>\n",
       "    <tr>\n",
       "      <th>3</th>\n",
       "      <td>Afghanistan</td>\n",
       "      <td>AFG</td>\n",
       "      <td>2021</td>\n",
       "      <td>28.3</td>\n",
       "    </tr>\n",
       "    <tr>\n",
       "      <th>4</th>\n",
       "      <td>Albania</td>\n",
       "      <td>ALB</td>\n",
       "      <td>2000</td>\n",
       "      <td>20.7</td>\n",
       "    </tr>\n",
       "    <tr>\n",
       "      <th>...</th>\n",
       "      <td>...</td>\n",
       "      <td>...</td>\n",
       "      <td>...</td>\n",
       "      <td>...</td>\n",
       "    </tr>\n",
       "    <tr>\n",
       "      <th>466</th>\n",
       "      <td>Yemen</td>\n",
       "      <td>YEM</td>\n",
       "      <td>2006</td>\n",
       "      <td>38.8</td>\n",
       "    </tr>\n",
       "    <tr>\n",
       "      <th>467</th>\n",
       "      <td>Yemen</td>\n",
       "      <td>YEM</td>\n",
       "      <td>2012</td>\n",
       "      <td>38.4</td>\n",
       "    </tr>\n",
       "    <tr>\n",
       "      <th>468</th>\n",
       "      <td>Yemen</td>\n",
       "      <td>YEM</td>\n",
       "      <td>2021</td>\n",
       "      <td>45.1</td>\n",
       "    </tr>\n",
       "    <tr>\n",
       "      <th>469</th>\n",
       "      <td>Zambia</td>\n",
       "      <td>ZMB</td>\n",
       "      <td>2021</td>\n",
       "      <td>27.5</td>\n",
       "    </tr>\n",
       "    <tr>\n",
       "      <th>470</th>\n",
       "      <td>Zimbabwe</td>\n",
       "      <td>ZWE</td>\n",
       "      <td>2021</td>\n",
       "      <td>27.5</td>\n",
       "    </tr>\n",
       "  </tbody>\n",
       "</table>\n",
       "<p>471 rows × 4 columns</p>\n",
       "</div>"
      ],
      "text/plain": [
       "         Country Code  Year   GHI\n",
       "0    Afghanistan  AFG  2000  50.9\n",
       "1    Afghanistan  AFG  2006  42.7\n",
       "2    Afghanistan  AFG  2012  34.3\n",
       "3    Afghanistan  AFG  2021  28.3\n",
       "4        Albania  ALB  2000  20.7\n",
       "..           ...  ...   ...   ...\n",
       "466        Yemen  YEM  2006  38.8\n",
       "467        Yemen  YEM  2012  38.4\n",
       "468        Yemen  YEM  2021  45.1\n",
       "469       Zambia  ZMB  2021  27.5\n",
       "470     Zimbabwe  ZWE  2021  27.5\n",
       "\n",
       "[471 rows x 4 columns]"
      ]
     },
     "execution_count": 19,
     "metadata": {},
     "output_type": "execute_result"
    }
   ],
   "source": [
    "df_global_hunger_index.drop('411773-annotations', inplace=True, axis=1)\n",
    "df_global_hunger_index"
   ]
  },
  {
   "cell_type": "markdown",
   "id": "c79dceb4",
   "metadata": {
    "papermill": {
     "duration": 0.022673,
     "end_time": "2023-01-06T06:57:52.468331",
     "exception": false,
     "start_time": "2023-01-06T06:57:52.445658",
     "status": "completed"
    },
    "tags": []
   },
   "source": [
    "**Remove null variables**"
   ]
  },
  {
   "cell_type": "code",
   "execution_count": 20,
   "id": "faa09765",
   "metadata": {
    "execution": {
     "iopub.execute_input": "2023-01-06T06:57:52.516204Z",
     "iopub.status.busy": "2023-01-06T06:57:52.515585Z",
     "iopub.status.idle": "2023-01-06T06:57:52.532567Z",
     "shell.execute_reply": "2023-01-06T06:57:52.531714Z"
    },
    "papermill": {
     "duration": 0.044188,
     "end_time": "2023-01-06T06:57:52.534760",
     "exception": false,
     "start_time": "2023-01-06T06:57:52.490572",
     "status": "completed"
    },
    "tags": []
   },
   "outputs": [
    {
     "data": {
      "text/html": [
       "<div>\n",
       "<style scoped>\n",
       "    .dataframe tbody tr th:only-of-type {\n",
       "        vertical-align: middle;\n",
       "    }\n",
       "\n",
       "    .dataframe tbody tr th {\n",
       "        vertical-align: top;\n",
       "    }\n",
       "\n",
       "    .dataframe thead th {\n",
       "        text-align: right;\n",
       "    }\n",
       "</style>\n",
       "<table border=\"1\" class=\"dataframe\">\n",
       "  <thead>\n",
       "    <tr style=\"text-align: right;\">\n",
       "      <th></th>\n",
       "      <th>Country</th>\n",
       "      <th>Code</th>\n",
       "      <th>Year</th>\n",
       "      <th>GHI</th>\n",
       "    </tr>\n",
       "  </thead>\n",
       "  <tbody>\n",
       "    <tr>\n",
       "      <th>0</th>\n",
       "      <td>Afghanistan</td>\n",
       "      <td>AFG</td>\n",
       "      <td>2000</td>\n",
       "      <td>50.9</td>\n",
       "    </tr>\n",
       "    <tr>\n",
       "      <th>1</th>\n",
       "      <td>Afghanistan</td>\n",
       "      <td>AFG</td>\n",
       "      <td>2006</td>\n",
       "      <td>42.7</td>\n",
       "    </tr>\n",
       "    <tr>\n",
       "      <th>2</th>\n",
       "      <td>Afghanistan</td>\n",
       "      <td>AFG</td>\n",
       "      <td>2012</td>\n",
       "      <td>34.3</td>\n",
       "    </tr>\n",
       "    <tr>\n",
       "      <th>3</th>\n",
       "      <td>Afghanistan</td>\n",
       "      <td>AFG</td>\n",
       "      <td>2021</td>\n",
       "      <td>28.3</td>\n",
       "    </tr>\n",
       "    <tr>\n",
       "      <th>4</th>\n",
       "      <td>Albania</td>\n",
       "      <td>ALB</td>\n",
       "      <td>2000</td>\n",
       "      <td>20.7</td>\n",
       "    </tr>\n",
       "    <tr>\n",
       "      <th>...</th>\n",
       "      <td>...</td>\n",
       "      <td>...</td>\n",
       "      <td>...</td>\n",
       "      <td>...</td>\n",
       "    </tr>\n",
       "    <tr>\n",
       "      <th>466</th>\n",
       "      <td>Yemen</td>\n",
       "      <td>YEM</td>\n",
       "      <td>2006</td>\n",
       "      <td>38.8</td>\n",
       "    </tr>\n",
       "    <tr>\n",
       "      <th>467</th>\n",
       "      <td>Yemen</td>\n",
       "      <td>YEM</td>\n",
       "      <td>2012</td>\n",
       "      <td>38.4</td>\n",
       "    </tr>\n",
       "    <tr>\n",
       "      <th>468</th>\n",
       "      <td>Yemen</td>\n",
       "      <td>YEM</td>\n",
       "      <td>2021</td>\n",
       "      <td>45.1</td>\n",
       "    </tr>\n",
       "    <tr>\n",
       "      <th>469</th>\n",
       "      <td>Zambia</td>\n",
       "      <td>ZMB</td>\n",
       "      <td>2021</td>\n",
       "      <td>27.5</td>\n",
       "    </tr>\n",
       "    <tr>\n",
       "      <th>470</th>\n",
       "      <td>Zimbabwe</td>\n",
       "      <td>ZWE</td>\n",
       "      <td>2021</td>\n",
       "      <td>27.5</td>\n",
       "    </tr>\n",
       "  </tbody>\n",
       "</table>\n",
       "<p>471 rows × 4 columns</p>\n",
       "</div>"
      ],
      "text/plain": [
       "         Country Code  Year   GHI\n",
       "0    Afghanistan  AFG  2000  50.9\n",
       "1    Afghanistan  AFG  2006  42.7\n",
       "2    Afghanistan  AFG  2012  34.3\n",
       "3    Afghanistan  AFG  2021  28.3\n",
       "4        Albania  ALB  2000  20.7\n",
       "..           ...  ...   ...   ...\n",
       "466        Yemen  YEM  2006  38.8\n",
       "467        Yemen  YEM  2012  38.4\n",
       "468        Yemen  YEM  2021  45.1\n",
       "469       Zambia  ZMB  2021  27.5\n",
       "470     Zimbabwe  ZWE  2021  27.5\n",
       "\n",
       "[471 rows x 4 columns]"
      ]
     },
     "execution_count": 20,
     "metadata": {},
     "output_type": "execute_result"
    }
   ],
   "source": [
    "df_global_hunger_index.dropna(axis=1)"
   ]
  },
  {
   "cell_type": "markdown",
   "id": "1b2b95c1",
   "metadata": {
    "papermill": {
     "duration": 0.022019,
     "end_time": "2023-01-06T06:57:52.579367",
     "exception": false,
     "start_time": "2023-01-06T06:57:52.557348",
     "status": "completed"
    },
    "tags": []
   },
   "source": [
    "**Pivotting data**"
   ]
  },
  {
   "cell_type": "code",
   "execution_count": 21,
   "id": "fd64ae59",
   "metadata": {
    "execution": {
     "iopub.execute_input": "2023-01-06T06:57:52.625989Z",
     "iopub.status.busy": "2023-01-06T06:57:52.625525Z",
     "iopub.status.idle": "2023-01-06T06:57:52.648163Z",
     "shell.execute_reply": "2023-01-06T06:57:52.647378Z"
    },
    "papermill": {
     "duration": 0.048635,
     "end_time": "2023-01-06T06:57:52.650405",
     "exception": false,
     "start_time": "2023-01-06T06:57:52.601770",
     "status": "completed"
    },
    "tags": []
   },
   "outputs": [
    {
     "data": {
      "text/html": [
       "<div>\n",
       "<style scoped>\n",
       "    .dataframe tbody tr th:only-of-type {\n",
       "        vertical-align: middle;\n",
       "    }\n",
       "\n",
       "    .dataframe tbody tr th {\n",
       "        vertical-align: top;\n",
       "    }\n",
       "\n",
       "    .dataframe thead th {\n",
       "        text-align: right;\n",
       "    }\n",
       "</style>\n",
       "<table border=\"1\" class=\"dataframe\">\n",
       "  <thead>\n",
       "    <tr style=\"text-align: right;\">\n",
       "      <th>Year</th>\n",
       "      <th>Country</th>\n",
       "      <th>2000</th>\n",
       "      <th>2006</th>\n",
       "      <th>2012</th>\n",
       "      <th>2021</th>\n",
       "    </tr>\n",
       "  </thead>\n",
       "  <tbody>\n",
       "    <tr>\n",
       "      <th>0</th>\n",
       "      <td>Afghanistan</td>\n",
       "      <td>50.9</td>\n",
       "      <td>42.7</td>\n",
       "      <td>34.3</td>\n",
       "      <td>28.3</td>\n",
       "    </tr>\n",
       "    <tr>\n",
       "      <th>1</th>\n",
       "      <td>Albania</td>\n",
       "      <td>20.7</td>\n",
       "      <td>15.9</td>\n",
       "      <td>8.8</td>\n",
       "      <td>6.2</td>\n",
       "    </tr>\n",
       "    <tr>\n",
       "      <th>2</th>\n",
       "      <td>Algeria</td>\n",
       "      <td>14.5</td>\n",
       "      <td>11.7</td>\n",
       "      <td>8.9</td>\n",
       "      <td>6.9</td>\n",
       "    </tr>\n",
       "    <tr>\n",
       "      <th>3</th>\n",
       "      <td>Angola</td>\n",
       "      <td>65.0</td>\n",
       "      <td>46.9</td>\n",
       "      <td>27.8</td>\n",
       "      <td>26.0</td>\n",
       "    </tr>\n",
       "    <tr>\n",
       "      <th>4</th>\n",
       "      <td>Argentina</td>\n",
       "      <td>6.4</td>\n",
       "      <td>5.6</td>\n",
       "      <td>5.2</td>\n",
       "      <td>5.3</td>\n",
       "    </tr>\n",
       "  </tbody>\n",
       "</table>\n",
       "</div>"
      ],
      "text/plain": [
       "Year      Country  2000  2006  2012  2021\n",
       "0     Afghanistan  50.9  42.7  34.3  28.3\n",
       "1         Albania  20.7  15.9   8.8   6.2\n",
       "2         Algeria  14.5  11.7   8.9   6.9\n",
       "3          Angola  65.0  46.9  27.8  26.0\n",
       "4       Argentina   6.4   5.6   5.2   5.3"
      ]
     },
     "execution_count": 21,
     "metadata": {},
     "output_type": "execute_result"
    }
   ],
   "source": [
    "df_GHI = df_global_hunger_index.pivot(index='Country', columns= 'Year', values='GHI')\n",
    "df_GHI = df_GHI.reset_index()\n",
    "df_GHI.head()"
   ]
  },
  {
   "cell_type": "code",
   "execution_count": 22,
   "id": "a43b80fc",
   "metadata": {
    "execution": {
     "iopub.execute_input": "2023-01-06T06:57:52.699327Z",
     "iopub.status.busy": "2023-01-06T06:57:52.698713Z",
     "iopub.status.idle": "2023-01-06T06:57:52.705141Z",
     "shell.execute_reply": "2023-01-06T06:57:52.704108Z"
    },
    "papermill": {
     "duration": 0.033428,
     "end_time": "2023-01-06T06:57:52.707429",
     "exception": false,
     "start_time": "2023-01-06T06:57:52.674001",
     "status": "completed"
    },
    "tags": []
   },
   "outputs": [
    {
     "data": {
      "text/plain": [
       "Index(['Country', 2000, 2006, 2012, 2021], dtype='object', name='Year')"
      ]
     },
     "execution_count": 22,
     "metadata": {},
     "output_type": "execute_result"
    }
   ],
   "source": [
    "df_GHI.columns"
   ]
  },
  {
   "cell_type": "markdown",
   "id": "30e63e7a",
   "metadata": {
    "papermill": {
     "duration": 0.022579,
     "end_time": "2023-01-06T06:57:52.753792",
     "exception": false,
     "start_time": "2023-01-06T06:57:52.731213",
     "status": "completed"
    },
    "tags": []
   },
   "source": [
    "# **Analysis**"
   ]
  },
  {
   "cell_type": "markdown",
   "id": "a77cfffd",
   "metadata": {
    "papermill": {
     "duration": 0.02241,
     "end_time": "2023-01-06T06:57:52.798876",
     "exception": false,
     "start_time": "2023-01-06T06:57:52.776466",
     "status": "completed"
    },
    "tags": []
   },
   "source": [
    "**How many countries do we have in our dtasets**"
   ]
  },
  {
   "cell_type": "code",
   "execution_count": 23,
   "id": "3c92734e",
   "metadata": {
    "execution": {
     "iopub.execute_input": "2023-01-06T06:57:52.846061Z",
     "iopub.status.busy": "2023-01-06T06:57:52.845656Z",
     "iopub.status.idle": "2023-01-06T06:57:52.853299Z",
     "shell.execute_reply": "2023-01-06T06:57:52.852273Z"
    },
    "papermill": {
     "duration": 0.034074,
     "end_time": "2023-01-06T06:57:52.855700",
     "exception": false,
     "start_time": "2023-01-06T06:57:52.821626",
     "status": "completed"
    },
    "tags": []
   },
   "outputs": [
    {
     "data": {
      "text/plain": [
       "array(['Afghanistan', 'Albania', 'Algeria', 'Angola', 'Argentina',\n",
       "       'Armenia', 'Azerbaijan', 'Bangladesh', 'Belarus', 'Benin',\n",
       "       'Bolivia', 'Bosnia and Herzegovina', 'Botswana', 'Brazil',\n",
       "       'Bulgaria', 'Burkina Faso', 'Burundi', 'Cambodia', 'Cameroon',\n",
       "       'Cape Verde', 'Central African Republic', 'Chad', 'Chile', 'China',\n",
       "       'Colombia', 'Comoros', 'Congo', 'Costa Rica', \"Cote d'Ivoire\",\n",
       "       'Croatia', 'Cuba', 'Democratic Republic of Congo', 'Djibouti',\n",
       "       'Dominican Republic', 'Ecuador', 'Egypt', 'El Salvador', 'Estonia',\n",
       "       'Eswatini', 'Ethiopia', 'Fiji', 'Gabon', 'Gambia', 'Georgia',\n",
       "       'Ghana', 'Guatemala', 'Guinea', 'Guinea-Bissau', 'Guyana', 'Haiti',\n",
       "       'Honduras', 'India', 'Indonesia', 'Iran', 'Iraq', 'Jamaica',\n",
       "       'Jordan', 'Kazakhstan', 'Kenya', 'Kuwait', 'Kyrgyzstan', 'Laos',\n",
       "       'Latvia', 'Lebanon', 'Lesotho', 'Liberia', 'Lithuania',\n",
       "       'Madagascar', 'Malawi', 'Malaysia', 'Mali', 'Mauritania',\n",
       "       'Mauritius', 'Mexico', 'Moldova', 'Mongolia', 'Montenegro',\n",
       "       'Morocco', 'Mozambique', 'Myanmar', 'Namibia', 'Nepal',\n",
       "       'Nicaragua', 'Niger', 'Nigeria', 'North Korea', 'North Macedonia',\n",
       "       'Oman', 'Pakistan', 'Panama', 'Papua New Guinea', 'Paraguay',\n",
       "       'Peru', 'Philippines', 'Romania', 'Russia', 'Rwanda',\n",
       "       'Saudi Arabia', 'Senegal', 'Serbia', 'Sierra Leone', 'Slovakia',\n",
       "       'Solomon Islands', 'Somalia', 'South Africa', 'South Sudan',\n",
       "       'Sri Lanka', 'Sudan', 'Suriname', 'Syria', 'Tajikistan',\n",
       "       'Tanzania', 'Thailand', 'Timor', 'Togo', 'Trinidad and Tobago',\n",
       "       'Tunisia', 'Turkey', 'Turkmenistan', 'Uganda', 'Ukraine',\n",
       "       'Uruguay', 'Uzbekistan', 'Venezuela', 'Vietnam', 'Yemen', 'Zambia',\n",
       "       'Zimbabwe'], dtype=object)"
      ]
     },
     "execution_count": 23,
     "metadata": {},
     "output_type": "execute_result"
    }
   ],
   "source": [
    "Countries = df_GHI[\"Country\"].unique()\n",
    "Countries"
   ]
  },
  {
   "cell_type": "code",
   "execution_count": 24,
   "id": "2119d161",
   "metadata": {
    "execution": {
     "iopub.execute_input": "2023-01-06T06:57:52.903371Z",
     "iopub.status.busy": "2023-01-06T06:57:52.902815Z",
     "iopub.status.idle": "2023-01-06T06:57:52.910015Z",
     "shell.execute_reply": "2023-01-06T06:57:52.908922Z"
    },
    "papermill": {
     "duration": 0.033684,
     "end_time": "2023-01-06T06:57:52.912244",
     "exception": false,
     "start_time": "2023-01-06T06:57:52.878560",
     "status": "completed"
    },
    "tags": []
   },
   "outputs": [
    {
     "data": {
      "text/plain": [
       "128"
      ]
     },
     "execution_count": 24,
     "metadata": {},
     "output_type": "execute_result"
    }
   ],
   "source": [
    "Number_countries = df_GHI[\"Country\"].unique().size\n",
    "Number_countries"
   ]
  },
  {
   "cell_type": "markdown",
   "id": "915ff082",
   "metadata": {
    "papermill": {
     "duration": 0.022683,
     "end_time": "2023-01-06T06:57:52.958073",
     "exception": false,
     "start_time": "2023-01-06T06:57:52.935390",
     "status": "completed"
    },
    "tags": []
   },
   "source": [
    "Very good, it looks like we have enough countries to do our analysis and prediction. "
   ]
  },
  {
   "cell_type": "markdown",
   "id": "2556a525",
   "metadata": {
    "papermill": {
     "duration": 0.022869,
     "end_time": "2023-01-06T06:57:53.003945",
     "exception": false,
     "start_time": "2023-01-06T06:57:52.981076",
     "status": "completed"
    },
    "tags": []
   },
   "source": [
    "**Global Hunger Index distribution plot between 2000 to 2021**"
   ]
  },
  {
   "cell_type": "code",
   "execution_count": 25,
   "id": "cf94cd58",
   "metadata": {
    "execution": {
     "iopub.execute_input": "2023-01-06T06:57:53.051476Z",
     "iopub.status.busy": "2023-01-06T06:57:53.051081Z",
     "iopub.status.idle": "2023-01-06T06:57:53.765306Z",
     "shell.execute_reply": "2023-01-06T06:57:53.764111Z"
    },
    "papermill": {
     "duration": 0.741553,
     "end_time": "2023-01-06T06:57:53.768337",
     "exception": false,
     "start_time": "2023-01-06T06:57:53.026784",
     "status": "completed"
    },
    "tags": []
   },
   "outputs": [
    {
     "data": {
      "image/png": "[encoded data removed]",
      "text/plain": [
       "<Figure size 1080x360 with 4 Axes>"
      ]
     },
     "metadata": {
      "needs_background": "light"
     },
     "output_type": "display_data"
    }
   ],
   "source": [
    "col=[2000,2006,2012,2021]\n",
    "fig = plt.figure(figsize=(15,5))\n",
    "\n",
    "for i in range(len(col)):\n",
    "    plt.subplot(1,4,i+1)\n",
    "    plt.title(col[i])\n",
    "    sns.distplot(df_GHI,x=df_GHI[col[i]])\n",
    "    plt.xlim([0,75])\n",
    "    plt.ylim([0,0.06])\n",
    "plt.tight_layout()\n",
    "plt.show()"
   ]
  },
  {
   "cell_type": "code",
   "execution_count": 26,
   "id": "45cbdaa1",
   "metadata": {
    "execution": {
     "iopub.execute_input": "2023-01-06T06:57:53.824310Z",
     "iopub.status.busy": "2023-01-06T06:57:53.823848Z",
     "iopub.status.idle": "2023-01-06T06:57:54.156769Z",
     "shell.execute_reply": "2023-01-06T06:57:54.155649Z"
    },
    "papermill": {
     "duration": 0.365964,
     "end_time": "2023-01-06T06:57:54.159351",
     "exception": false,
     "start_time": "2023-01-06T06:57:53.793387",
     "status": "completed"
    },
    "tags": []
   },
   "outputs": [
    {
     "data": {
      "image/png": "[encoded data removed]",
      "text/plain": [
       "<Figure size 720x360 with 1 Axes>"
      ]
     },
     "metadata": {
      "needs_background": "light"
     },
     "output_type": "display_data"
    }
   ],
   "source": [
    "col=[2000,2006,2012,2021]\n",
    "plt.figure(figsize=(10, 5))\n",
    "for i in col:\n",
    "    sns.distplot(df_GHI[i],axlabel='Global Hunger Index')"
   ]
  },
  {
   "cell_type": "code",
   "execution_count": 27,
   "id": "faed3ff5",
   "metadata": {
    "execution": {
     "iopub.execute_input": "2023-01-06T06:57:54.211343Z",
     "iopub.status.busy": "2023-01-06T06:57:54.210390Z",
     "iopub.status.idle": "2023-01-06T06:57:54.569041Z",
     "shell.execute_reply": "2023-01-06T06:57:54.568172Z"
    },
    "papermill": {
     "duration": 0.391051,
     "end_time": "2023-01-06T06:57:54.575437",
     "exception": false,
     "start_time": "2023-01-06T06:57:54.184386",
     "status": "completed"
    },
    "tags": []
   },
   "outputs": [
    {
     "data": {
      "image/png": "[encoded data removed]",
      "text/plain": [
       "<Figure size 1152x720 with 1 Axes>"
      ]
     },
     "metadata": {
      "needs_background": "light"
     },
     "output_type": "display_data"
    }
   ],
   "source": [
    "df_GHI = pd.DataFrame(data=df_GHI)\n",
    "\n",
    "df_GHI.plot.line(x='Country',linestyle = ':', linewidth='3', figsize=(16, 10))\n",
    "\n",
    "plt.title('GHI by country')\n",
    "plt.show()"
   ]
  },
  {
   "cell_type": "code",
   "execution_count": 28,
   "id": "cf777af6",
   "metadata": {
    "execution": {
     "iopub.execute_input": "2023-01-06T06:57:54.639090Z",
     "iopub.status.busy": "2023-01-06T06:57:54.638384Z",
     "iopub.status.idle": "2023-01-06T06:57:54.865193Z",
     "shell.execute_reply": "2023-01-06T06:57:54.864098Z"
    },
    "papermill": {
     "duration": 0.260847,
     "end_time": "2023-01-06T06:57:54.867581",
     "exception": false,
     "start_time": "2023-01-06T06:57:54.606734",
     "status": "completed"
    },
    "tags": []
   },
   "outputs": [
    {
     "data": {
      "image/png": "[encoded data removed]",
      "text/plain": [
       "<Figure size 432x288 with 1 Axes>"
      ]
     },
     "metadata": {
      "needs_background": "light"
     },
     "output_type": "display_data"
    }
   ],
   "source": [
    "df_GHI[df_GHI[2000]>=50].sort_values(by=2000,ascending=True).plot.barh(y=2000,x='Country',legend=False);"
   ]
  },
  {
   "cell_type": "code",
   "execution_count": 29,
   "id": "56799f45",
   "metadata": {
    "execution": {
     "iopub.execute_input": "2023-01-06T06:57:54.930168Z",
     "iopub.status.busy": "2023-01-06T06:57:54.929749Z",
     "iopub.status.idle": "2023-01-06T06:57:55.116407Z",
     "shell.execute_reply": "2023-01-06T06:57:55.115456Z"
    },
    "papermill": {
     "duration": 0.221004,
     "end_time": "2023-01-06T06:57:55.119032",
     "exception": false,
     "start_time": "2023-01-06T06:57:54.898028",
     "status": "completed"
    },
    "tags": []
   },
   "outputs": [
    {
     "data": {
      "image/png": "[encoded data removed]",
      "text/plain": [
       "<Figure size 432x288 with 1 Axes>"
      ]
     },
     "metadata": {
      "needs_background": "light"
     },
     "output_type": "display_data"
    }
   ],
   "source": [
    "df_GHI[df_GHI[2021]>=50].sort_values(by=2021,ascending=True).plot.barh(y=2021,x='Country',legend=False);"
   ]
  },
  {
   "cell_type": "markdown",
   "id": "72c5dc51",
   "metadata": {
    "papermill": {
     "duration": 0.031096,
     "end_time": "2023-01-06T06:57:55.181390",
     "exception": false,
     "start_time": "2023-01-06T06:57:55.150294",
     "status": "completed"
    },
    "tags": []
   },
   "source": [
    "In 2021 Somalia is the only country in Extremely alarming category."
   ]
  },
  {
   "cell_type": "code",
   "execution_count": 30,
   "id": "f3037501",
   "metadata": {
    "execution": {
     "iopub.execute_input": "2023-01-06T06:57:55.245422Z",
     "iopub.status.busy": "2023-01-06T06:57:55.245003Z",
     "iopub.status.idle": "2023-01-06T06:57:56.016646Z",
     "shell.execute_reply": "2023-01-06T06:57:56.015520Z"
    },
    "papermill": {
     "duration": 0.806441,
     "end_time": "2023-01-06T06:57:56.019247",
     "exception": false,
     "start_time": "2023-01-06T06:57:55.212806",
     "status": "completed"
    },
    "tags": []
   },
   "outputs": [
    {
     "data": {
      "image/png": "[encoded data removed]",
      "text/plain": [
       "<Figure size 720x864 with 1 Axes>"
      ]
     },
     "metadata": {
      "needs_background": "light"
     },
     "output_type": "display_data"
    }
   ],
   "source": [
    "df_GHI[df_GHI[2021]>=20].sort_values(by=2021,ascending=True).plot.barh(y=2021,x='Country',legend=False,figsize=(10, 12) );"
   ]
  },
  {
   "cell_type": "markdown",
   "id": "25fe540e",
   "metadata": {
    "papermill": {
     "duration": 0.030795,
     "end_time": "2023-01-06T06:57:56.081625",
     "exception": false,
     "start_time": "2023-01-06T06:57:56.050830",
     "status": "completed"
    },
    "tags": []
   },
   "source": [
    "Ten counties, 8 from Africa and 2 from Asia are in alarming category in 2021."
   ]
  },
  {
   "cell_type": "markdown",
   "id": "2fbce533",
   "metadata": {
    "papermill": {
     "duration": 0.03134,
     "end_time": "2023-01-06T06:57:56.144022",
     "exception": false,
     "start_time": "2023-01-06T06:57:56.112682",
     "status": "completed"
    },
    "tags": []
   },
   "source": [
    "**Let's see countries in Low and Modelate categories**"
   ]
  },
  {
   "cell_type": "code",
   "execution_count": 31,
   "id": "3b90a063",
   "metadata": {
    "execution": {
     "iopub.execute_input": "2023-01-06T06:57:56.208554Z",
     "iopub.status.busy": "2023-01-06T06:57:56.208142Z",
     "iopub.status.idle": "2023-01-06T06:57:56.216458Z",
     "shell.execute_reply": "2023-01-06T06:57:56.215322Z"
    },
    "papermill": {
     "duration": 0.043367,
     "end_time": "2023-01-06T06:57:56.218786",
     "exception": false,
     "start_time": "2023-01-06T06:57:56.175419",
     "status": "completed"
    },
    "tags": []
   },
   "outputs": [
    {
     "data": {
      "text/plain": [
       "37"
      ]
     },
     "execution_count": 31,
     "metadata": {},
     "output_type": "execute_result"
    }
   ],
   "source": [
    "((df_GHI[2021] > 20) & (df_GHI[2021] < 35)).sum()"
   ]
  },
  {
   "cell_type": "markdown",
   "id": "21ba0c57",
   "metadata": {
    "papermill": {
     "duration": 0.030848,
     "end_time": "2023-01-06T06:57:56.282302",
     "exception": false,
     "start_time": "2023-01-06T06:57:56.251454",
     "status": "completed"
    },
    "tags": []
   },
   "source": [
    "In 2021, we have 81 countries in Moderate and Low categories."
   ]
  },
  {
   "cell_type": "code",
   "execution_count": 32,
   "id": "47aa8e3f",
   "metadata": {
    "execution": {
     "iopub.execute_input": "2023-01-06T06:57:56.346205Z",
     "iopub.status.busy": "2023-01-06T06:57:56.345748Z",
     "iopub.status.idle": "2023-01-06T06:57:57.278895Z",
     "shell.execute_reply": "2023-01-06T06:57:57.277640Z"
    },
    "papermill": {
     "duration": 0.969332,
     "end_time": "2023-01-06T06:57:57.282741",
     "exception": false,
     "start_time": "2023-01-06T06:57:56.313409",
     "status": "completed"
    },
    "tags": []
   },
   "outputs": [
    {
     "data": {
      "image/png": "[encoded data removed]",
      "text/plain": [
       "<Figure size 720x864 with 1 Axes>"
      ]
     },
     "metadata": {
      "needs_background": "light"
     },
     "output_type": "display_data"
    }
   ],
   "source": [
    "df_GHI[df_GHI[2021]< 10].sort_values(by=2021,ascending=True).plot.barh(y=2021,x='Country',legend=True, figsize=(10, 12));\n",
    "#plt.figure(figsize=(12, 50))"
   ]
  },
  {
   "cell_type": "code",
   "execution_count": 33,
   "id": "e253c101",
   "metadata": {
    "execution": {
     "iopub.execute_input": "2023-01-06T06:57:57.353484Z",
     "iopub.status.busy": "2023-01-06T06:57:57.353051Z",
     "iopub.status.idle": "2023-01-06T06:57:57.360597Z",
     "shell.execute_reply": "2023-01-06T06:57:57.359546Z"
    },
    "papermill": {
     "duration": 0.043666,
     "end_time": "2023-01-06T06:57:57.362920",
     "exception": false,
     "start_time": "2023-01-06T06:57:57.319254",
     "status": "completed"
    },
    "tags": []
   },
   "outputs": [
    {
     "data": {
      "text/plain": [
       "50"
      ]
     },
     "execution_count": 33,
     "metadata": {},
     "output_type": "execute_result"
    }
   ],
   "source": [
    "(df_GHI[2021] < 10).sum()"
   ]
  },
  {
   "cell_type": "markdown",
   "id": "5e02f9d7",
   "metadata": {
    "papermill": {
     "duration": 0.032505,
     "end_time": "2023-01-06T06:57:57.427888",
     "exception": false,
     "start_time": "2023-01-06T06:57:57.395383",
     "status": "completed"
    },
    "tags": []
   },
   "source": [
    "Only 50 countries in world are in low category in 2021."
   ]
  },
  {
   "cell_type": "code",
   "execution_count": 34,
   "id": "123289f9",
   "metadata": {
    "execution": {
     "iopub.execute_input": "2023-01-06T06:57:57.495198Z",
     "iopub.status.busy": "2023-01-06T06:57:57.494661Z",
     "iopub.status.idle": "2023-01-06T06:57:57.528754Z",
     "shell.execute_reply": "2023-01-06T06:57:57.527457Z"
    },
    "papermill": {
     "duration": 0.070391,
     "end_time": "2023-01-06T06:57:57.531351",
     "exception": false,
     "start_time": "2023-01-06T06:57:57.460960",
     "status": "completed"
    },
    "tags": []
   },
   "outputs": [
    {
     "data": {
      "text/html": [
       "<div>\n",
       "<style scoped>\n",
       "    .dataframe tbody tr th:only-of-type {\n",
       "        vertical-align: middle;\n",
       "    }\n",
       "\n",
       "    .dataframe tbody tr th {\n",
       "        vertical-align: top;\n",
       "    }\n",
       "\n",
       "    .dataframe thead th {\n",
       "        text-align: right;\n",
       "    }\n",
       "</style>\n",
       "<table border=\"1\" class=\"dataframe\">\n",
       "  <thead>\n",
       "    <tr style=\"text-align: right;\">\n",
       "      <th>Year</th>\n",
       "      <th>Country</th>\n",
       "      <th>2000</th>\n",
       "      <th>2006</th>\n",
       "      <th>2012</th>\n",
       "      <th>2021</th>\n",
       "    </tr>\n",
       "  </thead>\n",
       "  <tbody>\n",
       "    <tr>\n",
       "      <th>1</th>\n",
       "      <td>Albania</td>\n",
       "      <td>20.7</td>\n",
       "      <td>15.9</td>\n",
       "      <td>8.8</td>\n",
       "      <td>6.2</td>\n",
       "    </tr>\n",
       "    <tr>\n",
       "      <th>2</th>\n",
       "      <td>Algeria</td>\n",
       "      <td>14.5</td>\n",
       "      <td>11.7</td>\n",
       "      <td>8.9</td>\n",
       "      <td>6.9</td>\n",
       "    </tr>\n",
       "    <tr>\n",
       "      <th>4</th>\n",
       "      <td>Argentina</td>\n",
       "      <td>6.4</td>\n",
       "      <td>5.6</td>\n",
       "      <td>5.2</td>\n",
       "      <td>5.3</td>\n",
       "    </tr>\n",
       "    <tr>\n",
       "      <th>5</th>\n",
       "      <td>Armenia</td>\n",
       "      <td>19.3</td>\n",
       "      <td>13.3</td>\n",
       "      <td>10.4</td>\n",
       "      <td>7.2</td>\n",
       "    </tr>\n",
       "    <tr>\n",
       "      <th>6</th>\n",
       "      <td>Azerbaijan</td>\n",
       "      <td>25.0</td>\n",
       "      <td>15.9</td>\n",
       "      <td>10.6</td>\n",
       "      <td>7.5</td>\n",
       "    </tr>\n",
       "    <tr>\n",
       "      <th>8</th>\n",
       "      <td>Belarus</td>\n",
       "      <td>2.5</td>\n",
       "      <td>2.5</td>\n",
       "      <td>2.5</td>\n",
       "      <td>2.5</td>\n",
       "    </tr>\n",
       "    <tr>\n",
       "      <th>11</th>\n",
       "      <td>Bosnia and Herzegovina</td>\n",
       "      <td>9.3</td>\n",
       "      <td>6.7</td>\n",
       "      <td>2.5</td>\n",
       "      <td>2.5</td>\n",
       "    </tr>\n",
       "    <tr>\n",
       "      <th>13</th>\n",
       "      <td>Brazil</td>\n",
       "      <td>11.5</td>\n",
       "      <td>7.4</td>\n",
       "      <td>5.5</td>\n",
       "      <td>2.5</td>\n",
       "    </tr>\n",
       "    <tr>\n",
       "      <th>14</th>\n",
       "      <td>Bulgaria</td>\n",
       "      <td>8.6</td>\n",
       "      <td>8.1</td>\n",
       "      <td>7.8</td>\n",
       "      <td>6.1</td>\n",
       "    </tr>\n",
       "    <tr>\n",
       "      <th>22</th>\n",
       "      <td>Chile</td>\n",
       "      <td>2.5</td>\n",
       "      <td>2.5</td>\n",
       "      <td>2.5</td>\n",
       "      <td>2.5</td>\n",
       "    </tr>\n",
       "    <tr>\n",
       "      <th>23</th>\n",
       "      <td>China</td>\n",
       "      <td>13.3</td>\n",
       "      <td>9.0</td>\n",
       "      <td>2.5</td>\n",
       "      <td>2.5</td>\n",
       "    </tr>\n",
       "    <tr>\n",
       "      <th>24</th>\n",
       "      <td>Colombia</td>\n",
       "      <td>10.9</td>\n",
       "      <td>11.4</td>\n",
       "      <td>9.3</td>\n",
       "      <td>8.9</td>\n",
       "    </tr>\n",
       "    <tr>\n",
       "      <th>27</th>\n",
       "      <td>Costa Rica</td>\n",
       "      <td>7.0</td>\n",
       "      <td>5.5</td>\n",
       "      <td>2.5</td>\n",
       "      <td>5.3</td>\n",
       "    </tr>\n",
       "    <tr>\n",
       "      <th>29</th>\n",
       "      <td>Croatia</td>\n",
       "      <td>2.5</td>\n",
       "      <td>2.5</td>\n",
       "      <td>2.5</td>\n",
       "      <td>2.5</td>\n",
       "    </tr>\n",
       "    <tr>\n",
       "      <th>30</th>\n",
       "      <td>Cuba</td>\n",
       "      <td>2.5</td>\n",
       "      <td>2.5</td>\n",
       "      <td>2.5</td>\n",
       "      <td>2.5</td>\n",
       "    </tr>\n",
       "    <tr>\n",
       "      <th>33</th>\n",
       "      <td>Dominican Republic</td>\n",
       "      <td>15.1</td>\n",
       "      <td>13.2</td>\n",
       "      <td>10.2</td>\n",
       "      <td>8.0</td>\n",
       "    </tr>\n",
       "    <tr>\n",
       "      <th>36</th>\n",
       "      <td>El Salvador</td>\n",
       "      <td>14.7</td>\n",
       "      <td>12.0</td>\n",
       "      <td>10.4</td>\n",
       "      <td>8.9</td>\n",
       "    </tr>\n",
       "    <tr>\n",
       "      <th>37</th>\n",
       "      <td>Estonia</td>\n",
       "      <td>2.5</td>\n",
       "      <td>2.5</td>\n",
       "      <td>2.5</td>\n",
       "      <td>2.5</td>\n",
       "    </tr>\n",
       "    <tr>\n",
       "      <th>40</th>\n",
       "      <td>Fiji</td>\n",
       "      <td>9.6</td>\n",
       "      <td>9.0</td>\n",
       "      <td>8.1</td>\n",
       "      <td>8.6</td>\n",
       "    </tr>\n",
       "    <tr>\n",
       "      <th>43</th>\n",
       "      <td>Georgia</td>\n",
       "      <td>12.3</td>\n",
       "      <td>8.8</td>\n",
       "      <td>2.5</td>\n",
       "      <td>6.3</td>\n",
       "    </tr>\n",
       "    <tr>\n",
       "      <th>53</th>\n",
       "      <td>Iran</td>\n",
       "      <td>13.5</td>\n",
       "      <td>8.9</td>\n",
       "      <td>8.1</td>\n",
       "      <td>7.7</td>\n",
       "    </tr>\n",
       "    <tr>\n",
       "      <th>55</th>\n",
       "      <td>Jamaica</td>\n",
       "      <td>8.6</td>\n",
       "      <td>9.0</td>\n",
       "      <td>9.1</td>\n",
       "      <td>8.6</td>\n",
       "    </tr>\n",
       "    <tr>\n",
       "      <th>56</th>\n",
       "      <td>Jordan</td>\n",
       "      <td>10.8</td>\n",
       "      <td>8.1</td>\n",
       "      <td>8.5</td>\n",
       "      <td>8.3</td>\n",
       "    </tr>\n",
       "    <tr>\n",
       "      <th>57</th>\n",
       "      <td>Kazakhstan</td>\n",
       "      <td>11.2</td>\n",
       "      <td>12.3</td>\n",
       "      <td>8.1</td>\n",
       "      <td>6.4</td>\n",
       "    </tr>\n",
       "    <tr>\n",
       "      <th>59</th>\n",
       "      <td>Kuwait</td>\n",
       "      <td>2.5</td>\n",
       "      <td>2.5</td>\n",
       "      <td>2.5</td>\n",
       "      <td>2.5</td>\n",
       "    </tr>\n",
       "    <tr>\n",
       "      <th>60</th>\n",
       "      <td>Kyrgyzstan</td>\n",
       "      <td>18.3</td>\n",
       "      <td>13.9</td>\n",
       "      <td>11.7</td>\n",
       "      <td>8.6</td>\n",
       "    </tr>\n",
       "    <tr>\n",
       "      <th>62</th>\n",
       "      <td>Latvia</td>\n",
       "      <td>5.5</td>\n",
       "      <td>2.5</td>\n",
       "      <td>2.5</td>\n",
       "      <td>2.5</td>\n",
       "    </tr>\n",
       "    <tr>\n",
       "      <th>63</th>\n",
       "      <td>Lebanon</td>\n",
       "      <td>11.6</td>\n",
       "      <td>13.2</td>\n",
       "      <td>12.3</td>\n",
       "      <td>9.7</td>\n",
       "    </tr>\n",
       "    <tr>\n",
       "      <th>66</th>\n",
       "      <td>Lithuania</td>\n",
       "      <td>2.5</td>\n",
       "      <td>2.5</td>\n",
       "      <td>2.5</td>\n",
       "      <td>2.5</td>\n",
       "    </tr>\n",
       "    <tr>\n",
       "      <th>73</th>\n",
       "      <td>Mexico</td>\n",
       "      <td>10.2</td>\n",
       "      <td>8.6</td>\n",
       "      <td>7.8</td>\n",
       "      <td>8.5</td>\n",
       "    </tr>\n",
       "    <tr>\n",
       "      <th>75</th>\n",
       "      <td>Mongolia</td>\n",
       "      <td>30.2</td>\n",
       "      <td>23.4</td>\n",
       "      <td>12.8</td>\n",
       "      <td>6.1</td>\n",
       "    </tr>\n",
       "    <tr>\n",
       "      <th>77</th>\n",
       "      <td>Morocco</td>\n",
       "      <td>15.5</td>\n",
       "      <td>17.5</td>\n",
       "      <td>9.6</td>\n",
       "      <td>8.8</td>\n",
       "    </tr>\n",
       "    <tr>\n",
       "      <th>86</th>\n",
       "      <td>North Macedonia</td>\n",
       "      <td>7.5</td>\n",
       "      <td>7.7</td>\n",
       "      <td>2.5</td>\n",
       "      <td>2.5</td>\n",
       "    </tr>\n",
       "    <tr>\n",
       "      <th>89</th>\n",
       "      <td>Panama</td>\n",
       "      <td>18.7</td>\n",
       "      <td>15.0</td>\n",
       "      <td>10.1</td>\n",
       "      <td>8.9</td>\n",
       "    </tr>\n",
       "    <tr>\n",
       "      <th>91</th>\n",
       "      <td>Paraguay</td>\n",
       "      <td>11.7</td>\n",
       "      <td>11.6</td>\n",
       "      <td>9.5</td>\n",
       "      <td>7.5</td>\n",
       "    </tr>\n",
       "    <tr>\n",
       "      <th>92</th>\n",
       "      <td>Peru</td>\n",
       "      <td>20.6</td>\n",
       "      <td>16.4</td>\n",
       "      <td>9.2</td>\n",
       "      <td>8.0</td>\n",
       "    </tr>\n",
       "    <tr>\n",
       "      <th>94</th>\n",
       "      <td>Romania</td>\n",
       "      <td>7.9</td>\n",
       "      <td>5.9</td>\n",
       "      <td>5.0</td>\n",
       "      <td>2.5</td>\n",
       "    </tr>\n",
       "    <tr>\n",
       "      <th>95</th>\n",
       "      <td>Russia</td>\n",
       "      <td>10.1</td>\n",
       "      <td>7.1</td>\n",
       "      <td>6.4</td>\n",
       "      <td>6.2</td>\n",
       "    </tr>\n",
       "    <tr>\n",
       "      <th>97</th>\n",
       "      <td>Saudi Arabia</td>\n",
       "      <td>11.0</td>\n",
       "      <td>12.1</td>\n",
       "      <td>8.2</td>\n",
       "      <td>6.8</td>\n",
       "    </tr>\n",
       "    <tr>\n",
       "      <th>101</th>\n",
       "      <td>Slovakia</td>\n",
       "      <td>6.0</td>\n",
       "      <td>5.3</td>\n",
       "      <td>2.5</td>\n",
       "      <td>2.5</td>\n",
       "    </tr>\n",
       "    <tr>\n",
       "      <th>115</th>\n",
       "      <td>Trinidad and Tobago</td>\n",
       "      <td>11.0</td>\n",
       "      <td>11.3</td>\n",
       "      <td>10.8</td>\n",
       "      <td>8.9</td>\n",
       "    </tr>\n",
       "    <tr>\n",
       "      <th>116</th>\n",
       "      <td>Tunisia</td>\n",
       "      <td>10.3</td>\n",
       "      <td>7.8</td>\n",
       "      <td>7.0</td>\n",
       "      <td>6.0</td>\n",
       "    </tr>\n",
       "    <tr>\n",
       "      <th>117</th>\n",
       "      <td>Turkey</td>\n",
       "      <td>10.2</td>\n",
       "      <td>6.5</td>\n",
       "      <td>5.0</td>\n",
       "      <td>2.5</td>\n",
       "    </tr>\n",
       "    <tr>\n",
       "      <th>118</th>\n",
       "      <td>Turkmenistan</td>\n",
       "      <td>20.1</td>\n",
       "      <td>14.8</td>\n",
       "      <td>11.9</td>\n",
       "      <td>9.7</td>\n",
       "    </tr>\n",
       "    <tr>\n",
       "      <th>120</th>\n",
       "      <td>Ukraine</td>\n",
       "      <td>13.0</td>\n",
       "      <td>7.1</td>\n",
       "      <td>6.9</td>\n",
       "      <td>6.8</td>\n",
       "    </tr>\n",
       "    <tr>\n",
       "      <th>121</th>\n",
       "      <td>Uruguay</td>\n",
       "      <td>7.4</td>\n",
       "      <td>6.7</td>\n",
       "      <td>5.0</td>\n",
       "      <td>2.5</td>\n",
       "    </tr>\n",
       "    <tr>\n",
       "      <th>122</th>\n",
       "      <td>Uzbekistan</td>\n",
       "      <td>24.3</td>\n",
       "      <td>16.6</td>\n",
       "      <td>9.5</td>\n",
       "      <td>5.9</td>\n",
       "    </tr>\n",
       "  </tbody>\n",
       "</table>\n",
       "</div>"
      ],
      "text/plain": [
       "Year                 Country  2000  2006  2012  2021\n",
       "1                    Albania  20.7  15.9   8.8   6.2\n",
       "2                    Algeria  14.5  11.7   8.9   6.9\n",
       "4                  Argentina   6.4   5.6   5.2   5.3\n",
       "5                    Armenia  19.3  13.3  10.4   7.2\n",
       "6                 Azerbaijan  25.0  15.9  10.6   7.5\n",
       "8                    Belarus   2.5   2.5   2.5   2.5\n",
       "11    Bosnia and Herzegovina   9.3   6.7   2.5   2.5\n",
       "13                    Brazil  11.5   7.4   5.5   2.5\n",
       "14                  Bulgaria   8.6   8.1   7.8   6.1\n",
       "22                     Chile   2.5   2.5   2.5   2.5\n",
       "23                     China  13.3   9.0   2.5   2.5\n",
       "24                  Colombia  10.9  11.4   9.3   8.9\n",
       "27                Costa Rica   7.0   5.5   2.5   5.3\n",
       "29                   Croatia   2.5   2.5   2.5   2.5\n",
       "30                      Cuba   2.5   2.5   2.5   2.5\n",
       "33        Dominican Republic  15.1  13.2  10.2   8.0\n",
       "36               El Salvador  14.7  12.0  10.4   8.9\n",
       "37                   Estonia   2.5   2.5   2.5   2.5\n",
       "40                      Fiji   9.6   9.0   8.1   8.6\n",
       "43                   Georgia  12.3   8.8   2.5   6.3\n",
       "53                      Iran  13.5   8.9   8.1   7.7\n",
       "55                   Jamaica   8.6   9.0   9.1   8.6\n",
       "56                    Jordan  10.8   8.1   8.5   8.3\n",
       "57                Kazakhstan  11.2  12.3   8.1   6.4\n",
       "59                    Kuwait   2.5   2.5   2.5   2.5\n",
       "60                Kyrgyzstan  18.3  13.9  11.7   8.6\n",
       "62                    Latvia   5.5   2.5   2.5   2.5\n",
       "63                   Lebanon  11.6  13.2  12.3   9.7\n",
       "66                 Lithuania   2.5   2.5   2.5   2.5\n",
       "73                    Mexico  10.2   8.6   7.8   8.5\n",
       "75                  Mongolia  30.2  23.4  12.8   6.1\n",
       "77                   Morocco  15.5  17.5   9.6   8.8\n",
       "86           North Macedonia   7.5   7.7   2.5   2.5\n",
       "89                    Panama  18.7  15.0  10.1   8.9\n",
       "91                  Paraguay  11.7  11.6   9.5   7.5\n",
       "92                      Peru  20.6  16.4   9.2   8.0\n",
       "94                   Romania   7.9   5.9   5.0   2.5\n",
       "95                    Russia  10.1   7.1   6.4   6.2\n",
       "97              Saudi Arabia  11.0  12.1   8.2   6.8\n",
       "101                 Slovakia   6.0   5.3   2.5   2.5\n",
       "115      Trinidad and Tobago  11.0  11.3  10.8   8.9\n",
       "116                  Tunisia  10.3   7.8   7.0   6.0\n",
       "117                   Turkey  10.2   6.5   5.0   2.5\n",
       "118             Turkmenistan  20.1  14.8  11.9   9.7\n",
       "120                  Ukraine  13.0   7.1   6.9   6.8\n",
       "121                  Uruguay   7.4   6.7   5.0   2.5\n",
       "122               Uzbekistan  24.3  16.6   9.5   5.9"
      ]
     },
     "execution_count": 34,
     "metadata": {},
     "output_type": "execute_result"
    }
   ],
   "source": [
    "Low_Countries = df_GHI.where (df_GHI[2021] < 10)\n",
    "Low_Countries = Low_Countries.dropna()\n",
    "Low_Countries\n"
   ]
  },
  {
   "cell_type": "markdown",
   "id": "d8aa641f",
   "metadata": {
    "papermill": {
     "duration": 0.032093,
     "end_time": "2023-01-06T06:57:57.596293",
     "exception": false,
     "start_time": "2023-01-06T06:57:57.564200",
     "status": "completed"
    },
    "tags": []
   },
   "source": [
    "**UN target in 2021 is to achieve GHI of 18.5 for all countries**"
   ]
  },
  {
   "cell_type": "markdown",
   "id": "0100c3e1",
   "metadata": {
    "papermill": {
     "duration": 0.032458,
     "end_time": "2023-01-06T06:57:57.661324",
     "exception": false,
     "start_time": "2023-01-06T06:57:57.628866",
     "status": "completed"
    },
    "tags": []
   },
   "source": [
    "**How many countries are above the target in 2021?**\n",
    "\n",
    "The target in 2021 is that at least all countries should have GHI of 18.5."
   ]
  },
  {
   "cell_type": "code",
   "execution_count": 35,
   "id": "a07ba04c",
   "metadata": {
    "execution": {
     "iopub.execute_input": "2023-01-06T06:57:57.729409Z",
     "iopub.status.busy": "2023-01-06T06:57:57.728589Z",
     "iopub.status.idle": "2023-01-06T06:57:57.758277Z",
     "shell.execute_reply": "2023-01-06T06:57:57.757204Z"
    },
    "papermill": {
     "duration": 0.066488,
     "end_time": "2023-01-06T06:57:57.760653",
     "exception": false,
     "start_time": "2023-01-06T06:57:57.694165",
     "status": "completed"
    },
    "tags": []
   },
   "outputs": [
    {
     "data": {
      "text/html": [
       "<div>\n",
       "<style scoped>\n",
       "    .dataframe tbody tr th:only-of-type {\n",
       "        vertical-align: middle;\n",
       "    }\n",
       "\n",
       "    .dataframe tbody tr th {\n",
       "        vertical-align: top;\n",
       "    }\n",
       "\n",
       "    .dataframe thead th {\n",
       "        text-align: right;\n",
       "    }\n",
       "</style>\n",
       "<table border=\"1\" class=\"dataframe\">\n",
       "  <thead>\n",
       "    <tr style=\"text-align: right;\">\n",
       "      <th>Year</th>\n",
       "      <th>Country</th>\n",
       "      <th>2000</th>\n",
       "      <th>2006</th>\n",
       "      <th>2012</th>\n",
       "      <th>2021</th>\n",
       "    </tr>\n",
       "  </thead>\n",
       "  <tbody>\n",
       "    <tr>\n",
       "      <th>0</th>\n",
       "      <td>Afghanistan</td>\n",
       "      <td>50.9</td>\n",
       "      <td>42.7</td>\n",
       "      <td>34.3</td>\n",
       "      <td>28.3</td>\n",
       "    </tr>\n",
       "    <tr>\n",
       "      <th>3</th>\n",
       "      <td>Angola</td>\n",
       "      <td>65.0</td>\n",
       "      <td>46.9</td>\n",
       "      <td>27.8</td>\n",
       "      <td>26.0</td>\n",
       "    </tr>\n",
       "    <tr>\n",
       "      <th>7</th>\n",
       "      <td>Bangladesh</td>\n",
       "      <td>34.0</td>\n",
       "      <td>28.9</td>\n",
       "      <td>28.6</td>\n",
       "      <td>19.1</td>\n",
       "    </tr>\n",
       "    <tr>\n",
       "      <th>9</th>\n",
       "      <td>Benin</td>\n",
       "      <td>34.0</td>\n",
       "      <td>27.7</td>\n",
       "      <td>24.0</td>\n",
       "      <td>22.2</td>\n",
       "    </tr>\n",
       "    <tr>\n",
       "      <th>12</th>\n",
       "      <td>Botswana</td>\n",
       "      <td>26.7</td>\n",
       "      <td>26.2</td>\n",
       "      <td>24.3</td>\n",
       "      <td>23.2</td>\n",
       "    </tr>\n",
       "    <tr>\n",
       "      <th>15</th>\n",
       "      <td>Burkina Faso</td>\n",
       "      <td>44.9</td>\n",
       "      <td>35.8</td>\n",
       "      <td>29.7</td>\n",
       "      <td>24.5</td>\n",
       "    </tr>\n",
       "    <tr>\n",
       "      <th>18</th>\n",
       "      <td>Cameroon</td>\n",
       "      <td>35.7</td>\n",
       "      <td>30.9</td>\n",
       "      <td>23.1</td>\n",
       "      <td>18.6</td>\n",
       "    </tr>\n",
       "    <tr>\n",
       "      <th>20</th>\n",
       "      <td>Central African Republic</td>\n",
       "      <td>48.9</td>\n",
       "      <td>48.0</td>\n",
       "      <td>40.5</td>\n",
       "      <td>43.0</td>\n",
       "    </tr>\n",
       "    <tr>\n",
       "      <th>21</th>\n",
       "      <td>Chad</td>\n",
       "      <td>50.8</td>\n",
       "      <td>51.2</td>\n",
       "      <td>45.7</td>\n",
       "      <td>39.6</td>\n",
       "    </tr>\n",
       "    <tr>\n",
       "      <th>26</th>\n",
       "      <td>Congo</td>\n",
       "      <td>34.9</td>\n",
       "      <td>34.6</td>\n",
       "      <td>28.5</td>\n",
       "      <td>30.3</td>\n",
       "    </tr>\n",
       "    <tr>\n",
       "      <th>28</th>\n",
       "      <td>Cote d'Ivoire</td>\n",
       "      <td>33.3</td>\n",
       "      <td>37.1</td>\n",
       "      <td>30.0</td>\n",
       "      <td>22.3</td>\n",
       "    </tr>\n",
       "    <tr>\n",
       "      <th>31</th>\n",
       "      <td>Democratic Republic of Congo</td>\n",
       "      <td>50.6</td>\n",
       "      <td>45.3</td>\n",
       "      <td>42.3</td>\n",
       "      <td>39.0</td>\n",
       "    </tr>\n",
       "    <tr>\n",
       "      <th>32</th>\n",
       "      <td>Djibouti</td>\n",
       "      <td>44.3</td>\n",
       "      <td>36.9</td>\n",
       "      <td>35.4</td>\n",
       "      <td>27.4</td>\n",
       "    </tr>\n",
       "    <tr>\n",
       "      <th>39</th>\n",
       "      <td>Ethiopia</td>\n",
       "      <td>53.5</td>\n",
       "      <td>43.4</td>\n",
       "      <td>33.5</td>\n",
       "      <td>24.1</td>\n",
       "    </tr>\n",
       "    <tr>\n",
       "      <th>45</th>\n",
       "      <td>Guatemala</td>\n",
       "      <td>28.4</td>\n",
       "      <td>24.6</td>\n",
       "      <td>22.0</td>\n",
       "      <td>19.6</td>\n",
       "    </tr>\n",
       "    <tr>\n",
       "      <th>49</th>\n",
       "      <td>Haiti</td>\n",
       "      <td>42.0</td>\n",
       "      <td>43.6</td>\n",
       "      <td>35.2</td>\n",
       "      <td>32.8</td>\n",
       "    </tr>\n",
       "    <tr>\n",
       "      <th>51</th>\n",
       "      <td>India</td>\n",
       "      <td>38.8</td>\n",
       "      <td>37.4</td>\n",
       "      <td>28.8</td>\n",
       "      <td>27.5</td>\n",
       "    </tr>\n",
       "    <tr>\n",
       "      <th>54</th>\n",
       "      <td>Iraq</td>\n",
       "      <td>23.9</td>\n",
       "      <td>23.9</td>\n",
       "      <td>27.5</td>\n",
       "      <td>22.8</td>\n",
       "    </tr>\n",
       "    <tr>\n",
       "      <th>58</th>\n",
       "      <td>Kenya</td>\n",
       "      <td>36.7</td>\n",
       "      <td>31.2</td>\n",
       "      <td>25.4</td>\n",
       "      <td>23.0</td>\n",
       "    </tr>\n",
       "    <tr>\n",
       "      <th>61</th>\n",
       "      <td>Laos</td>\n",
       "      <td>44.1</td>\n",
       "      <td>31.9</td>\n",
       "      <td>25.7</td>\n",
       "      <td>19.5</td>\n",
       "    </tr>\n",
       "    <tr>\n",
       "      <th>64</th>\n",
       "      <td>Lesotho</td>\n",
       "      <td>32.5</td>\n",
       "      <td>29.6</td>\n",
       "      <td>24.6</td>\n",
       "      <td>27.4</td>\n",
       "    </tr>\n",
       "    <tr>\n",
       "      <th>65</th>\n",
       "      <td>Liberia</td>\n",
       "      <td>48.1</td>\n",
       "      <td>40.0</td>\n",
       "      <td>35.0</td>\n",
       "      <td>33.3</td>\n",
       "    </tr>\n",
       "    <tr>\n",
       "      <th>67</th>\n",
       "      <td>Madagascar</td>\n",
       "      <td>42.8</td>\n",
       "      <td>41.6</td>\n",
       "      <td>34.3</td>\n",
       "      <td>36.3</td>\n",
       "    </tr>\n",
       "    <tr>\n",
       "      <th>68</th>\n",
       "      <td>Malawi</td>\n",
       "      <td>43.1</td>\n",
       "      <td>33.5</td>\n",
       "      <td>26.2</td>\n",
       "      <td>21.3</td>\n",
       "    </tr>\n",
       "    <tr>\n",
       "      <th>70</th>\n",
       "      <td>Mali</td>\n",
       "      <td>41.7</td>\n",
       "      <td>36.8</td>\n",
       "      <td>24.8</td>\n",
       "      <td>24.7</td>\n",
       "    </tr>\n",
       "    <tr>\n",
       "      <th>71</th>\n",
       "      <td>Mauritania</td>\n",
       "      <td>31.9</td>\n",
       "      <td>28.9</td>\n",
       "      <td>23.6</td>\n",
       "      <td>22.6</td>\n",
       "    </tr>\n",
       "    <tr>\n",
       "      <th>78</th>\n",
       "      <td>Mozambique</td>\n",
       "      <td>48.0</td>\n",
       "      <td>38.2</td>\n",
       "      <td>31.5</td>\n",
       "      <td>31.3</td>\n",
       "    </tr>\n",
       "    <tr>\n",
       "      <th>80</th>\n",
       "      <td>Namibia</td>\n",
       "      <td>25.3</td>\n",
       "      <td>25.8</td>\n",
       "      <td>26.6</td>\n",
       "      <td>20.2</td>\n",
       "    </tr>\n",
       "    <tr>\n",
       "      <th>81</th>\n",
       "      <td>Nepal</td>\n",
       "      <td>37.4</td>\n",
       "      <td>30.9</td>\n",
       "      <td>23.1</td>\n",
       "      <td>19.1</td>\n",
       "    </tr>\n",
       "    <tr>\n",
       "      <th>84</th>\n",
       "      <td>Nigeria</td>\n",
       "      <td>39.5</td>\n",
       "      <td>32.5</td>\n",
       "      <td>30.4</td>\n",
       "      <td>28.3</td>\n",
       "    </tr>\n",
       "    <tr>\n",
       "      <th>85</th>\n",
       "      <td>North Korea</td>\n",
       "      <td>39.5</td>\n",
       "      <td>33.1</td>\n",
       "      <td>29.1</td>\n",
       "      <td>25.2</td>\n",
       "    </tr>\n",
       "    <tr>\n",
       "      <th>88</th>\n",
       "      <td>Pakistan</td>\n",
       "      <td>36.7</td>\n",
       "      <td>33.1</td>\n",
       "      <td>32.1</td>\n",
       "      <td>24.7</td>\n",
       "    </tr>\n",
       "    <tr>\n",
       "      <th>90</th>\n",
       "      <td>Papua New Guinea</td>\n",
       "      <td>33.6</td>\n",
       "      <td>30.3</td>\n",
       "      <td>33.7</td>\n",
       "      <td>27.8</td>\n",
       "    </tr>\n",
       "    <tr>\n",
       "      <th>96</th>\n",
       "      <td>Rwanda</td>\n",
       "      <td>49.3</td>\n",
       "      <td>38.3</td>\n",
       "      <td>31.0</td>\n",
       "      <td>26.4</td>\n",
       "    </tr>\n",
       "    <tr>\n",
       "      <th>100</th>\n",
       "      <td>Sierra Leone</td>\n",
       "      <td>57.7</td>\n",
       "      <td>52.7</td>\n",
       "      <td>34.7</td>\n",
       "      <td>31.3</td>\n",
       "    </tr>\n",
       "    <tr>\n",
       "      <th>102</th>\n",
       "      <td>Solomon Islands</td>\n",
       "      <td>20.0</td>\n",
       "      <td>18.2</td>\n",
       "      <td>20.2</td>\n",
       "      <td>18.8</td>\n",
       "    </tr>\n",
       "    <tr>\n",
       "      <th>103</th>\n",
       "      <td>Somalia</td>\n",
       "      <td>58.1</td>\n",
       "      <td>57.9</td>\n",
       "      <td>65.1</td>\n",
       "      <td>50.8</td>\n",
       "    </tr>\n",
       "    <tr>\n",
       "      <th>111</th>\n",
       "      <td>Tanzania</td>\n",
       "      <td>40.6</td>\n",
       "      <td>33.6</td>\n",
       "      <td>29.1</td>\n",
       "      <td>24.7</td>\n",
       "    </tr>\n",
       "    <tr>\n",
       "      <th>114</th>\n",
       "      <td>Togo</td>\n",
       "      <td>39.1</td>\n",
       "      <td>36.5</td>\n",
       "      <td>25.3</td>\n",
       "      <td>23.7</td>\n",
       "    </tr>\n",
       "    <tr>\n",
       "      <th>123</th>\n",
       "      <td>Venezuela</td>\n",
       "      <td>14.6</td>\n",
       "      <td>11.2</td>\n",
       "      <td>7.4</td>\n",
       "      <td>22.2</td>\n",
       "    </tr>\n",
       "    <tr>\n",
       "      <th>125</th>\n",
       "      <td>Yemen</td>\n",
       "      <td>41.0</td>\n",
       "      <td>38.8</td>\n",
       "      <td>38.4</td>\n",
       "      <td>45.1</td>\n",
       "    </tr>\n",
       "  </tbody>\n",
       "</table>\n",
       "</div>"
      ],
      "text/plain": [
       "Year                       Country  2000  2006  2012  2021\n",
       "0                      Afghanistan  50.9  42.7  34.3  28.3\n",
       "3                           Angola  65.0  46.9  27.8  26.0\n",
       "7                       Bangladesh  34.0  28.9  28.6  19.1\n",
       "9                            Benin  34.0  27.7  24.0  22.2\n",
       "12                        Botswana  26.7  26.2  24.3  23.2\n",
       "15                    Burkina Faso  44.9  35.8  29.7  24.5\n",
       "18                        Cameroon  35.7  30.9  23.1  18.6\n",
       "20        Central African Republic  48.9  48.0  40.5  43.0\n",
       "21                            Chad  50.8  51.2  45.7  39.6\n",
       "26                           Congo  34.9  34.6  28.5  30.3\n",
       "28                   Cote d'Ivoire  33.3  37.1  30.0  22.3\n",
       "31    Democratic Republic of Congo  50.6  45.3  42.3  39.0\n",
       "32                        Djibouti  44.3  36.9  35.4  27.4\n",
       "39                        Ethiopia  53.5  43.4  33.5  24.1\n",
       "45                       Guatemala  28.4  24.6  22.0  19.6\n",
       "49                           Haiti  42.0  43.6  35.2  32.8\n",
       "51                           India  38.8  37.4  28.8  27.5\n",
       "54                            Iraq  23.9  23.9  27.5  22.8\n",
       "58                           Kenya  36.7  31.2  25.4  23.0\n",
       "61                            Laos  44.1  31.9  25.7  19.5\n",
       "64                         Lesotho  32.5  29.6  24.6  27.4\n",
       "65                         Liberia  48.1  40.0  35.0  33.3\n",
       "67                      Madagascar  42.8  41.6  34.3  36.3\n",
       "68                          Malawi  43.1  33.5  26.2  21.3\n",
       "70                            Mali  41.7  36.8  24.8  24.7\n",
       "71                      Mauritania  31.9  28.9  23.6  22.6\n",
       "78                      Mozambique  48.0  38.2  31.5  31.3\n",
       "80                         Namibia  25.3  25.8  26.6  20.2\n",
       "81                           Nepal  37.4  30.9  23.1  19.1\n",
       "84                         Nigeria  39.5  32.5  30.4  28.3\n",
       "85                     North Korea  39.5  33.1  29.1  25.2\n",
       "88                        Pakistan  36.7  33.1  32.1  24.7\n",
       "90                Papua New Guinea  33.6  30.3  33.7  27.8\n",
       "96                          Rwanda  49.3  38.3  31.0  26.4\n",
       "100                   Sierra Leone  57.7  52.7  34.7  31.3\n",
       "102                Solomon Islands  20.0  18.2  20.2  18.8\n",
       "103                        Somalia  58.1  57.9  65.1  50.8\n",
       "111                       Tanzania  40.6  33.6  29.1  24.7\n",
       "114                           Togo  39.1  36.5  25.3  23.7\n",
       "123                      Venezuela  14.6  11.2   7.4  22.2\n",
       "125                          Yemen  41.0  38.8  38.4  45.1"
      ]
     },
     "execution_count": 35,
     "metadata": {},
     "output_type": "execute_result"
    }
   ],
   "source": [
    "High_Countries = df_GHI.where (df_GHI[2021] > 18.5)\n",
    "High_Countries = High_Countries.dropna()\n",
    "High_Countries"
   ]
  },
  {
   "cell_type": "code",
   "execution_count": 36,
   "id": "a6ccfff2",
   "metadata": {
    "execution": {
     "iopub.execute_input": "2023-01-06T06:57:57.830983Z",
     "iopub.status.busy": "2023-01-06T06:57:57.829890Z",
     "iopub.status.idle": "2023-01-06T06:57:57.836797Z",
     "shell.execute_reply": "2023-01-06T06:57:57.835933Z"
    },
    "papermill": {
     "duration": 0.044156,
     "end_time": "2023-01-06T06:57:57.838939",
     "exception": false,
     "start_time": "2023-01-06T06:57:57.794783",
     "status": "completed"
    },
    "tags": []
   },
   "outputs": [
    {
     "data": {
      "text/plain": [
       "41"
      ]
     },
     "execution_count": 36,
     "metadata": {},
     "output_type": "execute_result"
    }
   ],
   "source": [
    "High_Countries[2021].count()"
   ]
  },
  {
   "cell_type": "markdown",
   "id": "6087a610",
   "metadata": {
    "papermill": {
     "duration": 0.032529,
     "end_time": "2023-01-06T06:57:57.904888",
     "exception": false,
     "start_time": "2023-01-06T06:57:57.872359",
     "status": "completed"
    },
    "tags": []
   },
   "source": [
    "In 2021, there 41 countries which are not meeting the UN target."
   ]
  },
  {
   "cell_type": "markdown",
   "id": "f153b54d",
   "metadata": {
    "papermill": {
     "duration": 0.032719,
     "end_time": "2023-01-06T06:57:57.970574",
     "exception": false,
     "start_time": "2023-01-06T06:57:57.937855",
     "status": "completed"
    },
    "tags": []
   },
   "source": [
    "**Learnings from Global Hunger Index 2021**\n",
    "\n",
    "Based on current Global Hunger Index projections, the world and 41 nations, in particular, will fail to achieve a level of Zero hunger by 2030.\n",
    "\n",
    "The analysis shows current setbacks against poverty and showcases the trouble ahead.\n",
    "* In Europe, Latin America, Central Asia, the Caribbean, East and West Asia, Southeast Asia, and North Africa, hunger levels or poverty are low or moderate.\n",
    "* Country Somalia suffers from an extremely alarming level of food poverty.\n",
    "* Hunger is alarming in 7 nations: Yemen, Central African Republic, Syria, South Sudan, Comoros, Burundi, Chad, Democratic Republic of Congo, and Madagascar."
   ]
  },
  {
   "cell_type": "markdown",
   "id": "d541b299",
   "metadata": {
    "papermill": {
     "duration": 0.032536,
     "end_time": "2023-01-06T06:57:58.036111",
     "exception": false,
     "start_time": "2023-01-06T06:57:58.003575",
     "status": "completed"
    },
    "tags": []
   },
   "source": [
    "**What is the UN target in 2030?**\n"
   ]
  },
  {
   "cell_type": "markdown",
   "id": "e524d171",
   "metadata": {
    "papermill": {
     "duration": 0.033099,
     "end_time": "2023-01-06T06:57:58.103698",
     "exception": false,
     "start_time": "2023-01-06T06:57:58.070599",
     "status": "completed"
    },
    "tags": []
   },
   "source": [
    "The UN target in 2030 is simple. Zero hunger on the globe."
   ]
  },
  {
   "cell_type": "markdown",
   "id": "79a90daf",
   "metadata": {
    "papermill": {
     "duration": 0.032913,
     "end_time": "2023-01-06T06:57:58.169755",
     "exception": false,
     "start_time": "2023-01-06T06:57:58.136842",
     "status": "completed"
    },
    "tags": []
   },
   "source": [
    "The number of people affected by hunger globally rose to as many as 828 million in 2021, an increase of about 46 million since 2020 and 150 million since the outbreak of the COVID-19 pandemic([resource](https://www.who.int/news/item/06-07-2022-un-report--global-hunger-numbers-rose-to-as-many-as-828-million-in-2021), according to a United Nations report that provides fresh evidence that the world is moving further away from its goal of ending hunger, food insecurity and malnutrition in all its forms by 2030."
   ]
  },
  {
   "cell_type": "markdown",
   "id": "c4c4cd80",
   "metadata": {
    "papermill": {
     "duration": 0.032911,
     "end_time": "2023-01-06T06:57:58.235836",
     "exception": false,
     "start_time": "2023-01-06T06:57:58.202925",
     "status": "completed"
    },
    "tags": []
   },
   "source": [
    "# **Linear Regression Model**"
   ]
  },
  {
   "cell_type": "markdown",
   "id": "8d0a7caa",
   "metadata": {
    "papermill": {
     "duration": 0.032679,
     "end_time": "2023-01-06T06:57:58.301999",
     "exception": false,
     "start_time": "2023-01-06T06:57:58.269320",
     "status": "completed"
    },
    "tags": []
   },
   "source": [
    "**Splitting the data**"
   ]
  },
  {
   "cell_type": "code",
   "execution_count": 37,
   "id": "f42b191a",
   "metadata": {
    "execution": {
     "iopub.execute_input": "2023-01-06T06:57:58.370318Z",
     "iopub.status.busy": "2023-01-06T06:57:58.369225Z",
     "iopub.status.idle": "2023-01-06T06:57:58.381291Z",
     "shell.execute_reply": "2023-01-06T06:57:58.380395Z"
    },
    "papermill": {
     "duration": 0.048509,
     "end_time": "2023-01-06T06:57:58.383496",
     "exception": false,
     "start_time": "2023-01-06T06:57:58.334987",
     "status": "completed"
    },
    "tags": []
   },
   "outputs": [],
   "source": [
    "X = df_GHI.dropna(axis=1)\n",
    "y = df_GHI.dropna(axis=1)\n",
    "\n",
    "X = df_GHI.drop('Country',axis=1)\n",
    "y = df_GHI.drop('Country',axis=1)\n",
    "X_train,X_test,y_train,y_test=train_test_split(X,y,random_state=0,test_size=0.50)"
   ]
  },
  {
   "cell_type": "code",
   "execution_count": 38,
   "id": "4cc1b8d5",
   "metadata": {
    "execution": {
     "iopub.execute_input": "2023-01-06T06:57:58.451416Z",
     "iopub.status.busy": "2023-01-06T06:57:58.450969Z",
     "iopub.status.idle": "2023-01-06T06:57:58.467633Z",
     "shell.execute_reply": "2023-01-06T06:57:58.466441Z"
    },
    "papermill": {
     "duration": 0.053432,
     "end_time": "2023-01-06T06:57:58.469965",
     "exception": false,
     "start_time": "2023-01-06T06:57:58.416533",
     "status": "completed"
    },
    "tags": []
   },
   "outputs": [
    {
     "data": {
      "text/html": [
       "<div>\n",
       "<style scoped>\n",
       "    .dataframe tbody tr th:only-of-type {\n",
       "        vertical-align: middle;\n",
       "    }\n",
       "\n",
       "    .dataframe tbody tr th {\n",
       "        vertical-align: top;\n",
       "    }\n",
       "\n",
       "    .dataframe thead th {\n",
       "        text-align: right;\n",
       "    }\n",
       "</style>\n",
       "<table border=\"1\" class=\"dataframe\">\n",
       "  <thead>\n",
       "    <tr style=\"text-align: right;\">\n",
       "      <th>Year</th>\n",
       "      <th>2000</th>\n",
       "      <th>2006</th>\n",
       "      <th>2012</th>\n",
       "      <th>2021</th>\n",
       "    </tr>\n",
       "  </thead>\n",
       "  <tbody>\n",
       "    <tr>\n",
       "      <th>4</th>\n",
       "      <td>6.4</td>\n",
       "      <td>5.6</td>\n",
       "      <td>5.2</td>\n",
       "      <td>5.3</td>\n",
       "    </tr>\n",
       "    <tr>\n",
       "      <th>17</th>\n",
       "      <td>41.1</td>\n",
       "      <td>27.1</td>\n",
       "      <td>24.2</td>\n",
       "      <td>17.0</td>\n",
       "    </tr>\n",
       "    <tr>\n",
       "      <th>38</th>\n",
       "      <td>24.5</td>\n",
       "      <td>23.2</td>\n",
       "      <td>21.8</td>\n",
       "      <td>17.0</td>\n",
       "    </tr>\n",
       "    <tr>\n",
       "      <th>5</th>\n",
       "      <td>19.3</td>\n",
       "      <td>13.3</td>\n",
       "      <td>10.4</td>\n",
       "      <td>7.2</td>\n",
       "    </tr>\n",
       "    <tr>\n",
       "      <th>53</th>\n",
       "      <td>13.5</td>\n",
       "      <td>8.9</td>\n",
       "      <td>8.1</td>\n",
       "      <td>7.7</td>\n",
       "    </tr>\n",
       "    <tr>\n",
       "      <th>...</th>\n",
       "      <td>...</td>\n",
       "      <td>...</td>\n",
       "      <td>...</td>\n",
       "      <td>...</td>\n",
       "    </tr>\n",
       "    <tr>\n",
       "      <th>67</th>\n",
       "      <td>42.8</td>\n",
       "      <td>41.6</td>\n",
       "      <td>34.3</td>\n",
       "      <td>36.3</td>\n",
       "    </tr>\n",
       "    <tr>\n",
       "      <th>64</th>\n",
       "      <td>32.5</td>\n",
       "      <td>29.6</td>\n",
       "      <td>24.6</td>\n",
       "      <td>27.4</td>\n",
       "    </tr>\n",
       "    <tr>\n",
       "      <th>117</th>\n",
       "      <td>10.2</td>\n",
       "      <td>6.5</td>\n",
       "      <td>5.0</td>\n",
       "      <td>2.5</td>\n",
       "    </tr>\n",
       "    <tr>\n",
       "      <th>47</th>\n",
       "      <td>NaN</td>\n",
       "      <td>NaN</td>\n",
       "      <td>NaN</td>\n",
       "      <td>27.5</td>\n",
       "    </tr>\n",
       "    <tr>\n",
       "      <th>44</th>\n",
       "      <td>28.4</td>\n",
       "      <td>22.0</td>\n",
       "      <td>17.9</td>\n",
       "      <td>14.9</td>\n",
       "    </tr>\n",
       "  </tbody>\n",
       "</table>\n",
       "<p>64 rows × 4 columns</p>\n",
       "</div>"
      ],
      "text/plain": [
       "Year  2000  2006  2012  2021\n",
       "4      6.4   5.6   5.2   5.3\n",
       "17    41.1  27.1  24.2  17.0\n",
       "38    24.5  23.2  21.8  17.0\n",
       "5     19.3  13.3  10.4   7.2\n",
       "53    13.5   8.9   8.1   7.7\n",
       "..     ...   ...   ...   ...\n",
       "67    42.8  41.6  34.3  36.3\n",
       "64    32.5  29.6  24.6  27.4\n",
       "117   10.2   6.5   5.0   2.5\n",
       "47     NaN   NaN   NaN  27.5\n",
       "44    28.4  22.0  17.9  14.9\n",
       "\n",
       "[64 rows x 4 columns]"
      ]
     },
     "execution_count": 38,
     "metadata": {},
     "output_type": "execute_result"
    }
   ],
   "source": [
    "X_train"
   ]
  },
  {
   "cell_type": "code",
   "execution_count": 39,
   "id": "d4539fd6",
   "metadata": {
    "execution": {
     "iopub.execute_input": "2023-01-06T06:57:58.540830Z",
     "iopub.status.busy": "2023-01-06T06:57:58.539836Z",
     "iopub.status.idle": "2023-01-06T06:57:58.545450Z",
     "shell.execute_reply": "2023-01-06T06:57:58.544386Z"
    },
    "papermill": {
     "duration": 0.044113,
     "end_time": "2023-01-06T06:57:58.548483",
     "exception": false,
     "start_time": "2023-01-06T06:57:58.504370",
     "status": "completed"
    },
    "tags": []
   },
   "outputs": [
    {
     "name": "stdout",
     "output_type": "stream",
     "text": [
      "(64, 4)\n"
     ]
    }
   ],
   "source": [
    "print(X_train.shape)"
   ]
  },
  {
   "cell_type": "code",
   "execution_count": 40,
   "id": "d9f002f0",
   "metadata": {
    "execution": {
     "iopub.execute_input": "2023-01-06T06:57:58.618630Z",
     "iopub.status.busy": "2023-01-06T06:57:58.617521Z",
     "iopub.status.idle": "2023-01-06T06:57:58.624098Z",
     "shell.execute_reply": "2023-01-06T06:57:58.622730Z"
    },
    "papermill": {
     "duration": 0.043656,
     "end_time": "2023-01-06T06:57:58.626528",
     "exception": false,
     "start_time": "2023-01-06T06:57:58.582872",
     "status": "completed"
    },
    "tags": []
   },
   "outputs": [
    {
     "name": "stdout",
     "output_type": "stream",
     "text": [
      "(64, 4)\n"
     ]
    }
   ],
   "source": [
    "print(y_test.shape)"
   ]
  },
  {
   "cell_type": "markdown",
   "id": "6bc018b9",
   "metadata": {
    "papermill": {
     "duration": 0.033778,
     "end_time": "2023-01-06T06:57:58.693525",
     "exception": false,
     "start_time": "2023-01-06T06:57:58.659747",
     "status": "completed"
    },
    "tags": []
   },
   "source": [
    "**Selecting model**: We use linear regression model"
   ]
  },
  {
   "cell_type": "code",
   "execution_count": 41,
   "id": "4c9eb64a",
   "metadata": {
    "execution": {
     "iopub.execute_input": "2023-01-06T06:57:58.764154Z",
     "iopub.status.busy": "2023-01-06T06:57:58.763730Z",
     "iopub.status.idle": "2023-01-06T06:57:58.768587Z",
     "shell.execute_reply": "2023-01-06T06:57:58.767431Z"
    },
    "papermill": {
     "duration": 0.042986,
     "end_time": "2023-01-06T06:57:58.770823",
     "exception": false,
     "start_time": "2023-01-06T06:57:58.727837",
     "status": "completed"
    },
    "tags": []
   },
   "outputs": [],
   "source": [
    "from sklearn.linear_model import LinearRegression\n",
    "\n",
    "Linear_model=LinearRegression()"
   ]
  },
  {
   "cell_type": "markdown",
   "id": "06c3bc65",
   "metadata": {
    "papermill": {
     "duration": 0.039165,
     "end_time": "2023-01-06T06:57:58.844593",
     "exception": false,
     "start_time": "2023-01-06T06:57:58.805428",
     "status": "completed"
    },
    "tags": []
   },
   "source": [
    "**Model Fitting**"
   ]
  },
  {
   "cell_type": "code",
   "execution_count": 42,
   "id": "67354ee9",
   "metadata": {
    "execution": {
     "iopub.execute_input": "2023-01-06T06:57:58.916009Z",
     "iopub.status.busy": "2023-01-06T06:57:58.915609Z",
     "iopub.status.idle": "2023-01-06T06:57:58.926417Z",
     "shell.execute_reply": "2023-01-06T06:57:58.925323Z"
    },
    "papermill": {
     "duration": 0.048894,
     "end_time": "2023-01-06T06:57:58.928838",
     "exception": false,
     "start_time": "2023-01-06T06:57:58.879944",
     "status": "completed"
    },
    "tags": []
   },
   "outputs": [],
   "source": [
    "X_train = X_train.dropna()\n",
    "y_train = y_train.dropna()\n",
    "\n",
    "X_test = X_test.dropna()\n",
    "y_test = y_test.dropna()"
   ]
  },
  {
   "cell_type": "code",
   "execution_count": 43,
   "id": "f89f2323",
   "metadata": {
    "execution": {
     "iopub.execute_input": "2023-01-06T06:57:58.999998Z",
     "iopub.status.busy": "2023-01-06T06:57:58.999611Z",
     "iopub.status.idle": "2023-01-06T06:57:59.023011Z",
     "shell.execute_reply": "2023-01-06T06:57:59.022067Z"
    },
    "papermill": {
     "duration": 0.06083,
     "end_time": "2023-01-06T06:57:59.025150",
     "exception": false,
     "start_time": "2023-01-06T06:57:58.964320",
     "status": "completed"
    },
    "tags": []
   },
   "outputs": [
    {
     "data": {
      "text/plain": [
       "LinearRegression()"
      ]
     },
     "execution_count": 43,
     "metadata": {},
     "output_type": "execute_result"
    }
   ],
   "source": [
    "Linear_model.fit(X_train,y_train)"
   ]
  },
  {
   "cell_type": "markdown",
   "id": "567910e3",
   "metadata": {
    "papermill": {
     "duration": 0.03576,
     "end_time": "2023-01-06T06:57:59.095592",
     "exception": false,
     "start_time": "2023-01-06T06:57:59.059832",
     "status": "completed"
    },
    "tags": []
   },
   "source": [
    "**Prediction**"
   ]
  },
  {
   "cell_type": "code",
   "execution_count": 44,
   "id": "d90f6c38",
   "metadata": {
    "execution": {
     "iopub.execute_input": "2023-01-06T06:57:59.166299Z",
     "iopub.status.busy": "2023-01-06T06:57:59.165639Z",
     "iopub.status.idle": "2023-01-06T06:57:59.176492Z",
     "shell.execute_reply": "2023-01-06T06:57:59.175478Z"
    },
    "papermill": {
     "duration": 0.04845,
     "end_time": "2023-01-06T06:57:59.178568",
     "exception": false,
     "start_time": "2023-01-06T06:57:59.130118",
     "status": "completed"
    },
    "tags": []
   },
   "outputs": [
    {
     "data": {
      "text/plain": [
       "array([[ 9.6,  9. ,  8.1,  8.6],\n",
       "       [10.9, 11.4,  9.3,  8.9],\n",
       "       [ 7.5,  7.7,  2.5,  2.5],\n",
       "       [38.8, 37.4, 28.8, 27.5],\n",
       "       [ 2.5,  2.5,  2.5,  2.5],\n",
       "       [15.1, 11.4, 10.4, 10.4],\n",
       "       [49.3, 38.3, 31. , 26.4],\n",
       "       [10.2,  8.6,  7.8,  8.5],\n",
       "       [34. , 28.9, 28.6, 19.1],\n",
       "       [18.3, 13.9, 11.7,  8.6],\n",
       "       [27.7, 23.3, 15.6, 12.7],\n",
       "       [18.7, 15. , 10.1,  8.9],\n",
       "       [ 7.9,  5.9,  5. ,  2.5],\n",
       "       [ 2.5,  2.5,  2.5,  2.5],\n",
       "       [15.1, 13.2, 10.2,  8. ],\n",
       "       [14.5, 11.7,  8.9,  6.9],\n",
       "       [ 2.5,  2.5,  2.5,  2.5],\n",
       "       [21.8, 19.6, 13.8, 12.8],\n",
       "       [34.9, 34.6, 28.5, 30.3],\n",
       "       [ 2.5,  2.5,  2.5,  2.5],\n",
       "       [ 6. ,  5.3,  2.5,  2.5],\n",
       "       [17.1, 15.6, 12.1, 10.7],\n",
       "       [43.1, 33.5, 26.2, 21.3],\n",
       "       [ 7.4,  6.7,  5. ,  2.5],\n",
       "       [24.3, 16.6,  9.5,  5.9],\n",
       "       [11.7, 11.6,  9.5,  7.5],\n",
       "       [33.6, 30.3, 33.7, 27.8],\n",
       "       [20.1, 14.8, 11.9,  9.7],\n",
       "       [11.5,  7.4,  5.5,  2.5],\n",
       "       [12.3,  8.8,  2.5,  6.3],\n",
       "       [44.9, 35.8, 29.7, 24.5],\n",
       "       [25. , 20.4, 20.5, 16.8],\n",
       "       [10.1,  7.1,  6.4,  6.2],\n",
       "       [28.4, 24.6, 22. , 19.6],\n",
       "       [65. , 46.9, 27.8, 26. ],\n",
       "       [57.7, 52.7, 34.7, 31.3],\n",
       "       [25. , 15.9, 10.6,  7.5],\n",
       "       [20.6, 16.4,  9.2,  8. ],\n",
       "       [26.1, 29.5, 23. , 18. ],\n",
       "       [11. , 12.1,  8.2,  6.8],\n",
       "       [ 5.5,  2.5,  2.5,  2.5],\n",
       "       [40.6, 33.6, 29.1, 24.7],\n",
       "       [23.9, 23.9, 27.5, 22.8],\n",
       "       [39.5, 33.1, 29.1, 25.2],\n",
       "       [41. , 38.8, 38.4, 45.1],\n",
       "       [ 7. ,  5.5,  2.5,  5.3],\n",
       "       [35.7, 30.9, 23.1, 18.6],\n",
       "       [ 9.3,  6.7,  2.5,  2.5],\n",
       "       [ 2.5,  2.5,  2.5,  2.5],\n",
       "       [30.2, 23.4, 12.8,  6.1],\n",
       "       [11.6, 13.2, 12.3,  9.7],\n",
       "       [39.5, 32.5, 30.4, 28.3],\n",
       "       [44.1, 31.9, 25.7, 19.5],\n",
       "       [20.7, 15.9,  8.8,  6.2],\n",
       "       [10.8,  8.1,  8.5,  8.3],\n",
       "       [48. , 38.2, 31.5, 31.3],\n",
       "       [29. , 27.5, 22.1, 17.6],\n",
       "       [21. , 20.2, 18.6, 16.6]])"
      ]
     },
     "execution_count": 44,
     "metadata": {},
     "output_type": "execute_result"
    }
   ],
   "source": [
    "y_pred = Linear_model.predict(X_test)\n",
    "y_pred"
   ]
  },
  {
   "cell_type": "code",
   "execution_count": 45,
   "id": "1592fe4b",
   "metadata": {
    "execution": {
     "iopub.execute_input": "2023-01-06T06:57:59.248342Z",
     "iopub.status.busy": "2023-01-06T06:57:59.247650Z",
     "iopub.status.idle": "2023-01-06T06:57:59.495945Z",
     "shell.execute_reply": "2023-01-06T06:57:59.494720Z"
    },
    "papermill": {
     "duration": 0.286917,
     "end_time": "2023-01-06T06:57:59.499170",
     "exception": false,
     "start_time": "2023-01-06T06:57:59.212253",
     "status": "completed"
    },
    "tags": []
   },
   "outputs": [
    {
     "data": {
      "image/png": "[encoded data removed]",
      "text/plain": [
       "<Figure size 1080x576 with 1 Axes>"
      ]
     },
     "metadata": {
      "needs_background": "light"
     },
     "output_type": "display_data"
    }
   ],
   "source": [
    "# data to be plotted\n",
    "y = np.arange(0, 58)\n",
    "x = y_pred\n",
    " \n",
    "# plotting\n",
    "plt.subplots(figsize=(15, 8))\n",
    "plt.title(\"Line graph\")\n",
    "plt.xlabel(\"GHI for 2000,2006, 2012 and 2021\")\n",
    "plt.ylabel(\"Y axis\")\n",
    "plt.plot(x, y)\n",
    "plt.show()"
   ]
  },
  {
   "cell_type": "markdown",
   "id": "5b70e9c2",
   "metadata": {
    "papermill": {
     "duration": 0.03619,
     "end_time": "2023-01-06T06:57:59.573443",
     "exception": false,
     "start_time": "2023-01-06T06:57:59.537253",
     "status": "completed"
    },
    "tags": []
   },
   "source": [
    "**Evaluation**"
   ]
  },
  {
   "cell_type": "code",
   "execution_count": 46,
   "id": "e95fb385",
   "metadata": {
    "execution": {
     "iopub.execute_input": "2023-01-06T06:57:59.649088Z",
     "iopub.status.busy": "2023-01-06T06:57:59.647902Z",
     "iopub.status.idle": "2023-01-06T06:57:59.652187Z",
     "shell.execute_reply": "2023-01-06T06:57:59.651428Z"
    },
    "papermill": {
     "duration": 0.043861,
     "end_time": "2023-01-06T06:57:59.654245",
     "exception": false,
     "start_time": "2023-01-06T06:57:59.610384",
     "status": "completed"
    },
    "tags": []
   },
   "outputs": [],
   "source": [
    "## print(Linear_model.predict([[5]])) \n",
    "\n",
    "# prediction = Linear_model.predict([[2025,2030,2035,2040]])\n",
    "# prediction"
   ]
  },
  {
   "cell_type": "markdown",
   "id": "ae66fd1e",
   "metadata": {
    "papermill": {
     "duration": 0.036656,
     "end_time": "2023-01-06T06:57:59.726782",
     "exception": false,
     "start_time": "2023-01-06T06:57:59.690126",
     "status": "completed"
    },
    "tags": []
   },
   "source": [
    "**Second Linear model**"
   ]
  },
  {
   "cell_type": "code",
   "execution_count": 47,
   "id": "230f9d5d",
   "metadata": {
    "execution": {
     "iopub.execute_input": "2023-01-06T06:57:59.802768Z",
     "iopub.status.busy": "2023-01-06T06:57:59.801568Z",
     "iopub.status.idle": "2023-01-06T06:57:59.821335Z",
     "shell.execute_reply": "2023-01-06T06:57:59.820179Z"
    },
    "papermill": {
     "duration": 0.059398,
     "end_time": "2023-01-06T06:57:59.823755",
     "exception": false,
     "start_time": "2023-01-06T06:57:59.764357",
     "status": "completed"
    },
    "tags": []
   },
   "outputs": [
    {
     "data": {
      "text/html": [
       "<div>\n",
       "<style scoped>\n",
       "    .dataframe tbody tr th:only-of-type {\n",
       "        vertical-align: middle;\n",
       "    }\n",
       "\n",
       "    .dataframe tbody tr th {\n",
       "        vertical-align: top;\n",
       "    }\n",
       "\n",
       "    .dataframe thead th {\n",
       "        text-align: right;\n",
       "    }\n",
       "</style>\n",
       "<table border=\"1\" class=\"dataframe\">\n",
       "  <thead>\n",
       "    <tr style=\"text-align: right;\">\n",
       "      <th></th>\n",
       "      <th>Country</th>\n",
       "      <th>Code</th>\n",
       "      <th>Year</th>\n",
       "      <th>GHI</th>\n",
       "      <th>Entity</th>\n",
       "      <th>Prevalence of underweight, weight for age (% of children under 5)</th>\n",
       "      <th>Prevalence of wasting, weight for height (% of children under 5)</th>\n",
       "      <th>Prevalence of stunting, height for age (% of children under 5)</th>\n",
       "    </tr>\n",
       "  </thead>\n",
       "  <tbody>\n",
       "    <tr>\n",
       "      <th>0</th>\n",
       "      <td>Afghanistan</td>\n",
       "      <td>AFG</td>\n",
       "      <td>2000</td>\n",
       "      <td>50.9</td>\n",
       "      <td>NaN</td>\n",
       "      <td>NaN</td>\n",
       "      <td>NaN</td>\n",
       "      <td>NaN</td>\n",
       "    </tr>\n",
       "    <tr>\n",
       "      <th>1</th>\n",
       "      <td>Afghanistan</td>\n",
       "      <td>AFG</td>\n",
       "      <td>2006</td>\n",
       "      <td>42.7</td>\n",
       "      <td>NaN</td>\n",
       "      <td>NaN</td>\n",
       "      <td>NaN</td>\n",
       "      <td>NaN</td>\n",
       "    </tr>\n",
       "    <tr>\n",
       "      <th>2</th>\n",
       "      <td>Afghanistan</td>\n",
       "      <td>AFG</td>\n",
       "      <td>2012</td>\n",
       "      <td>34.3</td>\n",
       "      <td>NaN</td>\n",
       "      <td>NaN</td>\n",
       "      <td>NaN</td>\n",
       "      <td>NaN</td>\n",
       "    </tr>\n",
       "    <tr>\n",
       "      <th>3</th>\n",
       "      <td>Afghanistan</td>\n",
       "      <td>AFG</td>\n",
       "      <td>2021</td>\n",
       "      <td>28.3</td>\n",
       "      <td>NaN</td>\n",
       "      <td>NaN</td>\n",
       "      <td>NaN</td>\n",
       "      <td>NaN</td>\n",
       "    </tr>\n",
       "    <tr>\n",
       "      <th>4</th>\n",
       "      <td>Albania</td>\n",
       "      <td>ALB</td>\n",
       "      <td>2000</td>\n",
       "      <td>20.7</td>\n",
       "      <td>NaN</td>\n",
       "      <td>NaN</td>\n",
       "      <td>NaN</td>\n",
       "      <td>NaN</td>\n",
       "    </tr>\n",
       "  </tbody>\n",
       "</table>\n",
       "</div>"
      ],
      "text/plain": [
       "       Country Code  Year   GHI Entity  \\\n",
       "0  Afghanistan  AFG  2000  50.9    NaN   \n",
       "1  Afghanistan  AFG  2006  42.7    NaN   \n",
       "2  Afghanistan  AFG  2012  34.3    NaN   \n",
       "3  Afghanistan  AFG  2021  28.3    NaN   \n",
       "4      Albania  ALB  2000  20.7    NaN   \n",
       "\n",
       "   Prevalence of underweight, weight for age (% of children under 5)  \\\n",
       "0                                                NaN                   \n",
       "1                                                NaN                   \n",
       "2                                                NaN                   \n",
       "3                                                NaN                   \n",
       "4                                                NaN                   \n",
       "\n",
       "   Prevalence of wasting, weight for height (% of children under 5)  \\\n",
       "0                                                NaN                  \n",
       "1                                                NaN                  \n",
       "2                                                NaN                  \n",
       "3                                                NaN                  \n",
       "4                                                NaN                  \n",
       "\n",
       "   Prevalence of stunting, height for age (% of children under 5)  \n",
       "0                                                NaN               \n",
       "1                                                NaN               \n",
       "2                                                NaN               \n",
       "3                                                NaN               \n",
       "4                                                NaN               "
      ]
     },
     "execution_count": 47,
     "metadata": {},
     "output_type": "execute_result"
    }
   ],
   "source": [
    "frames = [df_global_hunger_index,df_chridren_underweight, df_chridren_withweight, df_chridren_younger5]\n",
    "\n",
    "df = pd.concat(frames)\n",
    "df.head()"
   ]
  },
  {
   "cell_type": "code",
   "execution_count": 48,
   "id": "d72eab32",
   "metadata": {
    "execution": {
     "iopub.execute_input": "2023-01-06T06:57:59.899346Z",
     "iopub.status.busy": "2023-01-06T06:57:59.898917Z",
     "iopub.status.idle": "2023-01-06T06:57:59.920365Z",
     "shell.execute_reply": "2023-01-06T06:57:59.919201Z"
    },
    "papermill": {
     "duration": 0.062143,
     "end_time": "2023-01-06T06:57:59.922578",
     "exception": false,
     "start_time": "2023-01-06T06:57:59.860435",
     "status": "completed"
    },
    "tags": []
   },
   "outputs": [
    {
     "data": {
      "text/html": [
       "<div>\n",
       "<style scoped>\n",
       "    .dataframe tbody tr th:only-of-type {\n",
       "        vertical-align: middle;\n",
       "    }\n",
       "\n",
       "    .dataframe tbody tr th {\n",
       "        vertical-align: top;\n",
       "    }\n",
       "\n",
       "    .dataframe thead th {\n",
       "        text-align: right;\n",
       "    }\n",
       "</style>\n",
       "<table border=\"1\" class=\"dataframe\">\n",
       "  <thead>\n",
       "    <tr style=\"text-align: right;\">\n",
       "      <th></th>\n",
       "      <th>Country</th>\n",
       "      <th>Code</th>\n",
       "      <th>Year</th>\n",
       "      <th>GHI</th>\n",
       "      <th>Entity</th>\n",
       "      <th>underweight</th>\n",
       "      <th>withweight</th>\n",
       "      <th>younger5</th>\n",
       "    </tr>\n",
       "  </thead>\n",
       "  <tbody>\n",
       "    <tr>\n",
       "      <th>0</th>\n",
       "      <td>Afghanistan</td>\n",
       "      <td>AFG</td>\n",
       "      <td>2000</td>\n",
       "      <td>50.9</td>\n",
       "      <td>NaN</td>\n",
       "      <td>NaN</td>\n",
       "      <td>NaN</td>\n",
       "      <td>NaN</td>\n",
       "    </tr>\n",
       "    <tr>\n",
       "      <th>1</th>\n",
       "      <td>Afghanistan</td>\n",
       "      <td>AFG</td>\n",
       "      <td>2006</td>\n",
       "      <td>42.7</td>\n",
       "      <td>NaN</td>\n",
       "      <td>NaN</td>\n",
       "      <td>NaN</td>\n",
       "      <td>NaN</td>\n",
       "    </tr>\n",
       "    <tr>\n",
       "      <th>2</th>\n",
       "      <td>Afghanistan</td>\n",
       "      <td>AFG</td>\n",
       "      <td>2012</td>\n",
       "      <td>34.3</td>\n",
       "      <td>NaN</td>\n",
       "      <td>NaN</td>\n",
       "      <td>NaN</td>\n",
       "      <td>NaN</td>\n",
       "    </tr>\n",
       "    <tr>\n",
       "      <th>3</th>\n",
       "      <td>Afghanistan</td>\n",
       "      <td>AFG</td>\n",
       "      <td>2021</td>\n",
       "      <td>28.3</td>\n",
       "      <td>NaN</td>\n",
       "      <td>NaN</td>\n",
       "      <td>NaN</td>\n",
       "      <td>NaN</td>\n",
       "    </tr>\n",
       "    <tr>\n",
       "      <th>4</th>\n",
       "      <td>Albania</td>\n",
       "      <td>ALB</td>\n",
       "      <td>2000</td>\n",
       "      <td>20.7</td>\n",
       "      <td>NaN</td>\n",
       "      <td>NaN</td>\n",
       "      <td>NaN</td>\n",
       "      <td>NaN</td>\n",
       "    </tr>\n",
       "    <tr>\n",
       "      <th>...</th>\n",
       "      <td>...</td>\n",
       "      <td>...</td>\n",
       "      <td>...</td>\n",
       "      <td>...</td>\n",
       "      <td>...</td>\n",
       "      <td>...</td>\n",
       "      <td>...</td>\n",
       "      <td>...</td>\n",
       "    </tr>\n",
       "    <tr>\n",
       "      <th>935</th>\n",
       "      <td>NaN</td>\n",
       "      <td>ZWE</td>\n",
       "      <td>2009</td>\n",
       "      <td>NaN</td>\n",
       "      <td>Zimbabwe</td>\n",
       "      <td>NaN</td>\n",
       "      <td>NaN</td>\n",
       "      <td>35.099998</td>\n",
       "    </tr>\n",
       "    <tr>\n",
       "      <th>936</th>\n",
       "      <td>NaN</td>\n",
       "      <td>ZWE</td>\n",
       "      <td>2010</td>\n",
       "      <td>NaN</td>\n",
       "      <td>Zimbabwe</td>\n",
       "      <td>NaN</td>\n",
       "      <td>NaN</td>\n",
       "      <td>32.200001</td>\n",
       "    </tr>\n",
       "    <tr>\n",
       "      <th>937</th>\n",
       "      <td>NaN</td>\n",
       "      <td>ZWE</td>\n",
       "      <td>2014</td>\n",
       "      <td>NaN</td>\n",
       "      <td>Zimbabwe</td>\n",
       "      <td>NaN</td>\n",
       "      <td>NaN</td>\n",
       "      <td>27.600000</td>\n",
       "    </tr>\n",
       "    <tr>\n",
       "      <th>938</th>\n",
       "      <td>NaN</td>\n",
       "      <td>ZWE</td>\n",
       "      <td>2015</td>\n",
       "      <td>NaN</td>\n",
       "      <td>Zimbabwe</td>\n",
       "      <td>NaN</td>\n",
       "      <td>NaN</td>\n",
       "      <td>27.100000</td>\n",
       "    </tr>\n",
       "    <tr>\n",
       "      <th>939</th>\n",
       "      <td>NaN</td>\n",
       "      <td>ZWE</td>\n",
       "      <td>2019</td>\n",
       "      <td>NaN</td>\n",
       "      <td>Zimbabwe</td>\n",
       "      <td>NaN</td>\n",
       "      <td>NaN</td>\n",
       "      <td>23.500000</td>\n",
       "    </tr>\n",
       "  </tbody>\n",
       "</table>\n",
       "<p>3580 rows × 8 columns</p>\n",
       "</div>"
      ],
      "text/plain": [
       "         Country Code  Year   GHI    Entity  underweight  withweight  \\\n",
       "0    Afghanistan  AFG  2000  50.9       NaN          NaN         NaN   \n",
       "1    Afghanistan  AFG  2006  42.7       NaN          NaN         NaN   \n",
       "2    Afghanistan  AFG  2012  34.3       NaN          NaN         NaN   \n",
       "3    Afghanistan  AFG  2021  28.3       NaN          NaN         NaN   \n",
       "4        Albania  ALB  2000  20.7       NaN          NaN         NaN   \n",
       "..           ...  ...   ...   ...       ...          ...         ...   \n",
       "935          NaN  ZWE  2009   NaN  Zimbabwe          NaN         NaN   \n",
       "936          NaN  ZWE  2010   NaN  Zimbabwe          NaN         NaN   \n",
       "937          NaN  ZWE  2014   NaN  Zimbabwe          NaN         NaN   \n",
       "938          NaN  ZWE  2015   NaN  Zimbabwe          NaN         NaN   \n",
       "939          NaN  ZWE  2019   NaN  Zimbabwe          NaN         NaN   \n",
       "\n",
       "      younger5  \n",
       "0          NaN  \n",
       "1          NaN  \n",
       "2          NaN  \n",
       "3          NaN  \n",
       "4          NaN  \n",
       "..         ...  \n",
       "935  35.099998  \n",
       "936  32.200001  \n",
       "937  27.600000  \n",
       "938  27.100000  \n",
       "939  23.500000  \n",
       "\n",
       "[3580 rows x 8 columns]"
      ]
     },
     "execution_count": 48,
     "metadata": {},
     "output_type": "execute_result"
    }
   ],
   "source": [
    "df.rename(columns={\"Global Hunger Index (2021)\": \"GHI\", \"Prevalence of underweight, weight for age (% of children under 5)\": \"underweight\", 'Prevalence of wasting, weight for height (% of children under 5)':\"withweight\", 'Prevalence of stunting, height for age (% of children under 5)':\"younger5\"}, inplace=True)\n",
    "df"
   ]
  },
  {
   "cell_type": "code",
   "execution_count": 49,
   "id": "aa7fdb50",
   "metadata": {
    "execution": {
     "iopub.execute_input": "2023-01-06T06:57:59.997725Z",
     "iopub.status.busy": "2023-01-06T06:57:59.996821Z",
     "iopub.status.idle": "2023-01-06T06:58:00.006686Z",
     "shell.execute_reply": "2023-01-06T06:58:00.005848Z"
    },
    "papermill": {
     "duration": 0.050218,
     "end_time": "2023-01-06T06:58:00.009108",
     "exception": false,
     "start_time": "2023-01-06T06:57:59.958890",
     "status": "completed"
    },
    "tags": []
   },
   "outputs": [],
   "source": [
    "df = df.fillna(df.mean())\n",
    "# df.fillna(value=0, inplace=True)\n",
    "# df.dropna()"
   ]
  },
  {
   "cell_type": "code",
   "execution_count": 50,
   "id": "e28cf7df",
   "metadata": {
    "execution": {
     "iopub.execute_input": "2023-01-06T06:58:00.083848Z",
     "iopub.status.busy": "2023-01-06T06:58:00.083182Z",
     "iopub.status.idle": "2023-01-06T06:58:00.098693Z",
     "shell.execute_reply": "2023-01-06T06:58:00.097529Z"
    },
    "papermill": {
     "duration": 0.055647,
     "end_time": "2023-01-06T06:58:00.100944",
     "exception": false,
     "start_time": "2023-01-06T06:58:00.045297",
     "status": "completed"
    },
    "tags": []
   },
   "outputs": [
    {
     "data": {
      "text/html": [
       "<div>\n",
       "<style scoped>\n",
       "    .dataframe tbody tr th:only-of-type {\n",
       "        vertical-align: middle;\n",
       "    }\n",
       "\n",
       "    .dataframe tbody tr th {\n",
       "        vertical-align: top;\n",
       "    }\n",
       "\n",
       "    .dataframe thead th {\n",
       "        text-align: right;\n",
       "    }\n",
       "</style>\n",
       "<table border=\"1\" class=\"dataframe\">\n",
       "  <thead>\n",
       "    <tr style=\"text-align: right;\">\n",
       "      <th></th>\n",
       "      <th>Country</th>\n",
       "      <th>Code</th>\n",
       "      <th>Year</th>\n",
       "      <th>GHI</th>\n",
       "      <th>underweight</th>\n",
       "      <th>withweight</th>\n",
       "      <th>younger5</th>\n",
       "    </tr>\n",
       "  </thead>\n",
       "  <tbody>\n",
       "    <tr>\n",
       "      <th>0</th>\n",
       "      <td>Afghanistan</td>\n",
       "      <td>AFG</td>\n",
       "      <td>2000</td>\n",
       "      <td>50.9</td>\n",
       "      <td>15.070761</td>\n",
       "      <td>6.700935</td>\n",
       "      <td>28.144149</td>\n",
       "    </tr>\n",
       "    <tr>\n",
       "      <th>1</th>\n",
       "      <td>Afghanistan</td>\n",
       "      <td>AFG</td>\n",
       "      <td>2006</td>\n",
       "      <td>42.7</td>\n",
       "      <td>15.070761</td>\n",
       "      <td>6.700935</td>\n",
       "      <td>28.144149</td>\n",
       "    </tr>\n",
       "    <tr>\n",
       "      <th>2</th>\n",
       "      <td>Afghanistan</td>\n",
       "      <td>AFG</td>\n",
       "      <td>2012</td>\n",
       "      <td>34.3</td>\n",
       "      <td>15.070761</td>\n",
       "      <td>6.700935</td>\n",
       "      <td>28.144149</td>\n",
       "    </tr>\n",
       "    <tr>\n",
       "      <th>3</th>\n",
       "      <td>Afghanistan</td>\n",
       "      <td>AFG</td>\n",
       "      <td>2021</td>\n",
       "      <td>28.3</td>\n",
       "      <td>15.070761</td>\n",
       "      <td>6.700935</td>\n",
       "      <td>28.144149</td>\n",
       "    </tr>\n",
       "    <tr>\n",
       "      <th>4</th>\n",
       "      <td>Albania</td>\n",
       "      <td>ALB</td>\n",
       "      <td>2000</td>\n",
       "      <td>20.7</td>\n",
       "      <td>15.070761</td>\n",
       "      <td>6.700935</td>\n",
       "      <td>28.144149</td>\n",
       "    </tr>\n",
       "  </tbody>\n",
       "</table>\n",
       "</div>"
      ],
      "text/plain": [
       "       Country Code  Year   GHI  underweight  withweight   younger5\n",
       "0  Afghanistan  AFG  2000  50.9    15.070761    6.700935  28.144149\n",
       "1  Afghanistan  AFG  2006  42.7    15.070761    6.700935  28.144149\n",
       "2  Afghanistan  AFG  2012  34.3    15.070761    6.700935  28.144149\n",
       "3  Afghanistan  AFG  2021  28.3    15.070761    6.700935  28.144149\n",
       "4      Albania  ALB  2000  20.7    15.070761    6.700935  28.144149"
      ]
     },
     "execution_count": 50,
     "metadata": {},
     "output_type": "execute_result"
    }
   ],
   "source": [
    "df= df.drop(\"Entity\", axis=1)\n",
    "df.head(5)"
   ]
  },
  {
   "cell_type": "code",
   "execution_count": 51,
   "id": "2b529fe7",
   "metadata": {
    "execution": {
     "iopub.execute_input": "2023-01-06T06:58:00.176135Z",
     "iopub.status.busy": "2023-01-06T06:58:00.175343Z",
     "iopub.status.idle": "2023-01-06T06:58:00.188833Z",
     "shell.execute_reply": "2023-01-06T06:58:00.187505Z"
    },
    "papermill": {
     "duration": 0.054649,
     "end_time": "2023-01-06T06:58:00.192109",
     "exception": false,
     "start_time": "2023-01-06T06:58:00.137460",
     "status": "completed"
    },
    "tags": []
   },
   "outputs": [
    {
     "name": "stdout",
     "output_type": "stream",
     "text": [
      "<class 'pandas.core.frame.DataFrame'>\n",
      "Int64Index: 3580 entries, 0 to 939\n",
      "Data columns (total 7 columns):\n",
      " #   Column       Non-Null Count  Dtype  \n",
      "---  ------       --------------  -----  \n",
      " 0   Country      471 non-null    object \n",
      " 1   Code         3316 non-null   object \n",
      " 2   Year         3580 non-null   int64  \n",
      " 3   GHI          3580 non-null   float64\n",
      " 4   underweight  3580 non-null   float64\n",
      " 5   withweight   3580 non-null   float64\n",
      " 6   younger5     3580 non-null   float64\n",
      "dtypes: float64(4), int64(1), object(2)\n",
      "memory usage: 223.8+ KB\n"
     ]
    }
   ],
   "source": [
    "df.info()"
   ]
  },
  {
   "cell_type": "markdown",
   "id": "d313947d",
   "metadata": {
    "papermill": {
     "duration": 0.035889,
     "end_time": "2023-01-06T06:58:00.265108",
     "exception": false,
     "start_time": "2023-01-06T06:58:00.229219",
     "status": "completed"
    },
    "tags": []
   },
   "source": [
    "To have a clean dataset, we want to check where year is above 2000 and these columns: GHI,underweight,withweight,younger5 are not null."
   ]
  },
  {
   "cell_type": "code",
   "execution_count": 52,
   "id": "1a4b3b1f",
   "metadata": {
    "execution": {
     "iopub.execute_input": "2023-01-06T06:58:00.341517Z",
     "iopub.status.busy": "2023-01-06T06:58:00.340734Z",
     "iopub.status.idle": "2023-01-06T06:58:00.364888Z",
     "shell.execute_reply": "2023-01-06T06:58:00.363703Z"
    },
    "papermill": {
     "duration": 0.065546,
     "end_time": "2023-01-06T06:58:00.367184",
     "exception": false,
     "start_time": "2023-01-06T06:58:00.301638",
     "status": "completed"
    },
    "tags": []
   },
   "outputs": [
    {
     "data": {
      "text/html": [
       "<div>\n",
       "<style scoped>\n",
       "    .dataframe tbody tr th:only-of-type {\n",
       "        vertical-align: middle;\n",
       "    }\n",
       "\n",
       "    .dataframe tbody tr th {\n",
       "        vertical-align: top;\n",
       "    }\n",
       "\n",
       "    .dataframe thead th {\n",
       "        text-align: right;\n",
       "    }\n",
       "</style>\n",
       "<table border=\"1\" class=\"dataframe\">\n",
       "  <thead>\n",
       "    <tr style=\"text-align: right;\">\n",
       "      <th></th>\n",
       "      <th>Country</th>\n",
       "      <th>Code</th>\n",
       "      <th>Year</th>\n",
       "      <th>GHI</th>\n",
       "      <th>underweight</th>\n",
       "      <th>withweight</th>\n",
       "      <th>younger5</th>\n",
       "    </tr>\n",
       "  </thead>\n",
       "  <tbody>\n",
       "    <tr>\n",
       "      <th>0</th>\n",
       "      <td>NaN</td>\n",
       "      <td>NaN</td>\n",
       "      <td>NaN</td>\n",
       "      <td>NaN</td>\n",
       "      <td>NaN</td>\n",
       "      <td>NaN</td>\n",
       "      <td>NaN</td>\n",
       "    </tr>\n",
       "    <tr>\n",
       "      <th>1</th>\n",
       "      <td>Afghanistan</td>\n",
       "      <td>AFG</td>\n",
       "      <td>2006.0</td>\n",
       "      <td>42.700000</td>\n",
       "      <td>15.070761</td>\n",
       "      <td>6.700935</td>\n",
       "      <td>28.144149</td>\n",
       "    </tr>\n",
       "    <tr>\n",
       "      <th>2</th>\n",
       "      <td>Afghanistan</td>\n",
       "      <td>AFG</td>\n",
       "      <td>2012.0</td>\n",
       "      <td>34.300000</td>\n",
       "      <td>15.070761</td>\n",
       "      <td>6.700935</td>\n",
       "      <td>28.144149</td>\n",
       "    </tr>\n",
       "    <tr>\n",
       "      <th>3</th>\n",
       "      <td>Afghanistan</td>\n",
       "      <td>AFG</td>\n",
       "      <td>2021.0</td>\n",
       "      <td>28.300000</td>\n",
       "      <td>15.070761</td>\n",
       "      <td>6.700935</td>\n",
       "      <td>28.144149</td>\n",
       "    </tr>\n",
       "    <tr>\n",
       "      <th>4</th>\n",
       "      <td>NaN</td>\n",
       "      <td>NaN</td>\n",
       "      <td>NaN</td>\n",
       "      <td>NaN</td>\n",
       "      <td>NaN</td>\n",
       "      <td>NaN</td>\n",
       "      <td>NaN</td>\n",
       "    </tr>\n",
       "    <tr>\n",
       "      <th>...</th>\n",
       "      <td>...</td>\n",
       "      <td>...</td>\n",
       "      <td>...</td>\n",
       "      <td>...</td>\n",
       "      <td>...</td>\n",
       "      <td>...</td>\n",
       "      <td>...</td>\n",
       "    </tr>\n",
       "    <tr>\n",
       "      <th>935</th>\n",
       "      <td>NaN</td>\n",
       "      <td>ZWE</td>\n",
       "      <td>2009.0</td>\n",
       "      <td>19.824628</td>\n",
       "      <td>15.070761</td>\n",
       "      <td>6.700935</td>\n",
       "      <td>35.099998</td>\n",
       "    </tr>\n",
       "    <tr>\n",
       "      <th>936</th>\n",
       "      <td>NaN</td>\n",
       "      <td>ZWE</td>\n",
       "      <td>2010.0</td>\n",
       "      <td>19.824628</td>\n",
       "      <td>15.070761</td>\n",
       "      <td>6.700935</td>\n",
       "      <td>32.200001</td>\n",
       "    </tr>\n",
       "    <tr>\n",
       "      <th>937</th>\n",
       "      <td>NaN</td>\n",
       "      <td>ZWE</td>\n",
       "      <td>2014.0</td>\n",
       "      <td>19.824628</td>\n",
       "      <td>15.070761</td>\n",
       "      <td>6.700935</td>\n",
       "      <td>27.600000</td>\n",
       "    </tr>\n",
       "    <tr>\n",
       "      <th>938</th>\n",
       "      <td>NaN</td>\n",
       "      <td>ZWE</td>\n",
       "      <td>2015.0</td>\n",
       "      <td>19.824628</td>\n",
       "      <td>15.070761</td>\n",
       "      <td>6.700935</td>\n",
       "      <td>27.100000</td>\n",
       "    </tr>\n",
       "    <tr>\n",
       "      <th>939</th>\n",
       "      <td>NaN</td>\n",
       "      <td>ZWE</td>\n",
       "      <td>2019.0</td>\n",
       "      <td>19.824628</td>\n",
       "      <td>15.070761</td>\n",
       "      <td>6.700935</td>\n",
       "      <td>23.500000</td>\n",
       "    </tr>\n",
       "  </tbody>\n",
       "</table>\n",
       "<p>3580 rows × 7 columns</p>\n",
       "</div>"
      ],
      "text/plain": [
       "         Country Code    Year        GHI  underweight  withweight   younger5\n",
       "0            NaN  NaN     NaN        NaN          NaN         NaN        NaN\n",
       "1    Afghanistan  AFG  2006.0  42.700000    15.070761    6.700935  28.144149\n",
       "2    Afghanistan  AFG  2012.0  34.300000    15.070761    6.700935  28.144149\n",
       "3    Afghanistan  AFG  2021.0  28.300000    15.070761    6.700935  28.144149\n",
       "4            NaN  NaN     NaN        NaN          NaN         NaN        NaN\n",
       "..           ...  ...     ...        ...          ...         ...        ...\n",
       "935          NaN  ZWE  2009.0  19.824628    15.070761    6.700935  35.099998\n",
       "936          NaN  ZWE  2010.0  19.824628    15.070761    6.700935  32.200001\n",
       "937          NaN  ZWE  2014.0  19.824628    15.070761    6.700935  27.600000\n",
       "938          NaN  ZWE  2015.0  19.824628    15.070761    6.700935  27.100000\n",
       "939          NaN  ZWE  2019.0  19.824628    15.070761    6.700935  23.500000\n",
       "\n",
       "[3580 rows x 7 columns]"
      ]
     },
     "execution_count": 52,
     "metadata": {},
     "output_type": "execute_result"
    }
   ],
   "source": [
    "df = df.where (df[\"Year\"] > 2000)\n",
    "df.dropna()\n",
    "df"
   ]
  },
  {
   "cell_type": "code",
   "execution_count": 53,
   "id": "de3e1bfb",
   "metadata": {
    "execution": {
     "iopub.execute_input": "2023-01-06T06:58:00.452971Z",
     "iopub.status.busy": "2023-01-06T06:58:00.451923Z",
     "iopub.status.idle": "2023-01-06T06:58:00.457281Z",
     "shell.execute_reply": "2023-01-06T06:58:00.456283Z"
    },
    "papermill": {
     "duration": 0.053546,
     "end_time": "2023-01-06T06:58:00.459759",
     "exception": false,
     "start_time": "2023-01-06T06:58:00.406213",
     "status": "completed"
    },
    "tags": []
   },
   "outputs": [],
   "source": [
    "# df = np.where((df['Year']>=2000) & (df['GHI'] != \"NaN\") & (df['underweight'] != \"NaN\"))"
   ]
  },
  {
   "cell_type": "code",
   "execution_count": 54,
   "id": "3bf50139",
   "metadata": {
    "execution": {
     "iopub.execute_input": "2023-01-06T06:58:00.555536Z",
     "iopub.status.busy": "2023-01-06T06:58:00.555085Z",
     "iopub.status.idle": "2023-01-06T06:58:00.569443Z",
     "shell.execute_reply": "2023-01-06T06:58:00.568293Z"
    },
    "papermill": {
     "duration": 0.064638,
     "end_time": "2023-01-06T06:58:00.571759",
     "exception": false,
     "start_time": "2023-01-06T06:58:00.507121",
     "status": "completed"
    },
    "tags": []
   },
   "outputs": [
    {
     "data": {
      "text/html": [
       "<div>\n",
       "<style scoped>\n",
       "    .dataframe tbody tr th:only-of-type {\n",
       "        vertical-align: middle;\n",
       "    }\n",
       "\n",
       "    .dataframe tbody tr th {\n",
       "        vertical-align: top;\n",
       "    }\n",
       "\n",
       "    .dataframe thead th {\n",
       "        text-align: right;\n",
       "    }\n",
       "</style>\n",
       "<table border=\"1\" class=\"dataframe\">\n",
       "  <thead>\n",
       "    <tr style=\"text-align: right;\">\n",
       "      <th></th>\n",
       "      <th>Year</th>\n",
       "      <th>GHI</th>\n",
       "      <th>underweight</th>\n",
       "      <th>withweight</th>\n",
       "      <th>younger5</th>\n",
       "    </tr>\n",
       "  </thead>\n",
       "  <tbody>\n",
       "    <tr>\n",
       "      <th>Year</th>\n",
       "      <td>1.000000</td>\n",
       "      <td>-0.074447</td>\n",
       "      <td>-0.048496</td>\n",
       "      <td>-0.041523</td>\n",
       "      <td>-0.046766</td>\n",
       "    </tr>\n",
       "    <tr>\n",
       "      <th>GHI</th>\n",
       "      <td>-0.074447</td>\n",
       "      <td>1.000000</td>\n",
       "      <td>-0.003615</td>\n",
       "      <td>-0.002638</td>\n",
       "      <td>-0.004319</td>\n",
       "    </tr>\n",
       "    <tr>\n",
       "      <th>underweight</th>\n",
       "      <td>-0.048496</td>\n",
       "      <td>-0.003615</td>\n",
       "      <td>1.000000</td>\n",
       "      <td>-0.004971</td>\n",
       "      <td>-0.008138</td>\n",
       "    </tr>\n",
       "    <tr>\n",
       "      <th>withweight</th>\n",
       "      <td>-0.041523</td>\n",
       "      <td>-0.002638</td>\n",
       "      <td>-0.004971</td>\n",
       "      <td>1.000000</td>\n",
       "      <td>-0.005940</td>\n",
       "    </tr>\n",
       "    <tr>\n",
       "      <th>younger5</th>\n",
       "      <td>-0.046766</td>\n",
       "      <td>-0.004319</td>\n",
       "      <td>-0.008138</td>\n",
       "      <td>-0.005940</td>\n",
       "      <td>1.000000</td>\n",
       "    </tr>\n",
       "  </tbody>\n",
       "</table>\n",
       "</div>"
      ],
      "text/plain": [
       "                 Year       GHI  underweight  withweight  younger5\n",
       "Year         1.000000 -0.074447    -0.048496   -0.041523 -0.046766\n",
       "GHI         -0.074447  1.000000    -0.003615   -0.002638 -0.004319\n",
       "underweight -0.048496 -0.003615     1.000000   -0.004971 -0.008138\n",
       "withweight  -0.041523 -0.002638    -0.004971    1.000000 -0.005940\n",
       "younger5    -0.046766 -0.004319    -0.008138   -0.005940  1.000000"
      ]
     },
     "execution_count": 54,
     "metadata": {},
     "output_type": "execute_result"
    }
   ],
   "source": [
    "df.corr()"
   ]
  },
  {
   "cell_type": "code",
   "execution_count": 55,
   "id": "89f09b1c",
   "metadata": {
    "execution": {
     "iopub.execute_input": "2023-01-06T06:58:00.649659Z",
     "iopub.status.busy": "2023-01-06T06:58:00.648964Z",
     "iopub.status.idle": "2023-01-06T06:58:01.527135Z",
     "shell.execute_reply": "2023-01-06T06:58:01.525927Z"
    },
    "papermill": {
     "duration": 0.919536,
     "end_time": "2023-01-06T06:58:01.529801",
     "exception": false,
     "start_time": "2023-01-06T06:58:00.610265",
     "status": "completed"
    },
    "tags": []
   },
   "outputs": [
    {
     "data": {
      "text/plain": [
       "<seaborn.axisgrid.PairGrid at 0x7eff11e47810>"
      ]
     },
     "execution_count": 55,
     "metadata": {},
     "output_type": "execute_result"
    },
    {
     "data": {
      "image/png": "[encoded data removed]",
      "text/plain": [
       "<Figure size 180x180 with 1 Axes>"
      ]
     },
     "metadata": {
      "needs_background": "light"
     },
     "output_type": "display_data"
    },
    {
     "data": {
      "image/png": "[encoded data removed]",
      "text/plain": [
       "<Figure size 180x180 with 1 Axes>"
      ]
     },
     "metadata": {
      "needs_background": "light"
     },
     "output_type": "display_data"
    },
    {
     "data": {
      "image/png": "[encoded data removed]",
      "text/plain": [
       "<Figure size 180x180 with 1 Axes>"
      ]
     },
     "metadata": {
      "needs_background": "light"
     },
     "output_type": "display_data"
    }
   ],
   "source": [
    "sns.pairplot(y_vars = \"Year\", x_vars = \"underweight\" ,data = df)\n",
    "sns.pairplot(y_vars = \"Year\", x_vars = \"withweight\" ,data = df)\n",
    "sns.pairplot(y_vars = \"Year\", x_vars = \"younger5\" ,data = df)"
   ]
  },
  {
   "cell_type": "code",
   "execution_count": 56,
   "id": "ba5be688",
   "metadata": {
    "execution": {
     "iopub.execute_input": "2023-01-06T06:58:01.611335Z",
     "iopub.status.busy": "2023-01-06T06:58:01.610856Z",
     "iopub.status.idle": "2023-01-06T06:58:01.617443Z",
     "shell.execute_reply": "2023-01-06T06:58:01.616305Z"
    },
    "papermill": {
     "duration": 0.048962,
     "end_time": "2023-01-06T06:58:01.619733",
     "exception": false,
     "start_time": "2023-01-06T06:58:01.570771",
     "status": "completed"
    },
    "tags": []
   },
   "outputs": [],
   "source": [
    "X = df[['underweight', 'withweight', 'younger5']]\n",
    "#y = df['Year'].where(df['Year'] > 2000)\n",
    "y = df['Year']"
   ]
  },
  {
   "cell_type": "code",
   "execution_count": 57,
   "id": "1b11be16",
   "metadata": {
    "execution": {
     "iopub.execute_input": "2023-01-06T06:58:01.698829Z",
     "iopub.status.busy": "2023-01-06T06:58:01.698352Z",
     "iopub.status.idle": "2023-01-06T06:58:01.714439Z",
     "shell.execute_reply": "2023-01-06T06:58:01.713274Z"
    },
    "papermill": {
     "duration": 0.0587,
     "end_time": "2023-01-06T06:58:01.716793",
     "exception": false,
     "start_time": "2023-01-06T06:58:01.658093",
     "status": "completed"
    },
    "tags": []
   },
   "outputs": [
    {
     "data": {
      "text/html": [
       "<div>\n",
       "<style scoped>\n",
       "    .dataframe tbody tr th:only-of-type {\n",
       "        vertical-align: middle;\n",
       "    }\n",
       "\n",
       "    .dataframe tbody tr th {\n",
       "        vertical-align: top;\n",
       "    }\n",
       "\n",
       "    .dataframe thead th {\n",
       "        text-align: right;\n",
       "    }\n",
       "</style>\n",
       "<table border=\"1\" class=\"dataframe\">\n",
       "  <thead>\n",
       "    <tr style=\"text-align: right;\">\n",
       "      <th></th>\n",
       "      <th>underweight</th>\n",
       "      <th>withweight</th>\n",
       "      <th>younger5</th>\n",
       "    </tr>\n",
       "  </thead>\n",
       "  <tbody>\n",
       "    <tr>\n",
       "      <th>1</th>\n",
       "      <td>15.070761</td>\n",
       "      <td>6.700935</td>\n",
       "      <td>28.144149</td>\n",
       "    </tr>\n",
       "    <tr>\n",
       "      <th>2</th>\n",
       "      <td>15.070761</td>\n",
       "      <td>6.700935</td>\n",
       "      <td>28.144149</td>\n",
       "    </tr>\n",
       "    <tr>\n",
       "      <th>3</th>\n",
       "      <td>15.070761</td>\n",
       "      <td>6.700935</td>\n",
       "      <td>28.144149</td>\n",
       "    </tr>\n",
       "    <tr>\n",
       "      <th>5</th>\n",
       "      <td>15.070761</td>\n",
       "      <td>6.700935</td>\n",
       "      <td>28.144149</td>\n",
       "    </tr>\n",
       "    <tr>\n",
       "      <th>6</th>\n",
       "      <td>15.070761</td>\n",
       "      <td>6.700935</td>\n",
       "      <td>28.144149</td>\n",
       "    </tr>\n",
       "    <tr>\n",
       "      <th>...</th>\n",
       "      <td>...</td>\n",
       "      <td>...</td>\n",
       "      <td>...</td>\n",
       "    </tr>\n",
       "    <tr>\n",
       "      <th>935</th>\n",
       "      <td>15.070761</td>\n",
       "      <td>6.700935</td>\n",
       "      <td>35.099998</td>\n",
       "    </tr>\n",
       "    <tr>\n",
       "      <th>936</th>\n",
       "      <td>15.070761</td>\n",
       "      <td>6.700935</td>\n",
       "      <td>32.200001</td>\n",
       "    </tr>\n",
       "    <tr>\n",
       "      <th>937</th>\n",
       "      <td>15.070761</td>\n",
       "      <td>6.700935</td>\n",
       "      <td>27.600000</td>\n",
       "    </tr>\n",
       "    <tr>\n",
       "      <th>938</th>\n",
       "      <td>15.070761</td>\n",
       "      <td>6.700935</td>\n",
       "      <td>27.100000</td>\n",
       "    </tr>\n",
       "    <tr>\n",
       "      <th>939</th>\n",
       "      <td>15.070761</td>\n",
       "      <td>6.700935</td>\n",
       "      <td>23.500000</td>\n",
       "    </tr>\n",
       "  </tbody>\n",
       "</table>\n",
       "<p>2440 rows × 3 columns</p>\n",
       "</div>"
      ],
      "text/plain": [
       "     underweight  withweight   younger5\n",
       "1      15.070761    6.700935  28.144149\n",
       "2      15.070761    6.700935  28.144149\n",
       "3      15.070761    6.700935  28.144149\n",
       "5      15.070761    6.700935  28.144149\n",
       "6      15.070761    6.700935  28.144149\n",
       "..           ...         ...        ...\n",
       "935    15.070761    6.700935  35.099998\n",
       "936    15.070761    6.700935  32.200001\n",
       "937    15.070761    6.700935  27.600000\n",
       "938    15.070761    6.700935  27.100000\n",
       "939    15.070761    6.700935  23.500000\n",
       "\n",
       "[2440 rows x 3 columns]"
      ]
     },
     "execution_count": 57,
     "metadata": {},
     "output_type": "execute_result"
    }
   ],
   "source": [
    "X = X.dropna()\n",
    "X"
   ]
  },
  {
   "cell_type": "code",
   "execution_count": 58,
   "id": "9924e500",
   "metadata": {
    "execution": {
     "iopub.execute_input": "2023-01-06T06:58:01.798187Z",
     "iopub.status.busy": "2023-01-06T06:58:01.797761Z",
     "iopub.status.idle": "2023-01-06T06:58:01.806795Z",
     "shell.execute_reply": "2023-01-06T06:58:01.805685Z"
    },
    "papermill": {
     "duration": 0.05251,
     "end_time": "2023-01-06T06:58:01.809405",
     "exception": false,
     "start_time": "2023-01-06T06:58:01.756895",
     "status": "completed"
    },
    "tags": []
   },
   "outputs": [
    {
     "data": {
      "text/plain": [
       "1      2006.0\n",
       "2      2012.0\n",
       "3      2021.0\n",
       "5      2006.0\n",
       "6      2012.0\n",
       "        ...  \n",
       "935    2009.0\n",
       "936    2010.0\n",
       "937    2014.0\n",
       "938    2015.0\n",
       "939    2019.0\n",
       "Name: Year, Length: 2440, dtype: float64"
      ]
     },
     "execution_count": 58,
     "metadata": {},
     "output_type": "execute_result"
    }
   ],
   "source": [
    "y=y.dropna()\n",
    "y"
   ]
  },
  {
   "cell_type": "code",
   "execution_count": 59,
   "id": "8ad5d2bf",
   "metadata": {
    "execution": {
     "iopub.execute_input": "2023-01-06T06:58:01.891391Z",
     "iopub.status.busy": "2023-01-06T06:58:01.890439Z",
     "iopub.status.idle": "2023-01-06T06:58:01.900525Z",
     "shell.execute_reply": "2023-01-06T06:58:01.899508Z"
    },
    "papermill": {
     "duration": 0.053301,
     "end_time": "2023-01-06T06:58:01.902760",
     "exception": false,
     "start_time": "2023-01-06T06:58:01.849459",
     "status": "completed"
    },
    "tags": []
   },
   "outputs": [
    {
     "data": {
      "text/plain": [
       "LinearRegression()"
      ]
     },
     "execution_count": 59,
     "metadata": {},
     "output_type": "execute_result"
    }
   ],
   "source": [
    "from sklearn import linear_model\n",
    "\n",
    "regr = linear_model.LinearRegression()\n",
    "regr.fit(X, y)"
   ]
  },
  {
   "cell_type": "code",
   "execution_count": 60,
   "id": "7b497a02",
   "metadata": {
    "execution": {
     "iopub.execute_input": "2023-01-06T06:58:01.983113Z",
     "iopub.status.busy": "2023-01-06T06:58:01.982506Z",
     "iopub.status.idle": "2023-01-06T06:58:01.988998Z",
     "shell.execute_reply": "2023-01-06T06:58:01.988207Z"
    },
    "papermill": {
     "duration": 0.049446,
     "end_time": "2023-01-06T06:58:01.991119",
     "exception": false,
     "start_time": "2023-01-06T06:58:01.941673",
     "status": "completed"
    },
    "tags": []
   },
   "outputs": [
    {
     "data": {
      "text/plain": [
       "array([2013.21232467])"
      ]
     },
     "execution_count": 60,
     "metadata": {},
     "output_type": "execute_result"
    }
   ],
   "source": [
    "predictedGHI = regr.predict([[0, 0, 0]])\n",
    "predictedGHI"
   ]
  }
 ],
 "metadata": {
  "kernelspec": {
   "display_name": "Python 3",
   "language": "python",
   "name": "python3"
  },
  "language_info": {
   "codemirror_mode": {
    "name": "ipython",
    "version": 3
   },
   "file_extension": ".py",
   "mimetype": "text/x-python",
   "name": "python",
   "nbconvert_exporter": "python",
   "pygments_lexer": "ipython3",
   "version": "3.7.12"
  },
  "papermill": {
   "default_parameters": {},
   "duration": 23.316097,
   "end_time": "2023-01-06T06:58:02.853553",
   "environment_variables": {},
   "exception": null,
   "input_path": "__notebook__.ipynb",
   "output_path": "__notebook__.ipynb",
   "parameters": {},
   "start_time": "2023-01-06T06:57:39.537456",
   "version": "2.3.4"
  }
 },
 "nbformat": 4,
 "nbformat_minor": 5
}
