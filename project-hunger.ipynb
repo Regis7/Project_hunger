{
 "cells": [
  {
   "cell_type": "markdown",
   "id": "5f73c51b",
   "metadata": {
    "papermill": {
     "duration": 0.019951,
     "end_time": "2023-01-04T17:25:06.288476",
     "exception": false,
     "start_time": "2023-01-04T17:25:06.268525",
     "status": "completed"
    },
    "tags": []
   },
   "source": [
    "# # **Big Data Analystics Project**"
   ]
  },
  {
   "cell_type": "markdown",
   "id": "59ada835",
   "metadata": {
    "papermill": {
     "duration": 0.015613,
     "end_time": "2023-01-04T17:25:06.320376",
     "exception": false,
     "start_time": "2023-01-04T17:25:06.304763",
     "status": "completed"
    },
    "tags": []
   },
   "source": [
    "# **Introduction**"
   ]
  },
  {
   "cell_type": "markdown",
   "id": "e6e441b5",
   "metadata": {
    "papermill": {
     "duration": 0.017337,
     "end_time": "2023-01-04T17:25:06.353803",
     "exception": false,
     "start_time": "2023-01-04T17:25:06.336466",
     "status": "completed"
    },
    "tags": []
   },
   "source": [
    "Concern Worldwide and Wealth hunger life published the Global Hunger Index (GHI). It was initially published in 2006 and is released yearly in October. The 2021 edition of the Global Hunger Index (GHI) was the 16th edition of the index report. The main target of the Global Hunger Index is to track the hunger or poverty level at international and regional levels in different areas of the world.\n",
    "\n",
    "The Global Hunger Index (GHI) is calculated based on 4 parameters, which are\n",
    "\n",
    "* Child mortality\n",
    "* Under-nourishment\n",
    "* Child stunting\n",
    "* Child wasting\n",
    "\n",
    "The scoring process of nations in the Global Hunger Index (GHI) determines the hunger level of states on a scale of Zero to 100. This ranking process works in reverse order in this GHI index. The states that scored the least numbers, like 0, 1, 2, 3, 4, etc., are considered the best, with the least hunger or low food poverty in their country. Unlike the nations which fall under the category of \"80s, '90s, and '100\", they fall into the worst category in the GHI index."
   ]
  },
  {
   "cell_type": "markdown",
   "id": "5458e620",
   "metadata": {
    "papermill": {
     "duration": 0.016497,
     "end_time": "2023-01-04T17:25:06.388465",
     "exception": false,
     "start_time": "2023-01-04T17:25:06.371968",
     "status": "completed"
    },
    "tags": []
   },
   "source": [
    "**Prediction model on achieving the “Zero hunger” SDG by 2030**"
   ]
  },
  {
   "cell_type": "markdown",
   "id": "ceadc8a1",
   "metadata": {
    "papermill": {
     "duration": 0.017162,
     "end_time": "2023-01-04T17:25:06.422800",
     "exception": false,
     "start_time": "2023-01-04T17:25:06.405638",
     "status": "completed"
    },
    "tags": []
   },
   "source": [
    "The UN has voted on the resolution to stop hunger worldwide by 2030 in the\n",
    "so-called “Zero Hunger” to implement sustainable development. In this project, we want to know if that goal will be achieved and when.\n",
    "Our goal is to predict if, by the year 2030, the UN will have achieved the zero hunger target."
   ]
  },
  {
   "cell_type": "markdown",
   "id": "094af7ed",
   "metadata": {
    "papermill": {
     "duration": 0.01732,
     "end_time": "2023-01-04T17:25:06.457887",
     "exception": false,
     "start_time": "2023-01-04T17:25:06.440567",
     "status": "completed"
    },
    "tags": []
   },
   "source": [
    "Each indicator is given a standardised score on a 100 point scale based on the highest observed level for the indicator on a global scale in recent decades. The scores are then aggregated to calculate the GHI score for each country.\n",
    "\n",
    "These scores place a country along a severity scale:\n",
    "\n",
    "Low = less than or equal to 9.9\n",
    "\n",
    "Moderate = 10.0 - 19.9\n",
    "\n",
    "Serious = 20.0 - 34.9\n",
    "\n",
    "Alarming = 35.0 - 49.9\n",
    "\n",
    "Extremely alarming = less than or equal to 50.0"
   ]
  },
  {
   "cell_type": "markdown",
   "id": "1000bdc5",
   "metadata": {
    "papermill": {
     "duration": 0.016296,
     "end_time": "2023-01-04T17:25:06.491502",
     "exception": false,
     "start_time": "2023-01-04T17:25:06.475206",
     "status": "completed"
    },
    "tags": []
   },
   "source": [
    "# **Importing necessary libraries**"
   ]
  },
  {
   "cell_type": "code",
   "execution_count": 1,
   "id": "17c45d94",
   "metadata": {
    "execution": {
     "iopub.execute_input": "2023-01-04T17:25:06.527849Z",
     "iopub.status.busy": "2023-01-04T17:25:06.527372Z",
     "iopub.status.idle": "2023-01-04T17:25:08.100188Z",
     "shell.execute_reply": "2023-01-04T17:25:08.098859Z"
    },
    "papermill": {
     "duration": 1.593963,
     "end_time": "2023-01-04T17:25:08.102892",
     "exception": false,
     "start_time": "2023-01-04T17:25:06.508929",
     "status": "completed"
    },
    "tags": []
   },
   "outputs": [],
   "source": [
    "# data analysis and wrangling\n",
    "\n",
    "import numpy as np \n",
    "import pandas as pd \n",
    "from pandas import Series,DataFrame\n",
    "\n",
    "# visualization\n",
    "import matplotlib.pyplot as plt\n",
    "import seaborn as sns\n",
    "import warnings\n",
    "warnings.filterwarnings('ignore')\n",
    "\n",
    "# machine learning\n",
    "\n",
    "from sklearn.model_selection import train_test_split\n",
    "from sklearn.linear_model import LogisticRegression\n",
    "from sklearn import preprocessing\n",
    "from sklearn import utils\n",
    "\n",
    "from sklearn.svm import SVC, LinearSVC\n",
    "from sklearn.ensemble import RandomForestClassifier\n",
    "from sklearn.neighbors import KNeighborsClassifier\n",
    "from sklearn.naive_bayes import GaussianNB\n",
    "from sklearn.linear_model import Perceptron\n",
    "from sklearn.linear_model import SGDClassifier\n",
    "from sklearn.tree import DecisionTreeClassifier"
   ]
  },
  {
   "cell_type": "markdown",
   "id": "1da41afe",
   "metadata": {
    "papermill": {
     "duration": 0.016473,
     "end_time": "2023-01-04T17:25:08.135791",
     "exception": false,
     "start_time": "2023-01-04T17:25:08.119318",
     "status": "completed"
    },
    "tags": []
   },
   "source": [
    "# **Importing datasets**"
   ]
  },
  {
   "cell_type": "markdown",
   "id": "b9d07f30",
   "metadata": {
    "papermill": {
     "duration": 0.016757,
     "end_time": "2023-01-04T17:25:08.169648",
     "exception": false,
     "start_time": "2023-01-04T17:25:08.152891",
     "status": "completed"
    },
    "tags": []
   },
   "source": []
  },
  {
   "cell_type": "code",
   "execution_count": 2,
   "id": "23579cfc",
   "metadata": {
    "execution": {
     "iopub.execute_input": "2023-01-04T17:25:08.204865Z",
     "iopub.status.busy": "2023-01-04T17:25:08.204495Z",
     "iopub.status.idle": "2023-01-04T17:25:08.269680Z",
     "shell.execute_reply": "2023-01-04T17:25:08.268193Z"
    },
    "papermill": {
     "duration": 0.086213,
     "end_time": "2023-01-04T17:25:08.272687",
     "exception": false,
     "start_time": "2023-01-04T17:25:08.186474",
     "status": "completed"
    },
    "tags": []
   },
   "outputs": [],
   "source": [
    "df_global_hunger_index = pd.read_csv(\"/kaggle/input/the-global-hunger-index/global-hunger-index.csv\")\n",
    "df_chridren_underweight = pd.read_csv(\"/kaggle/input/the-global-hunger-index/share-of-children-underweight.csv\")\n",
    "df_chridren_withweight = pd.read_csv(\"/kaggle/input/the-global-hunger-index/share-of-children-with-a-weight-too-low-for-their-height-wasting.csv\")\n",
    "df_chridren_younger5 = pd.read_csv(\"/kaggle/input/the-global-hunger-index/share-of-children-younger-than-5-who-suffer-from-stunting.csv\")"
   ]
  },
  {
   "cell_type": "markdown",
   "id": "e169ffc4",
   "metadata": {
    "papermill": {
     "duration": 0.016229,
     "end_time": "2023-01-04T17:25:08.306674",
     "exception": false,
     "start_time": "2023-01-04T17:25:08.290445",
     "status": "completed"
    },
    "tags": []
   },
   "source": [
    "# **Understanding the datasets**"
   ]
  },
  {
   "cell_type": "markdown",
   "id": "1dd0d4e7",
   "metadata": {
    "papermill": {
     "duration": 0.015926,
     "end_time": "2023-01-04T17:25:08.338951",
     "exception": false,
     "start_time": "2023-01-04T17:25:08.323025",
     "status": "completed"
    },
    "tags": []
   },
   "source": []
  },
  {
   "cell_type": "code",
   "execution_count": 3,
   "id": "07b2fb89",
   "metadata": {
    "execution": {
     "iopub.execute_input": "2023-01-04T17:25:08.373454Z",
     "iopub.status.busy": "2023-01-04T17:25:08.372990Z",
     "iopub.status.idle": "2023-01-04T17:25:08.397207Z",
     "shell.execute_reply": "2023-01-04T17:25:08.395559Z"
    },
    "papermill": {
     "duration": 0.044949,
     "end_time": "2023-01-04T17:25:08.400230",
     "exception": false,
     "start_time": "2023-01-04T17:25:08.355281",
     "status": "completed"
    },
    "tags": []
   },
   "outputs": [
    {
     "data": {
      "text/html": [
       "<div>\n",
       "<style scoped>\n",
       "    .dataframe tbody tr th:only-of-type {\n",
       "        vertical-align: middle;\n",
       "    }\n",
       "\n",
       "    .dataframe tbody tr th {\n",
       "        vertical-align: top;\n",
       "    }\n",
       "\n",
       "    .dataframe thead th {\n",
       "        text-align: right;\n",
       "    }\n",
       "</style>\n",
       "<table border=\"1\" class=\"dataframe\">\n",
       "  <thead>\n",
       "    <tr style=\"text-align: right;\">\n",
       "      <th></th>\n",
       "      <th>Entity</th>\n",
       "      <th>Code</th>\n",
       "      <th>Year</th>\n",
       "      <th>Global Hunger Index (2021)</th>\n",
       "      <th>411773-annotations</th>\n",
       "    </tr>\n",
       "  </thead>\n",
       "  <tbody>\n",
       "    <tr>\n",
       "      <th>0</th>\n",
       "      <td>Afghanistan</td>\n",
       "      <td>AFG</td>\n",
       "      <td>2000</td>\n",
       "      <td>50.9</td>\n",
       "      <td>NaN</td>\n",
       "    </tr>\n",
       "    <tr>\n",
       "      <th>1</th>\n",
       "      <td>Afghanistan</td>\n",
       "      <td>AFG</td>\n",
       "      <td>2006</td>\n",
       "      <td>42.7</td>\n",
       "      <td>NaN</td>\n",
       "    </tr>\n",
       "    <tr>\n",
       "      <th>2</th>\n",
       "      <td>Afghanistan</td>\n",
       "      <td>AFG</td>\n",
       "      <td>2012</td>\n",
       "      <td>34.3</td>\n",
       "      <td>NaN</td>\n",
       "    </tr>\n",
       "    <tr>\n",
       "      <th>3</th>\n",
       "      <td>Afghanistan</td>\n",
       "      <td>AFG</td>\n",
       "      <td>2021</td>\n",
       "      <td>28.3</td>\n",
       "      <td>NaN</td>\n",
       "    </tr>\n",
       "    <tr>\n",
       "      <th>4</th>\n",
       "      <td>Albania</td>\n",
       "      <td>ALB</td>\n",
       "      <td>2000</td>\n",
       "      <td>20.7</td>\n",
       "      <td>NaN</td>\n",
       "    </tr>\n",
       "  </tbody>\n",
       "</table>\n",
       "</div>"
      ],
      "text/plain": [
       "        Entity Code  Year  Global Hunger Index (2021) 411773-annotations\n",
       "0  Afghanistan  AFG  2000                        50.9                NaN\n",
       "1  Afghanistan  AFG  2006                        42.7                NaN\n",
       "2  Afghanistan  AFG  2012                        34.3                NaN\n",
       "3  Afghanistan  AFG  2021                        28.3                NaN\n",
       "4      Albania  ALB  2000                        20.7                NaN"
      ]
     },
     "execution_count": 3,
     "metadata": {},
     "output_type": "execute_result"
    }
   ],
   "source": [
    "df_global_hunger_index.head()"
   ]
  },
  {
   "cell_type": "code",
   "execution_count": 4,
   "id": "fea1d565",
   "metadata": {
    "execution": {
     "iopub.execute_input": "2023-01-04T17:25:08.435988Z",
     "iopub.status.busy": "2023-01-04T17:25:08.435605Z",
     "iopub.status.idle": "2023-01-04T17:25:08.448404Z",
     "shell.execute_reply": "2023-01-04T17:25:08.446472Z"
    },
    "papermill": {
     "duration": 0.034304,
     "end_time": "2023-01-04T17:25:08.451461",
     "exception": false,
     "start_time": "2023-01-04T17:25:08.417157",
     "status": "completed"
    },
    "tags": []
   },
   "outputs": [
    {
     "data": {
      "text/html": [
       "<div>\n",
       "<style scoped>\n",
       "    .dataframe tbody tr th:only-of-type {\n",
       "        vertical-align: middle;\n",
       "    }\n",
       "\n",
       "    .dataframe tbody tr th {\n",
       "        vertical-align: top;\n",
       "    }\n",
       "\n",
       "    .dataframe thead th {\n",
       "        text-align: right;\n",
       "    }\n",
       "</style>\n",
       "<table border=\"1\" class=\"dataframe\">\n",
       "  <thead>\n",
       "    <tr style=\"text-align: right;\">\n",
       "      <th></th>\n",
       "      <th>Entity</th>\n",
       "      <th>Code</th>\n",
       "      <th>Year</th>\n",
       "      <th>Prevalence of underweight, weight for age (% of children under 5)</th>\n",
       "    </tr>\n",
       "  </thead>\n",
       "  <tbody>\n",
       "    <tr>\n",
       "      <th>0</th>\n",
       "      <td>Afghanistan</td>\n",
       "      <td>AFG</td>\n",
       "      <td>1997</td>\n",
       "      <td>44.900002</td>\n",
       "    </tr>\n",
       "    <tr>\n",
       "      <th>1</th>\n",
       "      <td>Afghanistan</td>\n",
       "      <td>AFG</td>\n",
       "      <td>2004</td>\n",
       "      <td>32.900002</td>\n",
       "    </tr>\n",
       "    <tr>\n",
       "      <th>2</th>\n",
       "      <td>Afghanistan</td>\n",
       "      <td>AFG</td>\n",
       "      <td>2013</td>\n",
       "      <td>24.600000</td>\n",
       "    </tr>\n",
       "    <tr>\n",
       "      <th>3</th>\n",
       "      <td>Afghanistan</td>\n",
       "      <td>AFG</td>\n",
       "      <td>2018</td>\n",
       "      <td>19.100000</td>\n",
       "    </tr>\n",
       "    <tr>\n",
       "      <th>4</th>\n",
       "      <td>Albania</td>\n",
       "      <td>ALB</td>\n",
       "      <td>1997</td>\n",
       "      <td>7.100000</td>\n",
       "    </tr>\n",
       "  </tbody>\n",
       "</table>\n",
       "</div>"
      ],
      "text/plain": [
       "        Entity Code  Year  \\\n",
       "0  Afghanistan  AFG  1997   \n",
       "1  Afghanistan  AFG  2004   \n",
       "2  Afghanistan  AFG  2013   \n",
       "3  Afghanistan  AFG  2018   \n",
       "4      Albania  ALB  1997   \n",
       "\n",
       "   Prevalence of underweight, weight for age (% of children under 5)  \n",
       "0                                          44.900002                  \n",
       "1                                          32.900002                  \n",
       "2                                          24.600000                  \n",
       "3                                          19.100000                  \n",
       "4                                           7.100000                  "
      ]
     },
     "execution_count": 4,
     "metadata": {},
     "output_type": "execute_result"
    }
   ],
   "source": [
    "df_chridren_underweight.head()"
   ]
  },
  {
   "cell_type": "code",
   "execution_count": 5,
   "id": "b4949a3f",
   "metadata": {
    "execution": {
     "iopub.execute_input": "2023-01-04T17:25:08.488507Z",
     "iopub.status.busy": "2023-01-04T17:25:08.488041Z",
     "iopub.status.idle": "2023-01-04T17:25:08.502276Z",
     "shell.execute_reply": "2023-01-04T17:25:08.500594Z"
    },
    "papermill": {
     "duration": 0.036641,
     "end_time": "2023-01-04T17:25:08.505141",
     "exception": false,
     "start_time": "2023-01-04T17:25:08.468500",
     "status": "completed"
    },
    "tags": []
   },
   "outputs": [
    {
     "data": {
      "text/html": [
       "<div>\n",
       "<style scoped>\n",
       "    .dataframe tbody tr th:only-of-type {\n",
       "        vertical-align: middle;\n",
       "    }\n",
       "\n",
       "    .dataframe tbody tr th {\n",
       "        vertical-align: top;\n",
       "    }\n",
       "\n",
       "    .dataframe thead th {\n",
       "        text-align: right;\n",
       "    }\n",
       "</style>\n",
       "<table border=\"1\" class=\"dataframe\">\n",
       "  <thead>\n",
       "    <tr style=\"text-align: right;\">\n",
       "      <th></th>\n",
       "      <th>Entity</th>\n",
       "      <th>Code</th>\n",
       "      <th>Year</th>\n",
       "      <th>Prevalence of wasting, weight for height (% of children under 5)</th>\n",
       "    </tr>\n",
       "  </thead>\n",
       "  <tbody>\n",
       "    <tr>\n",
       "      <th>0</th>\n",
       "      <td>Afghanistan</td>\n",
       "      <td>AFG</td>\n",
       "      <td>1997</td>\n",
       "      <td>18.200001</td>\n",
       "    </tr>\n",
       "    <tr>\n",
       "      <th>1</th>\n",
       "      <td>Afghanistan</td>\n",
       "      <td>AFG</td>\n",
       "      <td>2004</td>\n",
       "      <td>8.600000</td>\n",
       "    </tr>\n",
       "    <tr>\n",
       "      <th>2</th>\n",
       "      <td>Afghanistan</td>\n",
       "      <td>AFG</td>\n",
       "      <td>2013</td>\n",
       "      <td>9.500000</td>\n",
       "    </tr>\n",
       "    <tr>\n",
       "      <th>3</th>\n",
       "      <td>Afghanistan</td>\n",
       "      <td>AFG</td>\n",
       "      <td>2018</td>\n",
       "      <td>5.100000</td>\n",
       "    </tr>\n",
       "    <tr>\n",
       "      <th>4</th>\n",
       "      <td>Albania</td>\n",
       "      <td>ALB</td>\n",
       "      <td>1997</td>\n",
       "      <td>8.100000</td>\n",
       "    </tr>\n",
       "  </tbody>\n",
       "</table>\n",
       "</div>"
      ],
      "text/plain": [
       "        Entity Code  Year  \\\n",
       "0  Afghanistan  AFG  1997   \n",
       "1  Afghanistan  AFG  2004   \n",
       "2  Afghanistan  AFG  2013   \n",
       "3  Afghanistan  AFG  2018   \n",
       "4      Albania  ALB  1997   \n",
       "\n",
       "   Prevalence of wasting, weight for height (% of children under 5)  \n",
       "0                                          18.200001                 \n",
       "1                                           8.600000                 \n",
       "2                                           9.500000                 \n",
       "3                                           5.100000                 \n",
       "4                                           8.100000                 "
      ]
     },
     "execution_count": 5,
     "metadata": {},
     "output_type": "execute_result"
    }
   ],
   "source": [
    "df_chridren_withweight.head()"
   ]
  },
  {
   "cell_type": "code",
   "execution_count": 6,
   "id": "c90324f6",
   "metadata": {
    "execution": {
     "iopub.execute_input": "2023-01-04T17:25:08.543634Z",
     "iopub.status.busy": "2023-01-04T17:25:08.541989Z",
     "iopub.status.idle": "2023-01-04T17:25:08.557221Z",
     "shell.execute_reply": "2023-01-04T17:25:08.555844Z"
    },
    "papermill": {
     "duration": 0.037699,
     "end_time": "2023-01-04T17:25:08.559696",
     "exception": false,
     "start_time": "2023-01-04T17:25:08.521997",
     "status": "completed"
    },
    "tags": []
   },
   "outputs": [
    {
     "data": {
      "text/html": [
       "<div>\n",
       "<style scoped>\n",
       "    .dataframe tbody tr th:only-of-type {\n",
       "        vertical-align: middle;\n",
       "    }\n",
       "\n",
       "    .dataframe tbody tr th {\n",
       "        vertical-align: top;\n",
       "    }\n",
       "\n",
       "    .dataframe thead th {\n",
       "        text-align: right;\n",
       "    }\n",
       "</style>\n",
       "<table border=\"1\" class=\"dataframe\">\n",
       "  <thead>\n",
       "    <tr style=\"text-align: right;\">\n",
       "      <th></th>\n",
       "      <th>Entity</th>\n",
       "      <th>Code</th>\n",
       "      <th>Year</th>\n",
       "      <th>Prevalence of stunting, height for age (% of children under 5)</th>\n",
       "    </tr>\n",
       "  </thead>\n",
       "  <tbody>\n",
       "    <tr>\n",
       "      <th>0</th>\n",
       "      <td>Afghanistan</td>\n",
       "      <td>AFG</td>\n",
       "      <td>1997</td>\n",
       "      <td>53.200001</td>\n",
       "    </tr>\n",
       "    <tr>\n",
       "      <th>1</th>\n",
       "      <td>Afghanistan</td>\n",
       "      <td>AFG</td>\n",
       "      <td>2004</td>\n",
       "      <td>59.299999</td>\n",
       "    </tr>\n",
       "    <tr>\n",
       "      <th>2</th>\n",
       "      <td>Afghanistan</td>\n",
       "      <td>AFG</td>\n",
       "      <td>2013</td>\n",
       "      <td>40.400002</td>\n",
       "    </tr>\n",
       "    <tr>\n",
       "      <th>3</th>\n",
       "      <td>Afghanistan</td>\n",
       "      <td>AFG</td>\n",
       "      <td>2018</td>\n",
       "      <td>38.200001</td>\n",
       "    </tr>\n",
       "    <tr>\n",
       "      <th>4</th>\n",
       "      <td>Albania</td>\n",
       "      <td>ALB</td>\n",
       "      <td>1997</td>\n",
       "      <td>20.400000</td>\n",
       "    </tr>\n",
       "  </tbody>\n",
       "</table>\n",
       "</div>"
      ],
      "text/plain": [
       "        Entity Code  Year  \\\n",
       "0  Afghanistan  AFG  1997   \n",
       "1  Afghanistan  AFG  2004   \n",
       "2  Afghanistan  AFG  2013   \n",
       "3  Afghanistan  AFG  2018   \n",
       "4      Albania  ALB  1997   \n",
       "\n",
       "   Prevalence of stunting, height for age (% of children under 5)  \n",
       "0                                          53.200001               \n",
       "1                                          59.299999               \n",
       "2                                          40.400002               \n",
       "3                                          38.200001               \n",
       "4                                          20.400000               "
      ]
     },
     "execution_count": 6,
     "metadata": {},
     "output_type": "execute_result"
    }
   ],
   "source": [
    "df_chridren_younger5.head()"
   ]
  },
  {
   "cell_type": "code",
   "execution_count": 7,
   "id": "8df5f6b6",
   "metadata": {
    "execution": {
     "iopub.execute_input": "2023-01-04T17:25:08.598464Z",
     "iopub.status.busy": "2023-01-04T17:25:08.597414Z",
     "iopub.status.idle": "2023-01-04T17:25:08.628401Z",
     "shell.execute_reply": "2023-01-04T17:25:08.626758Z"
    },
    "papermill": {
     "duration": 0.055224,
     "end_time": "2023-01-04T17:25:08.631841",
     "exception": false,
     "start_time": "2023-01-04T17:25:08.576617",
     "status": "completed"
    },
    "tags": []
   },
   "outputs": [
    {
     "name": "stdout",
     "output_type": "stream",
     "text": [
      "<class 'pandas.core.frame.DataFrame'>\n",
      "RangeIndex: 471 entries, 0 to 470\n",
      "Data columns (total 5 columns):\n",
      " #   Column                      Non-Null Count  Dtype  \n",
      "---  ------                      --------------  -----  \n",
      " 0   Entity                      471 non-null    object \n",
      " 1   Code                        471 non-null    object \n",
      " 2   Year                        471 non-null    int64  \n",
      " 3   Global Hunger Index (2021)  471 non-null    float64\n",
      " 4   411773-annotations          12 non-null     object \n",
      "dtypes: float64(1), int64(1), object(3)\n",
      "memory usage: 18.5+ KB\n"
     ]
    }
   ],
   "source": [
    "df_global_hunger_index.info()"
   ]
  },
  {
   "cell_type": "code",
   "execution_count": 8,
   "id": "3bbf33c8",
   "metadata": {
    "execution": {
     "iopub.execute_input": "2023-01-04T17:25:08.669844Z",
     "iopub.status.busy": "2023-01-04T17:25:08.669446Z",
     "iopub.status.idle": "2023-01-04T17:25:08.686666Z",
     "shell.execute_reply": "2023-01-04T17:25:08.685566Z"
    },
    "papermill": {
     "duration": 0.039534,
     "end_time": "2023-01-04T17:25:08.689281",
     "exception": false,
     "start_time": "2023-01-04T17:25:08.649747",
     "status": "completed"
    },
    "tags": []
   },
   "outputs": [
    {
     "data": {
      "text/html": [
       "<div>\n",
       "<style scoped>\n",
       "    .dataframe tbody tr th:only-of-type {\n",
       "        vertical-align: middle;\n",
       "    }\n",
       "\n",
       "    .dataframe tbody tr th {\n",
       "        vertical-align: top;\n",
       "    }\n",
       "\n",
       "    .dataframe thead th {\n",
       "        text-align: right;\n",
       "    }\n",
       "</style>\n",
       "<table border=\"1\" class=\"dataframe\">\n",
       "  <thead>\n",
       "    <tr style=\"text-align: right;\">\n",
       "      <th></th>\n",
       "      <th>Entity</th>\n",
       "      <th>Code</th>\n",
       "      <th>Year</th>\n",
       "      <th>Global Hunger Index (2021)</th>\n",
       "      <th>411773-annotations</th>\n",
       "    </tr>\n",
       "  </thead>\n",
       "  <tbody>\n",
       "    <tr>\n",
       "      <th>0</th>\n",
       "      <td>Afghanistan</td>\n",
       "      <td>AFG</td>\n",
       "      <td>2000</td>\n",
       "      <td>50.9</td>\n",
       "      <td>NaN</td>\n",
       "    </tr>\n",
       "    <tr>\n",
       "      <th>1</th>\n",
       "      <td>Afghanistan</td>\n",
       "      <td>AFG</td>\n",
       "      <td>2006</td>\n",
       "      <td>42.7</td>\n",
       "      <td>NaN</td>\n",
       "    </tr>\n",
       "    <tr>\n",
       "      <th>2</th>\n",
       "      <td>Afghanistan</td>\n",
       "      <td>AFG</td>\n",
       "      <td>2012</td>\n",
       "      <td>34.3</td>\n",
       "      <td>NaN</td>\n",
       "    </tr>\n",
       "    <tr>\n",
       "      <th>3</th>\n",
       "      <td>Afghanistan</td>\n",
       "      <td>AFG</td>\n",
       "      <td>2021</td>\n",
       "      <td>28.3</td>\n",
       "      <td>NaN</td>\n",
       "    </tr>\n",
       "    <tr>\n",
       "      <th>4</th>\n",
       "      <td>Albania</td>\n",
       "      <td>ALB</td>\n",
       "      <td>2000</td>\n",
       "      <td>20.7</td>\n",
       "      <td>NaN</td>\n",
       "    </tr>\n",
       "    <tr>\n",
       "      <th>...</th>\n",
       "      <td>...</td>\n",
       "      <td>...</td>\n",
       "      <td>...</td>\n",
       "      <td>...</td>\n",
       "      <td>...</td>\n",
       "    </tr>\n",
       "    <tr>\n",
       "      <th>466</th>\n",
       "      <td>Yemen</td>\n",
       "      <td>YEM</td>\n",
       "      <td>2006</td>\n",
       "      <td>38.8</td>\n",
       "      <td>NaN</td>\n",
       "    </tr>\n",
       "    <tr>\n",
       "      <th>467</th>\n",
       "      <td>Yemen</td>\n",
       "      <td>YEM</td>\n",
       "      <td>2012</td>\n",
       "      <td>38.4</td>\n",
       "      <td>NaN</td>\n",
       "    </tr>\n",
       "    <tr>\n",
       "      <th>468</th>\n",
       "      <td>Yemen</td>\n",
       "      <td>YEM</td>\n",
       "      <td>2021</td>\n",
       "      <td>45.1</td>\n",
       "      <td>NaN</td>\n",
       "    </tr>\n",
       "    <tr>\n",
       "      <th>469</th>\n",
       "      <td>Zambia</td>\n",
       "      <td>ZMB</td>\n",
       "      <td>2021</td>\n",
       "      <td>27.5</td>\n",
       "      <td>Value represents the mid-point of its group in...</td>\n",
       "    </tr>\n",
       "    <tr>\n",
       "      <th>470</th>\n",
       "      <td>Zimbabwe</td>\n",
       "      <td>ZWE</td>\n",
       "      <td>2021</td>\n",
       "      <td>27.5</td>\n",
       "      <td>Value represents the mid-point of its group in...</td>\n",
       "    </tr>\n",
       "  </tbody>\n",
       "</table>\n",
       "<p>471 rows × 5 columns</p>\n",
       "</div>"
      ],
      "text/plain": [
       "          Entity Code  Year  Global Hunger Index (2021)  \\\n",
       "0    Afghanistan  AFG  2000                        50.9   \n",
       "1    Afghanistan  AFG  2006                        42.7   \n",
       "2    Afghanistan  AFG  2012                        34.3   \n",
       "3    Afghanistan  AFG  2021                        28.3   \n",
       "4        Albania  ALB  2000                        20.7   \n",
       "..           ...  ...   ...                         ...   \n",
       "466        Yemen  YEM  2006                        38.8   \n",
       "467        Yemen  YEM  2012                        38.4   \n",
       "468        Yemen  YEM  2021                        45.1   \n",
       "469       Zambia  ZMB  2021                        27.5   \n",
       "470     Zimbabwe  ZWE  2021                        27.5   \n",
       "\n",
       "                                    411773-annotations  \n",
       "0                                                  NaN  \n",
       "1                                                  NaN  \n",
       "2                                                  NaN  \n",
       "3                                                  NaN  \n",
       "4                                                  NaN  \n",
       "..                                                 ...  \n",
       "466                                                NaN  \n",
       "467                                                NaN  \n",
       "468                                                NaN  \n",
       "469  Value represents the mid-point of its group in...  \n",
       "470  Value represents the mid-point of its group in...  \n",
       "\n",
       "[471 rows x 5 columns]"
      ]
     },
     "execution_count": 8,
     "metadata": {},
     "output_type": "execute_result"
    }
   ],
   "source": [
    "df_global_hunger_index"
   ]
  },
  {
   "cell_type": "markdown",
   "id": "995350a4",
   "metadata": {
    "papermill": {
     "duration": 0.017377,
     "end_time": "2023-01-04T17:25:08.725726",
     "exception": false,
     "start_time": "2023-01-04T17:25:08.708349",
     "status": "completed"
    },
    "tags": []
   },
   "source": [
    "**Check Null Values**"
   ]
  },
  {
   "cell_type": "code",
   "execution_count": 9,
   "id": "68885f0d",
   "metadata": {
    "execution": {
     "iopub.execute_input": "2023-01-04T17:25:08.762638Z",
     "iopub.status.busy": "2023-01-04T17:25:08.762249Z",
     "iopub.status.idle": "2023-01-04T17:25:08.771972Z",
     "shell.execute_reply": "2023-01-04T17:25:08.770637Z"
    },
    "papermill": {
     "duration": 0.031054,
     "end_time": "2023-01-04T17:25:08.774612",
     "exception": false,
     "start_time": "2023-01-04T17:25:08.743558",
     "status": "completed"
    },
    "tags": []
   },
   "outputs": [
    {
     "data": {
      "text/plain": [
       "Entity                          0\n",
       "Code                            0\n",
       "Year                            0\n",
       "Global Hunger Index (2021)      0\n",
       "411773-annotations            459\n",
       "dtype: int64"
      ]
     },
     "execution_count": 9,
     "metadata": {},
     "output_type": "execute_result"
    }
   ],
   "source": [
    "df_global_hunger_index.isnull().sum()"
   ]
  },
  {
   "cell_type": "markdown",
   "id": "73fe9294",
   "metadata": {
    "papermill": {
     "duration": 0.018004,
     "end_time": "2023-01-04T17:25:08.810272",
     "exception": false,
     "start_time": "2023-01-04T17:25:08.792268",
     "status": "completed"
    },
    "tags": []
   },
   "source": [
    "**Check duplicate values**"
   ]
  },
  {
   "cell_type": "code",
   "execution_count": 10,
   "id": "330fcca7",
   "metadata": {
    "execution": {
     "iopub.execute_input": "2023-01-04T17:25:08.848298Z",
     "iopub.status.busy": "2023-01-04T17:25:08.847908Z",
     "iopub.status.idle": "2023-01-04T17:25:08.858280Z",
     "shell.execute_reply": "2023-01-04T17:25:08.857244Z"
    },
    "papermill": {
     "duration": 0.032398,
     "end_time": "2023-01-04T17:25:08.860685",
     "exception": false,
     "start_time": "2023-01-04T17:25:08.828287",
     "status": "completed"
    },
    "tags": []
   },
   "outputs": [
    {
     "data": {
      "text/plain": [
       "0"
      ]
     },
     "execution_count": 10,
     "metadata": {},
     "output_type": "execute_result"
    }
   ],
   "source": [
    "df_global_hunger_index.duplicated().sum()"
   ]
  },
  {
   "cell_type": "markdown",
   "id": "be6420b3",
   "metadata": {
    "papermill": {
     "duration": 0.016902,
     "end_time": "2023-01-04T17:25:08.895323",
     "exception": false,
     "start_time": "2023-01-04T17:25:08.878421",
     "status": "completed"
    },
    "tags": []
   },
   "source": [
    "**Let's see summary statistics of our dataset by applying describe(). **"
   ]
  },
  {
   "cell_type": "code",
   "execution_count": 11,
   "id": "482f175c",
   "metadata": {
    "execution": {
     "iopub.execute_input": "2023-01-04T17:25:08.932999Z",
     "iopub.status.busy": "2023-01-04T17:25:08.932529Z",
     "iopub.status.idle": "2023-01-04T17:25:08.951147Z",
     "shell.execute_reply": "2023-01-04T17:25:08.949861Z"
    },
    "papermill": {
     "duration": 0.040413,
     "end_time": "2023-01-04T17:25:08.953625",
     "exception": false,
     "start_time": "2023-01-04T17:25:08.913212",
     "status": "completed"
    },
    "tags": []
   },
   "outputs": [
    {
     "data": {
      "text/html": [
       "<div>\n",
       "<style scoped>\n",
       "    .dataframe tbody tr th:only-of-type {\n",
       "        vertical-align: middle;\n",
       "    }\n",
       "\n",
       "    .dataframe tbody tr th {\n",
       "        vertical-align: top;\n",
       "    }\n",
       "\n",
       "    .dataframe thead th {\n",
       "        text-align: right;\n",
       "    }\n",
       "</style>\n",
       "<table border=\"1\" class=\"dataframe\">\n",
       "  <thead>\n",
       "    <tr style=\"text-align: right;\">\n",
       "      <th></th>\n",
       "      <th>Year</th>\n",
       "      <th>Global Hunger Index (2021)</th>\n",
       "    </tr>\n",
       "  </thead>\n",
       "  <tbody>\n",
       "    <tr>\n",
       "      <th>count</th>\n",
       "      <td>471.000000</td>\n",
       "      <td>471.000000</td>\n",
       "    </tr>\n",
       "    <tr>\n",
       "      <th>mean</th>\n",
       "      <td>2010.127389</td>\n",
       "      <td>19.824628</td>\n",
       "    </tr>\n",
       "    <tr>\n",
       "      <th>std</th>\n",
       "      <td>7.852951</td>\n",
       "      <td>13.449570</td>\n",
       "    </tr>\n",
       "    <tr>\n",
       "      <th>min</th>\n",
       "      <td>2000.000000</td>\n",
       "      <td>2.500000</td>\n",
       "    </tr>\n",
       "    <tr>\n",
       "      <th>25%</th>\n",
       "      <td>2006.000000</td>\n",
       "      <td>8.800000</td>\n",
       "    </tr>\n",
       "    <tr>\n",
       "      <th>50%</th>\n",
       "      <td>2012.000000</td>\n",
       "      <td>17.000000</td>\n",
       "    </tr>\n",
       "    <tr>\n",
       "      <th>75%</th>\n",
       "      <td>2021.000000</td>\n",
       "      <td>28.550000</td>\n",
       "    </tr>\n",
       "    <tr>\n",
       "      <th>max</th>\n",
       "      <td>2021.000000</td>\n",
       "      <td>65.100000</td>\n",
       "    </tr>\n",
       "  </tbody>\n",
       "</table>\n",
       "</div>"
      ],
      "text/plain": [
       "              Year  Global Hunger Index (2021)\n",
       "count   471.000000                  471.000000\n",
       "mean   2010.127389                   19.824628\n",
       "std       7.852951                   13.449570\n",
       "min    2000.000000                    2.500000\n",
       "25%    2006.000000                    8.800000\n",
       "50%    2012.000000                   17.000000\n",
       "75%    2021.000000                   28.550000\n",
       "max    2021.000000                   65.100000"
      ]
     },
     "execution_count": 11,
     "metadata": {},
     "output_type": "execute_result"
    }
   ],
   "source": [
    "df_global_hunger_index.describe()"
   ]
  },
  {
   "cell_type": "markdown",
   "id": "cf1f0837",
   "metadata": {
    "papermill": {
     "duration": 0.018452,
     "end_time": "2023-01-04T17:25:08.990263",
     "exception": false,
     "start_time": "2023-01-04T17:25:08.971811",
     "status": "completed"
    },
    "tags": []
   },
   "source": [
    "Years do we have in our dataset"
   ]
  },
  {
   "cell_type": "code",
   "execution_count": 12,
   "id": "63c65462",
   "metadata": {
    "execution": {
     "iopub.execute_input": "2023-01-04T17:25:09.029362Z",
     "iopub.status.busy": "2023-01-04T17:25:09.028914Z",
     "iopub.status.idle": "2023-01-04T17:25:09.036122Z",
     "shell.execute_reply": "2023-01-04T17:25:09.035486Z"
    },
    "papermill": {
     "duration": 0.029304,
     "end_time": "2023-01-04T17:25:09.037797",
     "exception": false,
     "start_time": "2023-01-04T17:25:09.008493",
     "status": "completed"
    },
    "tags": []
   },
   "outputs": [
    {
     "data": {
      "text/plain": [
       "array([2000, 2006, 2012, 2021])"
      ]
     },
     "execution_count": 12,
     "metadata": {},
     "output_type": "execute_result"
    }
   ],
   "source": [
    "df_years = df_global_hunger_index['Year'].unique()\n",
    "df_years"
   ]
  },
  {
   "cell_type": "markdown",
   "id": "715fa9bb",
   "metadata": {
    "papermill": {
     "duration": 0.017811,
     "end_time": "2023-01-04T17:25:09.074006",
     "exception": false,
     "start_time": "2023-01-04T17:25:09.056195",
     "status": "completed"
    },
    "tags": []
   },
   "source": [
    "**Visualization**"
   ]
  },
  {
   "cell_type": "code",
   "execution_count": 13,
   "id": "31538396",
   "metadata": {
    "execution": {
     "iopub.execute_input": "2023-01-04T17:25:09.111409Z",
     "iopub.status.busy": "2023-01-04T17:25:09.111009Z",
     "iopub.status.idle": "2023-01-04T17:25:09.980506Z",
     "shell.execute_reply": "2023-01-04T17:25:09.979730Z"
    },
    "papermill": {
     "duration": 0.890896,
     "end_time": "2023-01-04T17:25:09.982803",
     "exception": false,
     "start_time": "2023-01-04T17:25:09.091907",
     "status": "completed"
    },
    "tags": []
   },
   "outputs": [
    {
     "data": {
      "text/plain": [
       "<seaborn.axisgrid.PairGrid at 0x7fd6229c2dd0>"
      ]
     },
     "execution_count": 13,
     "metadata": {},
     "output_type": "execute_result"
    },
    {
     "data": {
      "image/png": "[encoded data removed]",
      "text/plain": [
       "<Figure size 360x360 with 6 Axes>"
      ]
     },
     "metadata": {
      "needs_background": "light"
     },
     "output_type": "display_data"
    }
   ],
   "source": [
    "# Let's plot a pair plot of all variables in our dataframe\n",
    "sns.pairplot(df_global_hunger_index)"
   ]
  },
  {
   "cell_type": "code",
   "execution_count": 14,
   "id": "a43a8611",
   "metadata": {
    "execution": {
     "iopub.execute_input": "2023-01-04T17:25:10.023229Z",
     "iopub.status.busy": "2023-01-04T17:25:10.022611Z",
     "iopub.status.idle": "2023-01-04T17:25:10.026736Z",
     "shell.execute_reply": "2023-01-04T17:25:10.025630Z"
    },
    "papermill": {
     "duration": 0.026709,
     "end_time": "2023-01-04T17:25:10.028662",
     "exception": false,
     "start_time": "2023-01-04T17:25:10.001953",
     "status": "completed"
    },
    "tags": []
   },
   "outputs": [],
   "source": [
    "#sns.heatmap(df_global_hunger_index.corr(),annot=True)"
   ]
  },
  {
   "cell_type": "code",
   "execution_count": 15,
   "id": "beffc45f",
   "metadata": {
    "execution": {
     "iopub.execute_input": "2023-01-04T17:25:10.070030Z",
     "iopub.status.busy": "2023-01-04T17:25:10.069471Z",
     "iopub.status.idle": "2023-01-04T17:25:15.244863Z",
     "shell.execute_reply": "2023-01-04T17:25:15.243403Z"
    },
    "papermill": {
     "duration": 5.198721,
     "end_time": "2023-01-04T17:25:15.247167",
     "exception": false,
     "start_time": "2023-01-04T17:25:10.048446",
     "status": "completed"
    },
    "tags": []
   },
   "outputs": [
    {
     "data": {
      "image/png": "[encoded data removed]",
      "text/plain": [
       "<Figure size 1440x648 with 1 Axes>"
      ]
     },
     "metadata": {
      "needs_background": "light"
     },
     "output_type": "display_data"
    }
   ],
   "source": [
    "df_global_hunger_index.plot(x=\"Entity\", y=[\"Global Hunger Index (2021)\",\"Year\"], kind=\"bar\", figsize=(20, 9))\n",
    "plt.show()                     "
   ]
  },
  {
   "cell_type": "markdown",
   "id": "df2296a6",
   "metadata": {
    "papermill": {
     "duration": 0.020351,
     "end_time": "2023-01-04T17:25:15.287515",
     "exception": false,
     "start_time": "2023-01-04T17:25:15.267164",
     "status": "completed"
    },
    "tags": []
   },
   "source": [
    "# **Data Pre-processing**"
   ]
  },
  {
   "cell_type": "markdown",
   "id": "da3c260d",
   "metadata": {
    "papermill": {
     "duration": 0.019606,
     "end_time": "2023-01-04T17:25:15.327270",
     "exception": false,
     "start_time": "2023-01-04T17:25:15.307664",
     "status": "completed"
    },
    "tags": []
   },
   "source": [
    "**Renaming columns**"
   ]
  },
  {
   "cell_type": "code",
   "execution_count": 16,
   "id": "fd336ca4",
   "metadata": {
    "execution": {
     "iopub.execute_input": "2023-01-04T17:25:15.368760Z",
     "iopub.status.busy": "2023-01-04T17:25:15.368372Z",
     "iopub.status.idle": "2023-01-04T17:25:15.381271Z",
     "shell.execute_reply": "2023-01-04T17:25:15.380301Z"
    },
    "papermill": {
     "duration": 0.036048,
     "end_time": "2023-01-04T17:25:15.383119",
     "exception": false,
     "start_time": "2023-01-04T17:25:15.347071",
     "status": "completed"
    },
    "tags": []
   },
   "outputs": [
    {
     "data": {
      "text/html": [
       "<div>\n",
       "<style scoped>\n",
       "    .dataframe tbody tr th:only-of-type {\n",
       "        vertical-align: middle;\n",
       "    }\n",
       "\n",
       "    .dataframe tbody tr th {\n",
       "        vertical-align: top;\n",
       "    }\n",
       "\n",
       "    .dataframe thead th {\n",
       "        text-align: right;\n",
       "    }\n",
       "</style>\n",
       "<table border=\"1\" class=\"dataframe\">\n",
       "  <thead>\n",
       "    <tr style=\"text-align: right;\">\n",
       "      <th></th>\n",
       "      <th>Country</th>\n",
       "      <th>Code</th>\n",
       "      <th>Year</th>\n",
       "      <th>GHI</th>\n",
       "      <th>411773-annotations</th>\n",
       "    </tr>\n",
       "  </thead>\n",
       "  <tbody>\n",
       "    <tr>\n",
       "      <th>0</th>\n",
       "      <td>Afghanistan</td>\n",
       "      <td>AFG</td>\n",
       "      <td>2000</td>\n",
       "      <td>50.9</td>\n",
       "      <td>NaN</td>\n",
       "    </tr>\n",
       "    <tr>\n",
       "      <th>1</th>\n",
       "      <td>Afghanistan</td>\n",
       "      <td>AFG</td>\n",
       "      <td>2006</td>\n",
       "      <td>42.7</td>\n",
       "      <td>NaN</td>\n",
       "    </tr>\n",
       "    <tr>\n",
       "      <th>2</th>\n",
       "      <td>Afghanistan</td>\n",
       "      <td>AFG</td>\n",
       "      <td>2012</td>\n",
       "      <td>34.3</td>\n",
       "      <td>NaN</td>\n",
       "    </tr>\n",
       "    <tr>\n",
       "      <th>3</th>\n",
       "      <td>Afghanistan</td>\n",
       "      <td>AFG</td>\n",
       "      <td>2021</td>\n",
       "      <td>28.3</td>\n",
       "      <td>NaN</td>\n",
       "    </tr>\n",
       "    <tr>\n",
       "      <th>4</th>\n",
       "      <td>Albania</td>\n",
       "      <td>ALB</td>\n",
       "      <td>2000</td>\n",
       "      <td>20.7</td>\n",
       "      <td>NaN</td>\n",
       "    </tr>\n",
       "  </tbody>\n",
       "</table>\n",
       "</div>"
      ],
      "text/plain": [
       "       Country Code  Year   GHI 411773-annotations\n",
       "0  Afghanistan  AFG  2000  50.9                NaN\n",
       "1  Afghanistan  AFG  2006  42.7                NaN\n",
       "2  Afghanistan  AFG  2012  34.3                NaN\n",
       "3  Afghanistan  AFG  2021  28.3                NaN\n",
       "4      Albania  ALB  2000  20.7                NaN"
      ]
     },
     "execution_count": 16,
     "metadata": {},
     "output_type": "execute_result"
    }
   ],
   "source": [
    "df_global_hunger_index.rename(columns={'Entity':'Country','Global Hunger Index (2021)': 'GHI'}, inplace=True)\n",
    "df_global_hunger_index.head()"
   ]
  },
  {
   "cell_type": "markdown",
   "id": "8bcaf43b",
   "metadata": {
    "papermill": {
     "duration": 0.019549,
     "end_time": "2023-01-04T17:25:15.422883",
     "exception": false,
     "start_time": "2023-01-04T17:25:15.403334",
     "status": "completed"
    },
    "tags": []
   },
   "source": [
    "**Remove unwanted column \"411773-annotations\"**"
   ]
  },
  {
   "cell_type": "code",
   "execution_count": 17,
   "id": "279a4ca9",
   "metadata": {
    "execution": {
     "iopub.execute_input": "2023-01-04T17:25:15.465286Z",
     "iopub.status.busy": "2023-01-04T17:25:15.464291Z",
     "iopub.status.idle": "2023-01-04T17:25:15.479815Z",
     "shell.execute_reply": "2023-01-04T17:25:15.478895Z"
    },
    "papermill": {
     "duration": 0.038876,
     "end_time": "2023-01-04T17:25:15.481765",
     "exception": false,
     "start_time": "2023-01-04T17:25:15.442889",
     "status": "completed"
    },
    "tags": []
   },
   "outputs": [
    {
     "data": {
      "text/html": [
       "<div>\n",
       "<style scoped>\n",
       "    .dataframe tbody tr th:only-of-type {\n",
       "        vertical-align: middle;\n",
       "    }\n",
       "\n",
       "    .dataframe tbody tr th {\n",
       "        vertical-align: top;\n",
       "    }\n",
       "\n",
       "    .dataframe thead th {\n",
       "        text-align: right;\n",
       "    }\n",
       "</style>\n",
       "<table border=\"1\" class=\"dataframe\">\n",
       "  <thead>\n",
       "    <tr style=\"text-align: right;\">\n",
       "      <th></th>\n",
       "      <th>Country</th>\n",
       "      <th>Code</th>\n",
       "      <th>Year</th>\n",
       "      <th>GHI</th>\n",
       "    </tr>\n",
       "  </thead>\n",
       "  <tbody>\n",
       "    <tr>\n",
       "      <th>0</th>\n",
       "      <td>Afghanistan</td>\n",
       "      <td>AFG</td>\n",
       "      <td>2000</td>\n",
       "      <td>50.9</td>\n",
       "    </tr>\n",
       "    <tr>\n",
       "      <th>1</th>\n",
       "      <td>Afghanistan</td>\n",
       "      <td>AFG</td>\n",
       "      <td>2006</td>\n",
       "      <td>42.7</td>\n",
       "    </tr>\n",
       "    <tr>\n",
       "      <th>2</th>\n",
       "      <td>Afghanistan</td>\n",
       "      <td>AFG</td>\n",
       "      <td>2012</td>\n",
       "      <td>34.3</td>\n",
       "    </tr>\n",
       "    <tr>\n",
       "      <th>3</th>\n",
       "      <td>Afghanistan</td>\n",
       "      <td>AFG</td>\n",
       "      <td>2021</td>\n",
       "      <td>28.3</td>\n",
       "    </tr>\n",
       "    <tr>\n",
       "      <th>4</th>\n",
       "      <td>Albania</td>\n",
       "      <td>ALB</td>\n",
       "      <td>2000</td>\n",
       "      <td>20.7</td>\n",
       "    </tr>\n",
       "    <tr>\n",
       "      <th>...</th>\n",
       "      <td>...</td>\n",
       "      <td>...</td>\n",
       "      <td>...</td>\n",
       "      <td>...</td>\n",
       "    </tr>\n",
       "    <tr>\n",
       "      <th>466</th>\n",
       "      <td>Yemen</td>\n",
       "      <td>YEM</td>\n",
       "      <td>2006</td>\n",
       "      <td>38.8</td>\n",
       "    </tr>\n",
       "    <tr>\n",
       "      <th>467</th>\n",
       "      <td>Yemen</td>\n",
       "      <td>YEM</td>\n",
       "      <td>2012</td>\n",
       "      <td>38.4</td>\n",
       "    </tr>\n",
       "    <tr>\n",
       "      <th>468</th>\n",
       "      <td>Yemen</td>\n",
       "      <td>YEM</td>\n",
       "      <td>2021</td>\n",
       "      <td>45.1</td>\n",
       "    </tr>\n",
       "    <tr>\n",
       "      <th>469</th>\n",
       "      <td>Zambia</td>\n",
       "      <td>ZMB</td>\n",
       "      <td>2021</td>\n",
       "      <td>27.5</td>\n",
       "    </tr>\n",
       "    <tr>\n",
       "      <th>470</th>\n",
       "      <td>Zimbabwe</td>\n",
       "      <td>ZWE</td>\n",
       "      <td>2021</td>\n",
       "      <td>27.5</td>\n",
       "    </tr>\n",
       "  </tbody>\n",
       "</table>\n",
       "<p>471 rows × 4 columns</p>\n",
       "</div>"
      ],
      "text/plain": [
       "         Country Code  Year   GHI\n",
       "0    Afghanistan  AFG  2000  50.9\n",
       "1    Afghanistan  AFG  2006  42.7\n",
       "2    Afghanistan  AFG  2012  34.3\n",
       "3    Afghanistan  AFG  2021  28.3\n",
       "4        Albania  ALB  2000  20.7\n",
       "..           ...  ...   ...   ...\n",
       "466        Yemen  YEM  2006  38.8\n",
       "467        Yemen  YEM  2012  38.4\n",
       "468        Yemen  YEM  2021  45.1\n",
       "469       Zambia  ZMB  2021  27.5\n",
       "470     Zimbabwe  ZWE  2021  27.5\n",
       "\n",
       "[471 rows x 4 columns]"
      ]
     },
     "execution_count": 17,
     "metadata": {},
     "output_type": "execute_result"
    }
   ],
   "source": [
    "df_global_hunger_index.drop('411773-annotations', inplace=True, axis=1)\n",
    "df_global_hunger_index"
   ]
  },
  {
   "cell_type": "markdown",
   "id": "cd6fa374",
   "metadata": {
    "papermill": {
     "duration": 0.022652,
     "end_time": "2023-01-04T17:25:15.525464",
     "exception": false,
     "start_time": "2023-01-04T17:25:15.502812",
     "status": "completed"
    },
    "tags": []
   },
   "source": [
    "**Remove null variables**"
   ]
  },
  {
   "cell_type": "code",
   "execution_count": 18,
   "id": "6e8a96b7",
   "metadata": {
    "execution": {
     "iopub.execute_input": "2023-01-04T17:25:15.574480Z",
     "iopub.status.busy": "2023-01-04T17:25:15.573136Z",
     "iopub.status.idle": "2023-01-04T17:25:15.590968Z",
     "shell.execute_reply": "2023-01-04T17:25:15.589959Z"
    },
    "papermill": {
     "duration": 0.042908,
     "end_time": "2023-01-04T17:25:15.593354",
     "exception": false,
     "start_time": "2023-01-04T17:25:15.550446",
     "status": "completed"
    },
    "tags": []
   },
   "outputs": [
    {
     "data": {
      "text/html": [
       "<div>\n",
       "<style scoped>\n",
       "    .dataframe tbody tr th:only-of-type {\n",
       "        vertical-align: middle;\n",
       "    }\n",
       "\n",
       "    .dataframe tbody tr th {\n",
       "        vertical-align: top;\n",
       "    }\n",
       "\n",
       "    .dataframe thead th {\n",
       "        text-align: right;\n",
       "    }\n",
       "</style>\n",
       "<table border=\"1\" class=\"dataframe\">\n",
       "  <thead>\n",
       "    <tr style=\"text-align: right;\">\n",
       "      <th></th>\n",
       "      <th>Country</th>\n",
       "      <th>Code</th>\n",
       "      <th>Year</th>\n",
       "      <th>GHI</th>\n",
       "    </tr>\n",
       "  </thead>\n",
       "  <tbody>\n",
       "    <tr>\n",
       "      <th>0</th>\n",
       "      <td>Afghanistan</td>\n",
       "      <td>AFG</td>\n",
       "      <td>2000</td>\n",
       "      <td>50.9</td>\n",
       "    </tr>\n",
       "    <tr>\n",
       "      <th>1</th>\n",
       "      <td>Afghanistan</td>\n",
       "      <td>AFG</td>\n",
       "      <td>2006</td>\n",
       "      <td>42.7</td>\n",
       "    </tr>\n",
       "    <tr>\n",
       "      <th>2</th>\n",
       "      <td>Afghanistan</td>\n",
       "      <td>AFG</td>\n",
       "      <td>2012</td>\n",
       "      <td>34.3</td>\n",
       "    </tr>\n",
       "    <tr>\n",
       "      <th>3</th>\n",
       "      <td>Afghanistan</td>\n",
       "      <td>AFG</td>\n",
       "      <td>2021</td>\n",
       "      <td>28.3</td>\n",
       "    </tr>\n",
       "    <tr>\n",
       "      <th>4</th>\n",
       "      <td>Albania</td>\n",
       "      <td>ALB</td>\n",
       "      <td>2000</td>\n",
       "      <td>20.7</td>\n",
       "    </tr>\n",
       "    <tr>\n",
       "      <th>...</th>\n",
       "      <td>...</td>\n",
       "      <td>...</td>\n",
       "      <td>...</td>\n",
       "      <td>...</td>\n",
       "    </tr>\n",
       "    <tr>\n",
       "      <th>466</th>\n",
       "      <td>Yemen</td>\n",
       "      <td>YEM</td>\n",
       "      <td>2006</td>\n",
       "      <td>38.8</td>\n",
       "    </tr>\n",
       "    <tr>\n",
       "      <th>467</th>\n",
       "      <td>Yemen</td>\n",
       "      <td>YEM</td>\n",
       "      <td>2012</td>\n",
       "      <td>38.4</td>\n",
       "    </tr>\n",
       "    <tr>\n",
       "      <th>468</th>\n",
       "      <td>Yemen</td>\n",
       "      <td>YEM</td>\n",
       "      <td>2021</td>\n",
       "      <td>45.1</td>\n",
       "    </tr>\n",
       "    <tr>\n",
       "      <th>469</th>\n",
       "      <td>Zambia</td>\n",
       "      <td>ZMB</td>\n",
       "      <td>2021</td>\n",
       "      <td>27.5</td>\n",
       "    </tr>\n",
       "    <tr>\n",
       "      <th>470</th>\n",
       "      <td>Zimbabwe</td>\n",
       "      <td>ZWE</td>\n",
       "      <td>2021</td>\n",
       "      <td>27.5</td>\n",
       "    </tr>\n",
       "  </tbody>\n",
       "</table>\n",
       "<p>471 rows × 4 columns</p>\n",
       "</div>"
      ],
      "text/plain": [
       "         Country Code  Year   GHI\n",
       "0    Afghanistan  AFG  2000  50.9\n",
       "1    Afghanistan  AFG  2006  42.7\n",
       "2    Afghanistan  AFG  2012  34.3\n",
       "3    Afghanistan  AFG  2021  28.3\n",
       "4        Albania  ALB  2000  20.7\n",
       "..           ...  ...   ...   ...\n",
       "466        Yemen  YEM  2006  38.8\n",
       "467        Yemen  YEM  2012  38.4\n",
       "468        Yemen  YEM  2021  45.1\n",
       "469       Zambia  ZMB  2021  27.5\n",
       "470     Zimbabwe  ZWE  2021  27.5\n",
       "\n",
       "[471 rows x 4 columns]"
      ]
     },
     "execution_count": 18,
     "metadata": {},
     "output_type": "execute_result"
    }
   ],
   "source": [
    "df_global_hunger_index.dropna(axis=1)"
   ]
  },
  {
   "cell_type": "markdown",
   "id": "ebe4b9a3",
   "metadata": {
    "papermill": {
     "duration": 0.020889,
     "end_time": "2023-01-04T17:25:15.635468",
     "exception": false,
     "start_time": "2023-01-04T17:25:15.614579",
     "status": "completed"
    },
    "tags": []
   },
   "source": [
    "**Pivotting data**"
   ]
  },
  {
   "cell_type": "code",
   "execution_count": 19,
   "id": "ff3f42f2",
   "metadata": {
    "execution": {
     "iopub.execute_input": "2023-01-04T17:25:15.682290Z",
     "iopub.status.busy": "2023-01-04T17:25:15.681585Z",
     "iopub.status.idle": "2023-01-04T17:25:15.702996Z",
     "shell.execute_reply": "2023-01-04T17:25:15.702110Z"
    },
    "papermill": {
     "duration": 0.045054,
     "end_time": "2023-01-04T17:25:15.705143",
     "exception": false,
     "start_time": "2023-01-04T17:25:15.660089",
     "status": "completed"
    },
    "tags": []
   },
   "outputs": [
    {
     "data": {
      "text/html": [
       "<div>\n",
       "<style scoped>\n",
       "    .dataframe tbody tr th:only-of-type {\n",
       "        vertical-align: middle;\n",
       "    }\n",
       "\n",
       "    .dataframe tbody tr th {\n",
       "        vertical-align: top;\n",
       "    }\n",
       "\n",
       "    .dataframe thead th {\n",
       "        text-align: right;\n",
       "    }\n",
       "</style>\n",
       "<table border=\"1\" class=\"dataframe\">\n",
       "  <thead>\n",
       "    <tr style=\"text-align: right;\">\n",
       "      <th>Year</th>\n",
       "      <th>Country</th>\n",
       "      <th>2000</th>\n",
       "      <th>2006</th>\n",
       "      <th>2012</th>\n",
       "      <th>2021</th>\n",
       "    </tr>\n",
       "  </thead>\n",
       "  <tbody>\n",
       "    <tr>\n",
       "      <th>0</th>\n",
       "      <td>Afghanistan</td>\n",
       "      <td>50.9</td>\n",
       "      <td>42.7</td>\n",
       "      <td>34.3</td>\n",
       "      <td>28.3</td>\n",
       "    </tr>\n",
       "    <tr>\n",
       "      <th>1</th>\n",
       "      <td>Albania</td>\n",
       "      <td>20.7</td>\n",
       "      <td>15.9</td>\n",
       "      <td>8.8</td>\n",
       "      <td>6.2</td>\n",
       "    </tr>\n",
       "    <tr>\n",
       "      <th>2</th>\n",
       "      <td>Algeria</td>\n",
       "      <td>14.5</td>\n",
       "      <td>11.7</td>\n",
       "      <td>8.9</td>\n",
       "      <td>6.9</td>\n",
       "    </tr>\n",
       "    <tr>\n",
       "      <th>3</th>\n",
       "      <td>Angola</td>\n",
       "      <td>65.0</td>\n",
       "      <td>46.9</td>\n",
       "      <td>27.8</td>\n",
       "      <td>26.0</td>\n",
       "    </tr>\n",
       "    <tr>\n",
       "      <th>4</th>\n",
       "      <td>Argentina</td>\n",
       "      <td>6.4</td>\n",
       "      <td>5.6</td>\n",
       "      <td>5.2</td>\n",
       "      <td>5.3</td>\n",
       "    </tr>\n",
       "  </tbody>\n",
       "</table>\n",
       "</div>"
      ],
      "text/plain": [
       "Year      Country  2000  2006  2012  2021\n",
       "0     Afghanistan  50.9  42.7  34.3  28.3\n",
       "1         Albania  20.7  15.9   8.8   6.2\n",
       "2         Algeria  14.5  11.7   8.9   6.9\n",
       "3          Angola  65.0  46.9  27.8  26.0\n",
       "4       Argentina   6.4   5.6   5.2   5.3"
      ]
     },
     "execution_count": 19,
     "metadata": {},
     "output_type": "execute_result"
    }
   ],
   "source": [
    "df_GHI = df_global_hunger_index.pivot(index='Country', columns='Year', values='GHI')\n",
    "df_GHI = df_GHI.reset_index()\n",
    "df_GHI.head()"
   ]
  },
  {
   "cell_type": "markdown",
   "id": "93718726",
   "metadata": {
    "papermill": {
     "duration": 0.020185,
     "end_time": "2023-01-04T17:25:15.745793",
     "exception": false,
     "start_time": "2023-01-04T17:25:15.725608",
     "status": "completed"
    },
    "tags": []
   },
   "source": [
    "# **Analysis**"
   ]
  },
  {
   "cell_type": "markdown",
   "id": "698a5e1b",
   "metadata": {
    "papermill": {
     "duration": 0.020408,
     "end_time": "2023-01-04T17:25:15.788976",
     "exception": false,
     "start_time": "2023-01-04T17:25:15.768568",
     "status": "completed"
    },
    "tags": []
   },
   "source": [
    "**How many countries do we have in our dtasets**"
   ]
  },
  {
   "cell_type": "code",
   "execution_count": 20,
   "id": "c9c4f6e2",
   "metadata": {
    "execution": {
     "iopub.execute_input": "2023-01-04T17:25:15.832318Z",
     "iopub.status.busy": "2023-01-04T17:25:15.831543Z",
     "iopub.status.idle": "2023-01-04T17:25:15.838879Z",
     "shell.execute_reply": "2023-01-04T17:25:15.838167Z"
    },
    "papermill": {
     "duration": 0.031586,
     "end_time": "2023-01-04T17:25:15.840735",
     "exception": false,
     "start_time": "2023-01-04T17:25:15.809149",
     "status": "completed"
    },
    "tags": []
   },
   "outputs": [
    {
     "data": {
      "text/plain": [
       "array(['Afghanistan', 'Albania', 'Algeria', 'Angola', 'Argentina',\n",
       "       'Armenia', 'Azerbaijan', 'Bangladesh', 'Belarus', 'Benin',\n",
       "       'Bolivia', 'Bosnia and Herzegovina', 'Botswana', 'Brazil',\n",
       "       'Bulgaria', 'Burkina Faso', 'Burundi', 'Cambodia', 'Cameroon',\n",
       "       'Cape Verde', 'Central African Republic', 'Chad', 'Chile', 'China',\n",
       "       'Colombia', 'Comoros', 'Congo', 'Costa Rica', \"Cote d'Ivoire\",\n",
       "       'Croatia', 'Cuba', 'Democratic Republic of Congo', 'Djibouti',\n",
       "       'Dominican Republic', 'Ecuador', 'Egypt', 'El Salvador', 'Estonia',\n",
       "       'Eswatini', 'Ethiopia', 'Fiji', 'Gabon', 'Gambia', 'Georgia',\n",
       "       'Ghana', 'Guatemala', 'Guinea', 'Guinea-Bissau', 'Guyana', 'Haiti',\n",
       "       'Honduras', 'India', 'Indonesia', 'Iran', 'Iraq', 'Jamaica',\n",
       "       'Jordan', 'Kazakhstan', 'Kenya', 'Kuwait', 'Kyrgyzstan', 'Laos',\n",
       "       'Latvia', 'Lebanon', 'Lesotho', 'Liberia', 'Lithuania',\n",
       "       'Madagascar', 'Malawi', 'Malaysia', 'Mali', 'Mauritania',\n",
       "       'Mauritius', 'Mexico', 'Moldova', 'Mongolia', 'Montenegro',\n",
       "       'Morocco', 'Mozambique', 'Myanmar', 'Namibia', 'Nepal',\n",
       "       'Nicaragua', 'Niger', 'Nigeria', 'North Korea', 'North Macedonia',\n",
       "       'Oman', 'Pakistan', 'Panama', 'Papua New Guinea', 'Paraguay',\n",
       "       'Peru', 'Philippines', 'Romania', 'Russia', 'Rwanda',\n",
       "       'Saudi Arabia', 'Senegal', 'Serbia', 'Sierra Leone', 'Slovakia',\n",
       "       'Solomon Islands', 'Somalia', 'South Africa', 'South Sudan',\n",
       "       'Sri Lanka', 'Sudan', 'Suriname', 'Syria', 'Tajikistan',\n",
       "       'Tanzania', 'Thailand', 'Timor', 'Togo', 'Trinidad and Tobago',\n",
       "       'Tunisia', 'Turkey', 'Turkmenistan', 'Uganda', 'Ukraine',\n",
       "       'Uruguay', 'Uzbekistan', 'Venezuela', 'Vietnam', 'Yemen', 'Zambia',\n",
       "       'Zimbabwe'], dtype=object)"
      ]
     },
     "execution_count": 20,
     "metadata": {},
     "output_type": "execute_result"
    }
   ],
   "source": [
    "Countries = df_GHI[\"Country\"].unique()\n",
    "Countries"
   ]
  },
  {
   "cell_type": "code",
   "execution_count": 21,
   "id": "c3fce5c3",
   "metadata": {
    "execution": {
     "iopub.execute_input": "2023-01-04T17:25:15.888732Z",
     "iopub.status.busy": "2023-01-04T17:25:15.887868Z",
     "iopub.status.idle": "2023-01-04T17:25:15.895795Z",
     "shell.execute_reply": "2023-01-04T17:25:15.894258Z"
    },
    "papermill": {
     "duration": 0.033985,
     "end_time": "2023-01-04T17:25:15.899123",
     "exception": false,
     "start_time": "2023-01-04T17:25:15.865138",
     "status": "completed"
    },
    "tags": []
   },
   "outputs": [
    {
     "data": {
      "text/plain": [
       "128"
      ]
     },
     "execution_count": 21,
     "metadata": {},
     "output_type": "execute_result"
    }
   ],
   "source": [
    "Number_countries = df_GHI[\"Country\"].unique().size\n",
    "Number_countries"
   ]
  },
  {
   "cell_type": "markdown",
   "id": "fae36632",
   "metadata": {
    "papermill": {
     "duration": 0.02198,
     "end_time": "2023-01-04T17:25:15.944499",
     "exception": false,
     "start_time": "2023-01-04T17:25:15.922519",
     "status": "completed"
    },
    "tags": []
   },
   "source": [
    "Very good, it looks like we have enough countries to do our analysis and prediction. "
   ]
  },
  {
   "cell_type": "markdown",
   "id": "e2d8c250",
   "metadata": {
    "papermill": {
     "duration": 0.022165,
     "end_time": "2023-01-04T17:25:15.989815",
     "exception": false,
     "start_time": "2023-01-04T17:25:15.967650",
     "status": "completed"
    },
    "tags": []
   },
   "source": [
    "**Global Hunger Index distribution plot between 2000 to 2021**"
   ]
  },
  {
   "cell_type": "code",
   "execution_count": 22,
   "id": "2cd065c7",
   "metadata": {
    "execution": {
     "iopub.execute_input": "2023-01-04T17:25:16.033800Z",
     "iopub.status.busy": "2023-01-04T17:25:16.033389Z",
     "iopub.status.idle": "2023-01-04T17:25:16.819772Z",
     "shell.execute_reply": "2023-01-04T17:25:16.818934Z"
    },
    "papermill": {
     "duration": 0.811851,
     "end_time": "2023-01-04T17:25:16.822294",
     "exception": false,
     "start_time": "2023-01-04T17:25:16.010443",
     "status": "completed"
    },
    "tags": []
   },
   "outputs": [
    {
     "data": {
      "image/png": "[encoded data removed]",
      "text/plain": [
       "<Figure size 1080x360 with 4 Axes>"
      ]
     },
     "metadata": {
      "needs_background": "light"
     },
     "output_type": "display_data"
    }
   ],
   "source": [
    "col=[2000,2006,2012,2021]\n",
    "fig = plt.figure(figsize=(15,5))\n",
    "\n",
    "for i in range(len(col)):\n",
    "    plt.subplot(1,4,i+1)\n",
    "    plt.title(col[i])\n",
    "    sns.distplot(df_GHI,x=df_GHI[col[i]])\n",
    "    plt.xlim([0,75])\n",
    "    plt.ylim([0,0.06])\n",
    "plt.tight_layout()\n",
    "plt.show()"
   ]
  },
  {
   "cell_type": "code",
   "execution_count": 23,
   "id": "a4f697f8",
   "metadata": {
    "execution": {
     "iopub.execute_input": "2023-01-04T17:25:16.869647Z",
     "iopub.status.busy": "2023-01-04T17:25:16.869137Z",
     "iopub.status.idle": "2023-01-04T17:25:17.133238Z",
     "shell.execute_reply": "2023-01-04T17:25:17.131718Z"
    },
    "papermill": {
     "duration": 0.290856,
     "end_time": "2023-01-04T17:25:17.136103",
     "exception": false,
     "start_time": "2023-01-04T17:25:16.845247",
     "status": "completed"
    },
    "tags": []
   },
   "outputs": [
    {
     "data": {
      "image/png": "[encoded data removed]",
      "text/plain": [
       "<Figure size 720x360 with 1 Axes>"
      ]
     },
     "metadata": {
      "needs_background": "light"
     },
     "output_type": "display_data"
    }
   ],
   "source": [
    "col=[2000,2006,2012,2021]\n",
    "plt.figure(figsize=(10, 5))\n",
    "for i in col:\n",
    "    sns.distplot(df_GHI[i],axlabel='Global Hunger Index')"
   ]
  },
  {
   "cell_type": "code",
   "execution_count": 24,
   "id": "934f5964",
   "metadata": {
    "execution": {
     "iopub.execute_input": "2023-01-04T17:25:17.183508Z",
     "iopub.status.busy": "2023-01-04T17:25:17.183018Z",
     "iopub.status.idle": "2023-01-04T17:25:17.447250Z",
     "shell.execute_reply": "2023-01-04T17:25:17.445518Z"
    },
    "papermill": {
     "duration": 0.291817,
     "end_time": "2023-01-04T17:25:17.450725",
     "exception": false,
     "start_time": "2023-01-04T17:25:17.158908",
     "status": "completed"
    },
    "tags": []
   },
   "outputs": [
    {
     "data": {
      "image/png": "[encoded data removed]",
      "text/plain": [
       "<Figure size 1152x720 with 1 Axes>"
      ]
     },
     "metadata": {
      "needs_background": "light"
     },
     "output_type": "display_data"
    }
   ],
   "source": [
    "df_GHI = pd.DataFrame(data=df_GHI)\n",
    "\n",
    "df_GHI.plot.line(x='Country',linestyle = ':', linewidth='3', figsize=(16, 10))\n",
    "\n",
    "plt.title('GHI by country')\n",
    "plt.show()"
   ]
  },
  {
   "cell_type": "code",
   "execution_count": 25,
   "id": "02c8ce0d",
   "metadata": {
    "execution": {
     "iopub.execute_input": "2023-01-04T17:25:17.507110Z",
     "iopub.status.busy": "2023-01-04T17:25:17.506674Z",
     "iopub.status.idle": "2023-01-04T17:25:17.681719Z",
     "shell.execute_reply": "2023-01-04T17:25:17.680298Z"
    },
    "papermill": {
     "duration": 0.206677,
     "end_time": "2023-01-04T17:25:17.684421",
     "exception": false,
     "start_time": "2023-01-04T17:25:17.477744",
     "status": "completed"
    },
    "tags": []
   },
   "outputs": [
    {
     "data": {
      "image/png": "[encoded data removed]",
      "text/plain": [
       "<Figure size 432x288 with 1 Axes>"
      ]
     },
     "metadata": {
      "needs_background": "light"
     },
     "output_type": "display_data"
    }
   ],
   "source": [
    "df_GHI[df_GHI[2000]>=50].sort_values(by=2000,ascending=True).plot.barh(y=2000,x='Country',legend=False);"
   ]
  },
  {
   "cell_type": "code",
   "execution_count": 26,
   "id": "f6de8841",
   "metadata": {
    "execution": {
     "iopub.execute_input": "2023-01-04T17:25:17.738535Z",
     "iopub.status.busy": "2023-01-04T17:25:17.738199Z",
     "iopub.status.idle": "2023-01-04T17:25:17.864876Z",
     "shell.execute_reply": "2023-01-04T17:25:17.863718Z"
    },
    "papermill": {
     "duration": 0.15671,
     "end_time": "2023-01-04T17:25:17.867712",
     "exception": false,
     "start_time": "2023-01-04T17:25:17.711002",
     "status": "completed"
    },
    "tags": []
   },
   "outputs": [
    {
     "data": {
      "image/png": "[encoded data removed]",
      "text/plain": [
       "<Figure size 432x288 with 1 Axes>"
      ]
     },
     "metadata": {
      "needs_background": "light"
     },
     "output_type": "display_data"
    }
   ],
   "source": [
    "df_GHI[df_GHI[2021]>=50].sort_values(by=2021,ascending=True).plot.barh(y=2021,x='Country',legend=False);"
   ]
  },
  {
   "cell_type": "markdown",
   "id": "c10f60b2",
   "metadata": {
    "papermill": {
     "duration": 0.026814,
     "end_time": "2023-01-04T17:25:17.924512",
     "exception": false,
     "start_time": "2023-01-04T17:25:17.897698",
     "status": "completed"
    },
    "tags": []
   },
   "source": [
    "In 2021 Somalia is the only country in Extremely alarming category."
   ]
  },
  {
   "cell_type": "code",
   "execution_count": 27,
   "id": "74c1c40d",
   "metadata": {
    "execution": {
     "iopub.execute_input": "2023-01-04T17:25:17.978617Z",
     "iopub.status.busy": "2023-01-04T17:25:17.978163Z",
     "iopub.status.idle": "2023-01-04T17:25:18.281063Z",
     "shell.execute_reply": "2023-01-04T17:25:18.279726Z"
    },
    "papermill": {
     "duration": 0.332535,
     "end_time": "2023-01-04T17:25:18.283200",
     "exception": false,
     "start_time": "2023-01-04T17:25:17.950665",
     "status": "completed"
    },
    "tags": []
   },
   "outputs": [
    {
     "data": {
      "image/png": "[encoded data removed]",
      "text/plain": [
       "<Figure size 432x288 with 1 Axes>"
      ]
     },
     "metadata": {
      "needs_background": "light"
     },
     "output_type": "display_data"
    }
   ],
   "source": [
    "df_GHI[df_GHI[2021]>=25].sort_values(by=2021,ascending=True).plot.barh(y=2021,x='Country',legend=False);"
   ]
  },
  {
   "cell_type": "markdown",
   "id": "ae8f38dd",
   "metadata": {
    "papermill": {
     "duration": 0.026203,
     "end_time": "2023-01-04T17:25:18.336011",
     "exception": false,
     "start_time": "2023-01-04T17:25:18.309808",
     "status": "completed"
    },
    "tags": []
   },
   "source": [
    "Ten counties, 8 from Africa and 2 from Asia are in alarming category in 2021."
   ]
  },
  {
   "cell_type": "markdown",
   "id": "e0908599",
   "metadata": {
    "papermill": {
     "duration": 0.026101,
     "end_time": "2023-01-04T17:25:18.388859",
     "exception": false,
     "start_time": "2023-01-04T17:25:18.362758",
     "status": "completed"
    },
    "tags": []
   },
   "source": [
    "**Let's see countries in Low and Modelate categories**"
   ]
  },
  {
   "cell_type": "code",
   "execution_count": 28,
   "id": "361b61e3",
   "metadata": {
    "execution": {
     "iopub.execute_input": "2023-01-04T17:25:18.442486Z",
     "iopub.status.busy": "2023-01-04T17:25:18.442161Z",
     "iopub.status.idle": "2023-01-04T17:25:18.449349Z",
     "shell.execute_reply": "2023-01-04T17:25:18.448360Z"
    },
    "papermill": {
     "duration": 0.036219,
     "end_time": "2023-01-04T17:25:18.451236",
     "exception": false,
     "start_time": "2023-01-04T17:25:18.415017",
     "status": "completed"
    },
    "tags": []
   },
   "outputs": [
    {
     "data": {
      "text/plain": [
       "81"
      ]
     },
     "execution_count": 28,
     "metadata": {},
     "output_type": "execute_result"
    }
   ],
   "source": [
    "(df_GHI[2021] < 20).sum()"
   ]
  },
  {
   "cell_type": "markdown",
   "id": "86848082",
   "metadata": {
    "papermill": {
     "duration": 0.026675,
     "end_time": "2023-01-04T17:25:18.503773",
     "exception": false,
     "start_time": "2023-01-04T17:25:18.477098",
     "status": "completed"
    },
    "tags": []
   },
   "source": [
    "In 2021, we have 81 countries in Moderate and Low categories."
   ]
  },
  {
   "cell_type": "code",
   "execution_count": 29,
   "id": "a190abba",
   "metadata": {
    "execution": {
     "iopub.execute_input": "2023-01-04T17:25:18.563871Z",
     "iopub.status.busy": "2023-01-04T17:25:18.562965Z",
     "iopub.status.idle": "2023-01-04T17:25:19.256423Z",
     "shell.execute_reply": "2023-01-04T17:25:19.254595Z"
    },
    "papermill": {
     "duration": 0.727354,
     "end_time": "2023-01-04T17:25:19.259226",
     "exception": false,
     "start_time": "2023-01-04T17:25:18.531872",
     "status": "completed"
    },
    "tags": []
   },
   "outputs": [
    {
     "data": {
      "image/png": "[encoded data removed]",
      "text/plain": [
       "<Figure size 720x864 with 1 Axes>"
      ]
     },
     "metadata": {
      "needs_background": "light"
     },
     "output_type": "display_data"
    }
   ],
   "source": [
    "df_GHI[df_GHI[2021]< 10].sort_values(by=2021,ascending=True).plot.barh(y=2021,x='Country',legend=True, figsize=(10, 12));\n",
    "#plt.figure(figsize=(12, 50))"
   ]
  },
  {
   "cell_type": "code",
   "execution_count": 30,
   "id": "bd4eab9a",
   "metadata": {
    "execution": {
     "iopub.execute_input": "2023-01-04T17:25:19.320724Z",
     "iopub.status.busy": "2023-01-04T17:25:19.319453Z",
     "iopub.status.idle": "2023-01-04T17:25:19.328564Z",
     "shell.execute_reply": "2023-01-04T17:25:19.327273Z"
    },
    "papermill": {
     "duration": 0.043346,
     "end_time": "2023-01-04T17:25:19.331141",
     "exception": false,
     "start_time": "2023-01-04T17:25:19.287795",
     "status": "completed"
    },
    "tags": []
   },
   "outputs": [
    {
     "data": {
      "text/plain": [
       "50"
      ]
     },
     "execution_count": 30,
     "metadata": {},
     "output_type": "execute_result"
    }
   ],
   "source": [
    "(df_GHI[2021] < 10).sum()"
   ]
  },
  {
   "cell_type": "markdown",
   "id": "427277dc",
   "metadata": {
    "papermill": {
     "duration": 0.026974,
     "end_time": "2023-01-04T17:25:19.385367",
     "exception": false,
     "start_time": "2023-01-04T17:25:19.358393",
     "status": "completed"
    },
    "tags": []
   },
   "source": [
    "Only 50 countries in world are in low category in 2021."
   ]
  },
  {
   "cell_type": "code",
   "execution_count": 31,
   "id": "e4bcd672",
   "metadata": {
    "execution": {
     "iopub.execute_input": "2023-01-04T17:25:19.441837Z",
     "iopub.status.busy": "2023-01-04T17:25:19.441471Z",
     "iopub.status.idle": "2023-01-04T17:25:19.474364Z",
     "shell.execute_reply": "2023-01-04T17:25:19.472716Z"
    },
    "papermill": {
     "duration": 0.064163,
     "end_time": "2023-01-04T17:25:19.476436",
     "exception": false,
     "start_time": "2023-01-04T17:25:19.412273",
     "status": "completed"
    },
    "tags": []
   },
   "outputs": [
    {
     "data": {
      "text/html": [
       "<div>\n",
       "<style scoped>\n",
       "    .dataframe tbody tr th:only-of-type {\n",
       "        vertical-align: middle;\n",
       "    }\n",
       "\n",
       "    .dataframe tbody tr th {\n",
       "        vertical-align: top;\n",
       "    }\n",
       "\n",
       "    .dataframe thead th {\n",
       "        text-align: right;\n",
       "    }\n",
       "</style>\n",
       "<table border=\"1\" class=\"dataframe\">\n",
       "  <thead>\n",
       "    <tr style=\"text-align: right;\">\n",
       "      <th>Year</th>\n",
       "      <th>Country</th>\n",
       "      <th>2000</th>\n",
       "      <th>2006</th>\n",
       "      <th>2012</th>\n",
       "      <th>2021</th>\n",
       "    </tr>\n",
       "  </thead>\n",
       "  <tbody>\n",
       "    <tr>\n",
       "      <th>1</th>\n",
       "      <td>Albania</td>\n",
       "      <td>20.7</td>\n",
       "      <td>15.9</td>\n",
       "      <td>8.8</td>\n",
       "      <td>6.2</td>\n",
       "    </tr>\n",
       "    <tr>\n",
       "      <th>2</th>\n",
       "      <td>Algeria</td>\n",
       "      <td>14.5</td>\n",
       "      <td>11.7</td>\n",
       "      <td>8.9</td>\n",
       "      <td>6.9</td>\n",
       "    </tr>\n",
       "    <tr>\n",
       "      <th>4</th>\n",
       "      <td>Argentina</td>\n",
       "      <td>6.4</td>\n",
       "      <td>5.6</td>\n",
       "      <td>5.2</td>\n",
       "      <td>5.3</td>\n",
       "    </tr>\n",
       "    <tr>\n",
       "      <th>5</th>\n",
       "      <td>Armenia</td>\n",
       "      <td>19.3</td>\n",
       "      <td>13.3</td>\n",
       "      <td>10.4</td>\n",
       "      <td>7.2</td>\n",
       "    </tr>\n",
       "    <tr>\n",
       "      <th>6</th>\n",
       "      <td>Azerbaijan</td>\n",
       "      <td>25.0</td>\n",
       "      <td>15.9</td>\n",
       "      <td>10.6</td>\n",
       "      <td>7.5</td>\n",
       "    </tr>\n",
       "    <tr>\n",
       "      <th>8</th>\n",
       "      <td>Belarus</td>\n",
       "      <td>2.5</td>\n",
       "      <td>2.5</td>\n",
       "      <td>2.5</td>\n",
       "      <td>2.5</td>\n",
       "    </tr>\n",
       "    <tr>\n",
       "      <th>11</th>\n",
       "      <td>Bosnia and Herzegovina</td>\n",
       "      <td>9.3</td>\n",
       "      <td>6.7</td>\n",
       "      <td>2.5</td>\n",
       "      <td>2.5</td>\n",
       "    </tr>\n",
       "    <tr>\n",
       "      <th>13</th>\n",
       "      <td>Brazil</td>\n",
       "      <td>11.5</td>\n",
       "      <td>7.4</td>\n",
       "      <td>5.5</td>\n",
       "      <td>2.5</td>\n",
       "    </tr>\n",
       "    <tr>\n",
       "      <th>14</th>\n",
       "      <td>Bulgaria</td>\n",
       "      <td>8.6</td>\n",
       "      <td>8.1</td>\n",
       "      <td>7.8</td>\n",
       "      <td>6.1</td>\n",
       "    </tr>\n",
       "    <tr>\n",
       "      <th>22</th>\n",
       "      <td>Chile</td>\n",
       "      <td>2.5</td>\n",
       "      <td>2.5</td>\n",
       "      <td>2.5</td>\n",
       "      <td>2.5</td>\n",
       "    </tr>\n",
       "    <tr>\n",
       "      <th>23</th>\n",
       "      <td>China</td>\n",
       "      <td>13.3</td>\n",
       "      <td>9.0</td>\n",
       "      <td>2.5</td>\n",
       "      <td>2.5</td>\n",
       "    </tr>\n",
       "    <tr>\n",
       "      <th>24</th>\n",
       "      <td>Colombia</td>\n",
       "      <td>10.9</td>\n",
       "      <td>11.4</td>\n",
       "      <td>9.3</td>\n",
       "      <td>8.9</td>\n",
       "    </tr>\n",
       "    <tr>\n",
       "      <th>27</th>\n",
       "      <td>Costa Rica</td>\n",
       "      <td>7.0</td>\n",
       "      <td>5.5</td>\n",
       "      <td>2.5</td>\n",
       "      <td>5.3</td>\n",
       "    </tr>\n",
       "    <tr>\n",
       "      <th>29</th>\n",
       "      <td>Croatia</td>\n",
       "      <td>2.5</td>\n",
       "      <td>2.5</td>\n",
       "      <td>2.5</td>\n",
       "      <td>2.5</td>\n",
       "    </tr>\n",
       "    <tr>\n",
       "      <th>30</th>\n",
       "      <td>Cuba</td>\n",
       "      <td>2.5</td>\n",
       "      <td>2.5</td>\n",
       "      <td>2.5</td>\n",
       "      <td>2.5</td>\n",
       "    </tr>\n",
       "    <tr>\n",
       "      <th>33</th>\n",
       "      <td>Dominican Republic</td>\n",
       "      <td>15.1</td>\n",
       "      <td>13.2</td>\n",
       "      <td>10.2</td>\n",
       "      <td>8.0</td>\n",
       "    </tr>\n",
       "    <tr>\n",
       "      <th>36</th>\n",
       "      <td>El Salvador</td>\n",
       "      <td>14.7</td>\n",
       "      <td>12.0</td>\n",
       "      <td>10.4</td>\n",
       "      <td>8.9</td>\n",
       "    </tr>\n",
       "    <tr>\n",
       "      <th>37</th>\n",
       "      <td>Estonia</td>\n",
       "      <td>2.5</td>\n",
       "      <td>2.5</td>\n",
       "      <td>2.5</td>\n",
       "      <td>2.5</td>\n",
       "    </tr>\n",
       "    <tr>\n",
       "      <th>40</th>\n",
       "      <td>Fiji</td>\n",
       "      <td>9.6</td>\n",
       "      <td>9.0</td>\n",
       "      <td>8.1</td>\n",
       "      <td>8.6</td>\n",
       "    </tr>\n",
       "    <tr>\n",
       "      <th>43</th>\n",
       "      <td>Georgia</td>\n",
       "      <td>12.3</td>\n",
       "      <td>8.8</td>\n",
       "      <td>2.5</td>\n",
       "      <td>6.3</td>\n",
       "    </tr>\n",
       "    <tr>\n",
       "      <th>53</th>\n",
       "      <td>Iran</td>\n",
       "      <td>13.5</td>\n",
       "      <td>8.9</td>\n",
       "      <td>8.1</td>\n",
       "      <td>7.7</td>\n",
       "    </tr>\n",
       "    <tr>\n",
       "      <th>55</th>\n",
       "      <td>Jamaica</td>\n",
       "      <td>8.6</td>\n",
       "      <td>9.0</td>\n",
       "      <td>9.1</td>\n",
       "      <td>8.6</td>\n",
       "    </tr>\n",
       "    <tr>\n",
       "      <th>56</th>\n",
       "      <td>Jordan</td>\n",
       "      <td>10.8</td>\n",
       "      <td>8.1</td>\n",
       "      <td>8.5</td>\n",
       "      <td>8.3</td>\n",
       "    </tr>\n",
       "    <tr>\n",
       "      <th>57</th>\n",
       "      <td>Kazakhstan</td>\n",
       "      <td>11.2</td>\n",
       "      <td>12.3</td>\n",
       "      <td>8.1</td>\n",
       "      <td>6.4</td>\n",
       "    </tr>\n",
       "    <tr>\n",
       "      <th>59</th>\n",
       "      <td>Kuwait</td>\n",
       "      <td>2.5</td>\n",
       "      <td>2.5</td>\n",
       "      <td>2.5</td>\n",
       "      <td>2.5</td>\n",
       "    </tr>\n",
       "    <tr>\n",
       "      <th>60</th>\n",
       "      <td>Kyrgyzstan</td>\n",
       "      <td>18.3</td>\n",
       "      <td>13.9</td>\n",
       "      <td>11.7</td>\n",
       "      <td>8.6</td>\n",
       "    </tr>\n",
       "    <tr>\n",
       "      <th>62</th>\n",
       "      <td>Latvia</td>\n",
       "      <td>5.5</td>\n",
       "      <td>2.5</td>\n",
       "      <td>2.5</td>\n",
       "      <td>2.5</td>\n",
       "    </tr>\n",
       "    <tr>\n",
       "      <th>63</th>\n",
       "      <td>Lebanon</td>\n",
       "      <td>11.6</td>\n",
       "      <td>13.2</td>\n",
       "      <td>12.3</td>\n",
       "      <td>9.7</td>\n",
       "    </tr>\n",
       "    <tr>\n",
       "      <th>66</th>\n",
       "      <td>Lithuania</td>\n",
       "      <td>2.5</td>\n",
       "      <td>2.5</td>\n",
       "      <td>2.5</td>\n",
       "      <td>2.5</td>\n",
       "    </tr>\n",
       "    <tr>\n",
       "      <th>73</th>\n",
       "      <td>Mexico</td>\n",
       "      <td>10.2</td>\n",
       "      <td>8.6</td>\n",
       "      <td>7.8</td>\n",
       "      <td>8.5</td>\n",
       "    </tr>\n",
       "    <tr>\n",
       "      <th>75</th>\n",
       "      <td>Mongolia</td>\n",
       "      <td>30.2</td>\n",
       "      <td>23.4</td>\n",
       "      <td>12.8</td>\n",
       "      <td>6.1</td>\n",
       "    </tr>\n",
       "    <tr>\n",
       "      <th>77</th>\n",
       "      <td>Morocco</td>\n",
       "      <td>15.5</td>\n",
       "      <td>17.5</td>\n",
       "      <td>9.6</td>\n",
       "      <td>8.8</td>\n",
       "    </tr>\n",
       "    <tr>\n",
       "      <th>86</th>\n",
       "      <td>North Macedonia</td>\n",
       "      <td>7.5</td>\n",
       "      <td>7.7</td>\n",
       "      <td>2.5</td>\n",
       "      <td>2.5</td>\n",
       "    </tr>\n",
       "    <tr>\n",
       "      <th>89</th>\n",
       "      <td>Panama</td>\n",
       "      <td>18.7</td>\n",
       "      <td>15.0</td>\n",
       "      <td>10.1</td>\n",
       "      <td>8.9</td>\n",
       "    </tr>\n",
       "    <tr>\n",
       "      <th>91</th>\n",
       "      <td>Paraguay</td>\n",
       "      <td>11.7</td>\n",
       "      <td>11.6</td>\n",
       "      <td>9.5</td>\n",
       "      <td>7.5</td>\n",
       "    </tr>\n",
       "    <tr>\n",
       "      <th>92</th>\n",
       "      <td>Peru</td>\n",
       "      <td>20.6</td>\n",
       "      <td>16.4</td>\n",
       "      <td>9.2</td>\n",
       "      <td>8.0</td>\n",
       "    </tr>\n",
       "    <tr>\n",
       "      <th>94</th>\n",
       "      <td>Romania</td>\n",
       "      <td>7.9</td>\n",
       "      <td>5.9</td>\n",
       "      <td>5.0</td>\n",
       "      <td>2.5</td>\n",
       "    </tr>\n",
       "    <tr>\n",
       "      <th>95</th>\n",
       "      <td>Russia</td>\n",
       "      <td>10.1</td>\n",
       "      <td>7.1</td>\n",
       "      <td>6.4</td>\n",
       "      <td>6.2</td>\n",
       "    </tr>\n",
       "    <tr>\n",
       "      <th>97</th>\n",
       "      <td>Saudi Arabia</td>\n",
       "      <td>11.0</td>\n",
       "      <td>12.1</td>\n",
       "      <td>8.2</td>\n",
       "      <td>6.8</td>\n",
       "    </tr>\n",
       "    <tr>\n",
       "      <th>101</th>\n",
       "      <td>Slovakia</td>\n",
       "      <td>6.0</td>\n",
       "      <td>5.3</td>\n",
       "      <td>2.5</td>\n",
       "      <td>2.5</td>\n",
       "    </tr>\n",
       "    <tr>\n",
       "      <th>115</th>\n",
       "      <td>Trinidad and Tobago</td>\n",
       "      <td>11.0</td>\n",
       "      <td>11.3</td>\n",
       "      <td>10.8</td>\n",
       "      <td>8.9</td>\n",
       "    </tr>\n",
       "    <tr>\n",
       "      <th>116</th>\n",
       "      <td>Tunisia</td>\n",
       "      <td>10.3</td>\n",
       "      <td>7.8</td>\n",
       "      <td>7.0</td>\n",
       "      <td>6.0</td>\n",
       "    </tr>\n",
       "    <tr>\n",
       "      <th>117</th>\n",
       "      <td>Turkey</td>\n",
       "      <td>10.2</td>\n",
       "      <td>6.5</td>\n",
       "      <td>5.0</td>\n",
       "      <td>2.5</td>\n",
       "    </tr>\n",
       "    <tr>\n",
       "      <th>118</th>\n",
       "      <td>Turkmenistan</td>\n",
       "      <td>20.1</td>\n",
       "      <td>14.8</td>\n",
       "      <td>11.9</td>\n",
       "      <td>9.7</td>\n",
       "    </tr>\n",
       "    <tr>\n",
       "      <th>120</th>\n",
       "      <td>Ukraine</td>\n",
       "      <td>13.0</td>\n",
       "      <td>7.1</td>\n",
       "      <td>6.9</td>\n",
       "      <td>6.8</td>\n",
       "    </tr>\n",
       "    <tr>\n",
       "      <th>121</th>\n",
       "      <td>Uruguay</td>\n",
       "      <td>7.4</td>\n",
       "      <td>6.7</td>\n",
       "      <td>5.0</td>\n",
       "      <td>2.5</td>\n",
       "    </tr>\n",
       "    <tr>\n",
       "      <th>122</th>\n",
       "      <td>Uzbekistan</td>\n",
       "      <td>24.3</td>\n",
       "      <td>16.6</td>\n",
       "      <td>9.5</td>\n",
       "      <td>5.9</td>\n",
       "    </tr>\n",
       "  </tbody>\n",
       "</table>\n",
       "</div>"
      ],
      "text/plain": [
       "Year                 Country  2000  2006  2012  2021\n",
       "1                    Albania  20.7  15.9   8.8   6.2\n",
       "2                    Algeria  14.5  11.7   8.9   6.9\n",
       "4                  Argentina   6.4   5.6   5.2   5.3\n",
       "5                    Armenia  19.3  13.3  10.4   7.2\n",
       "6                 Azerbaijan  25.0  15.9  10.6   7.5\n",
       "8                    Belarus   2.5   2.5   2.5   2.5\n",
       "11    Bosnia and Herzegovina   9.3   6.7   2.5   2.5\n",
       "13                    Brazil  11.5   7.4   5.5   2.5\n",
       "14                  Bulgaria   8.6   8.1   7.8   6.1\n",
       "22                     Chile   2.5   2.5   2.5   2.5\n",
       "23                     China  13.3   9.0   2.5   2.5\n",
       "24                  Colombia  10.9  11.4   9.3   8.9\n",
       "27                Costa Rica   7.0   5.5   2.5   5.3\n",
       "29                   Croatia   2.5   2.5   2.5   2.5\n",
       "30                      Cuba   2.5   2.5   2.5   2.5\n",
       "33        Dominican Republic  15.1  13.2  10.2   8.0\n",
       "36               El Salvador  14.7  12.0  10.4   8.9\n",
       "37                   Estonia   2.5   2.5   2.5   2.5\n",
       "40                      Fiji   9.6   9.0   8.1   8.6\n",
       "43                   Georgia  12.3   8.8   2.5   6.3\n",
       "53                      Iran  13.5   8.9   8.1   7.7\n",
       "55                   Jamaica   8.6   9.0   9.1   8.6\n",
       "56                    Jordan  10.8   8.1   8.5   8.3\n",
       "57                Kazakhstan  11.2  12.3   8.1   6.4\n",
       "59                    Kuwait   2.5   2.5   2.5   2.5\n",
       "60                Kyrgyzstan  18.3  13.9  11.7   8.6\n",
       "62                    Latvia   5.5   2.5   2.5   2.5\n",
       "63                   Lebanon  11.6  13.2  12.3   9.7\n",
       "66                 Lithuania   2.5   2.5   2.5   2.5\n",
       "73                    Mexico  10.2   8.6   7.8   8.5\n",
       "75                  Mongolia  30.2  23.4  12.8   6.1\n",
       "77                   Morocco  15.5  17.5   9.6   8.8\n",
       "86           North Macedonia   7.5   7.7   2.5   2.5\n",
       "89                    Panama  18.7  15.0  10.1   8.9\n",
       "91                  Paraguay  11.7  11.6   9.5   7.5\n",
       "92                      Peru  20.6  16.4   9.2   8.0\n",
       "94                   Romania   7.9   5.9   5.0   2.5\n",
       "95                    Russia  10.1   7.1   6.4   6.2\n",
       "97              Saudi Arabia  11.0  12.1   8.2   6.8\n",
       "101                 Slovakia   6.0   5.3   2.5   2.5\n",
       "115      Trinidad and Tobago  11.0  11.3  10.8   8.9\n",
       "116                  Tunisia  10.3   7.8   7.0   6.0\n",
       "117                   Turkey  10.2   6.5   5.0   2.5\n",
       "118             Turkmenistan  20.1  14.8  11.9   9.7\n",
       "120                  Ukraine  13.0   7.1   6.9   6.8\n",
       "121                  Uruguay   7.4   6.7   5.0   2.5\n",
       "122               Uzbekistan  24.3  16.6   9.5   5.9"
      ]
     },
     "execution_count": 31,
     "metadata": {},
     "output_type": "execute_result"
    }
   ],
   "source": [
    "Low_Countries = df_GHI.where (df_GHI[2021] < 10)\n",
    "Low_Countries = Low_Countries.dropna()\n",
    "Low_Countries\n"
   ]
  },
  {
   "cell_type": "markdown",
   "id": "cf711eb4",
   "metadata": {
    "papermill": {
     "duration": 0.028156,
     "end_time": "2023-01-04T17:25:19.533860",
     "exception": false,
     "start_time": "2023-01-04T17:25:19.505704",
     "status": "completed"
    },
    "tags": []
   },
   "source": [
    "UN target in 2021 is to achieve GHI of 18.5 for all countries"
   ]
  },
  {
   "cell_type": "markdown",
   "id": "d795181e",
   "metadata": {
    "papermill": {
     "duration": 0.027563,
     "end_time": "2023-01-04T17:25:19.590373",
     "exception": false,
     "start_time": "2023-01-04T17:25:19.562810",
     "status": "completed"
    },
    "tags": []
   },
   "source": [
    "**How many countries are above the target in 2021?**\n",
    "\n",
    "The target in 2021 is that at least all countries should have GHI of 18.5."
   ]
  },
  {
   "cell_type": "code",
   "execution_count": 32,
   "id": "5083e813",
   "metadata": {
    "execution": {
     "iopub.execute_input": "2023-01-04T17:25:19.648526Z",
     "iopub.status.busy": "2023-01-04T17:25:19.648165Z",
     "iopub.status.idle": "2023-01-04T17:25:19.679010Z",
     "shell.execute_reply": "2023-01-04T17:25:19.677603Z"
    },
    "papermill": {
     "duration": 0.062792,
     "end_time": "2023-01-04T17:25:19.681779",
     "exception": false,
     "start_time": "2023-01-04T17:25:19.618987",
     "status": "completed"
    },
    "tags": []
   },
   "outputs": [
    {
     "data": {
      "text/html": [
       "<div>\n",
       "<style scoped>\n",
       "    .dataframe tbody tr th:only-of-type {\n",
       "        vertical-align: middle;\n",
       "    }\n",
       "\n",
       "    .dataframe tbody tr th {\n",
       "        vertical-align: top;\n",
       "    }\n",
       "\n",
       "    .dataframe thead th {\n",
       "        text-align: right;\n",
       "    }\n",
       "</style>\n",
       "<table border=\"1\" class=\"dataframe\">\n",
       "  <thead>\n",
       "    <tr style=\"text-align: right;\">\n",
       "      <th>Year</th>\n",
       "      <th>Country</th>\n",
       "      <th>2000</th>\n",
       "      <th>2006</th>\n",
       "      <th>2012</th>\n",
       "      <th>2021</th>\n",
       "    </tr>\n",
       "  </thead>\n",
       "  <tbody>\n",
       "    <tr>\n",
       "      <th>0</th>\n",
       "      <td>Afghanistan</td>\n",
       "      <td>50.9</td>\n",
       "      <td>42.7</td>\n",
       "      <td>34.3</td>\n",
       "      <td>28.3</td>\n",
       "    </tr>\n",
       "    <tr>\n",
       "      <th>3</th>\n",
       "      <td>Angola</td>\n",
       "      <td>65.0</td>\n",
       "      <td>46.9</td>\n",
       "      <td>27.8</td>\n",
       "      <td>26.0</td>\n",
       "    </tr>\n",
       "    <tr>\n",
       "      <th>7</th>\n",
       "      <td>Bangladesh</td>\n",
       "      <td>34.0</td>\n",
       "      <td>28.9</td>\n",
       "      <td>28.6</td>\n",
       "      <td>19.1</td>\n",
       "    </tr>\n",
       "    <tr>\n",
       "      <th>9</th>\n",
       "      <td>Benin</td>\n",
       "      <td>34.0</td>\n",
       "      <td>27.7</td>\n",
       "      <td>24.0</td>\n",
       "      <td>22.2</td>\n",
       "    </tr>\n",
       "    <tr>\n",
       "      <th>12</th>\n",
       "      <td>Botswana</td>\n",
       "      <td>26.7</td>\n",
       "      <td>26.2</td>\n",
       "      <td>24.3</td>\n",
       "      <td>23.2</td>\n",
       "    </tr>\n",
       "    <tr>\n",
       "      <th>15</th>\n",
       "      <td>Burkina Faso</td>\n",
       "      <td>44.9</td>\n",
       "      <td>35.8</td>\n",
       "      <td>29.7</td>\n",
       "      <td>24.5</td>\n",
       "    </tr>\n",
       "    <tr>\n",
       "      <th>18</th>\n",
       "      <td>Cameroon</td>\n",
       "      <td>35.7</td>\n",
       "      <td>30.9</td>\n",
       "      <td>23.1</td>\n",
       "      <td>18.6</td>\n",
       "    </tr>\n",
       "    <tr>\n",
       "      <th>20</th>\n",
       "      <td>Central African Republic</td>\n",
       "      <td>48.9</td>\n",
       "      <td>48.0</td>\n",
       "      <td>40.5</td>\n",
       "      <td>43.0</td>\n",
       "    </tr>\n",
       "    <tr>\n",
       "      <th>21</th>\n",
       "      <td>Chad</td>\n",
       "      <td>50.8</td>\n",
       "      <td>51.2</td>\n",
       "      <td>45.7</td>\n",
       "      <td>39.6</td>\n",
       "    </tr>\n",
       "    <tr>\n",
       "      <th>26</th>\n",
       "      <td>Congo</td>\n",
       "      <td>34.9</td>\n",
       "      <td>34.6</td>\n",
       "      <td>28.5</td>\n",
       "      <td>30.3</td>\n",
       "    </tr>\n",
       "    <tr>\n",
       "      <th>28</th>\n",
       "      <td>Cote d'Ivoire</td>\n",
       "      <td>33.3</td>\n",
       "      <td>37.1</td>\n",
       "      <td>30.0</td>\n",
       "      <td>22.3</td>\n",
       "    </tr>\n",
       "    <tr>\n",
       "      <th>31</th>\n",
       "      <td>Democratic Republic of Congo</td>\n",
       "      <td>50.6</td>\n",
       "      <td>45.3</td>\n",
       "      <td>42.3</td>\n",
       "      <td>39.0</td>\n",
       "    </tr>\n",
       "    <tr>\n",
       "      <th>32</th>\n",
       "      <td>Djibouti</td>\n",
       "      <td>44.3</td>\n",
       "      <td>36.9</td>\n",
       "      <td>35.4</td>\n",
       "      <td>27.4</td>\n",
       "    </tr>\n",
       "    <tr>\n",
       "      <th>39</th>\n",
       "      <td>Ethiopia</td>\n",
       "      <td>53.5</td>\n",
       "      <td>43.4</td>\n",
       "      <td>33.5</td>\n",
       "      <td>24.1</td>\n",
       "    </tr>\n",
       "    <tr>\n",
       "      <th>45</th>\n",
       "      <td>Guatemala</td>\n",
       "      <td>28.4</td>\n",
       "      <td>24.6</td>\n",
       "      <td>22.0</td>\n",
       "      <td>19.6</td>\n",
       "    </tr>\n",
       "    <tr>\n",
       "      <th>49</th>\n",
       "      <td>Haiti</td>\n",
       "      <td>42.0</td>\n",
       "      <td>43.6</td>\n",
       "      <td>35.2</td>\n",
       "      <td>32.8</td>\n",
       "    </tr>\n",
       "    <tr>\n",
       "      <th>51</th>\n",
       "      <td>India</td>\n",
       "      <td>38.8</td>\n",
       "      <td>37.4</td>\n",
       "      <td>28.8</td>\n",
       "      <td>27.5</td>\n",
       "    </tr>\n",
       "    <tr>\n",
       "      <th>54</th>\n",
       "      <td>Iraq</td>\n",
       "      <td>23.9</td>\n",
       "      <td>23.9</td>\n",
       "      <td>27.5</td>\n",
       "      <td>22.8</td>\n",
       "    </tr>\n",
       "    <tr>\n",
       "      <th>58</th>\n",
       "      <td>Kenya</td>\n",
       "      <td>36.7</td>\n",
       "      <td>31.2</td>\n",
       "      <td>25.4</td>\n",
       "      <td>23.0</td>\n",
       "    </tr>\n",
       "    <tr>\n",
       "      <th>61</th>\n",
       "      <td>Laos</td>\n",
       "      <td>44.1</td>\n",
       "      <td>31.9</td>\n",
       "      <td>25.7</td>\n",
       "      <td>19.5</td>\n",
       "    </tr>\n",
       "    <tr>\n",
       "      <th>64</th>\n",
       "      <td>Lesotho</td>\n",
       "      <td>32.5</td>\n",
       "      <td>29.6</td>\n",
       "      <td>24.6</td>\n",
       "      <td>27.4</td>\n",
       "    </tr>\n",
       "    <tr>\n",
       "      <th>65</th>\n",
       "      <td>Liberia</td>\n",
       "      <td>48.1</td>\n",
       "      <td>40.0</td>\n",
       "      <td>35.0</td>\n",
       "      <td>33.3</td>\n",
       "    </tr>\n",
       "    <tr>\n",
       "      <th>67</th>\n",
       "      <td>Madagascar</td>\n",
       "      <td>42.8</td>\n",
       "      <td>41.6</td>\n",
       "      <td>34.3</td>\n",
       "      <td>36.3</td>\n",
       "    </tr>\n",
       "    <tr>\n",
       "      <th>68</th>\n",
       "      <td>Malawi</td>\n",
       "      <td>43.1</td>\n",
       "      <td>33.5</td>\n",
       "      <td>26.2</td>\n",
       "      <td>21.3</td>\n",
       "    </tr>\n",
       "    <tr>\n",
       "      <th>70</th>\n",
       "      <td>Mali</td>\n",
       "      <td>41.7</td>\n",
       "      <td>36.8</td>\n",
       "      <td>24.8</td>\n",
       "      <td>24.7</td>\n",
       "    </tr>\n",
       "    <tr>\n",
       "      <th>71</th>\n",
       "      <td>Mauritania</td>\n",
       "      <td>31.9</td>\n",
       "      <td>28.9</td>\n",
       "      <td>23.6</td>\n",
       "      <td>22.6</td>\n",
       "    </tr>\n",
       "    <tr>\n",
       "      <th>78</th>\n",
       "      <td>Mozambique</td>\n",
       "      <td>48.0</td>\n",
       "      <td>38.2</td>\n",
       "      <td>31.5</td>\n",
       "      <td>31.3</td>\n",
       "    </tr>\n",
       "    <tr>\n",
       "      <th>80</th>\n",
       "      <td>Namibia</td>\n",
       "      <td>25.3</td>\n",
       "      <td>25.8</td>\n",
       "      <td>26.6</td>\n",
       "      <td>20.2</td>\n",
       "    </tr>\n",
       "    <tr>\n",
       "      <th>81</th>\n",
       "      <td>Nepal</td>\n",
       "      <td>37.4</td>\n",
       "      <td>30.9</td>\n",
       "      <td>23.1</td>\n",
       "      <td>19.1</td>\n",
       "    </tr>\n",
       "    <tr>\n",
       "      <th>84</th>\n",
       "      <td>Nigeria</td>\n",
       "      <td>39.5</td>\n",
       "      <td>32.5</td>\n",
       "      <td>30.4</td>\n",
       "      <td>28.3</td>\n",
       "    </tr>\n",
       "    <tr>\n",
       "      <th>85</th>\n",
       "      <td>North Korea</td>\n",
       "      <td>39.5</td>\n",
       "      <td>33.1</td>\n",
       "      <td>29.1</td>\n",
       "      <td>25.2</td>\n",
       "    </tr>\n",
       "    <tr>\n",
       "      <th>88</th>\n",
       "      <td>Pakistan</td>\n",
       "      <td>36.7</td>\n",
       "      <td>33.1</td>\n",
       "      <td>32.1</td>\n",
       "      <td>24.7</td>\n",
       "    </tr>\n",
       "    <tr>\n",
       "      <th>90</th>\n",
       "      <td>Papua New Guinea</td>\n",
       "      <td>33.6</td>\n",
       "      <td>30.3</td>\n",
       "      <td>33.7</td>\n",
       "      <td>27.8</td>\n",
       "    </tr>\n",
       "    <tr>\n",
       "      <th>96</th>\n",
       "      <td>Rwanda</td>\n",
       "      <td>49.3</td>\n",
       "      <td>38.3</td>\n",
       "      <td>31.0</td>\n",
       "      <td>26.4</td>\n",
       "    </tr>\n",
       "    <tr>\n",
       "      <th>100</th>\n",
       "      <td>Sierra Leone</td>\n",
       "      <td>57.7</td>\n",
       "      <td>52.7</td>\n",
       "      <td>34.7</td>\n",
       "      <td>31.3</td>\n",
       "    </tr>\n",
       "    <tr>\n",
       "      <th>102</th>\n",
       "      <td>Solomon Islands</td>\n",
       "      <td>20.0</td>\n",
       "      <td>18.2</td>\n",
       "      <td>20.2</td>\n",
       "      <td>18.8</td>\n",
       "    </tr>\n",
       "    <tr>\n",
       "      <th>103</th>\n",
       "      <td>Somalia</td>\n",
       "      <td>58.1</td>\n",
       "      <td>57.9</td>\n",
       "      <td>65.1</td>\n",
       "      <td>50.8</td>\n",
       "    </tr>\n",
       "    <tr>\n",
       "      <th>111</th>\n",
       "      <td>Tanzania</td>\n",
       "      <td>40.6</td>\n",
       "      <td>33.6</td>\n",
       "      <td>29.1</td>\n",
       "      <td>24.7</td>\n",
       "    </tr>\n",
       "    <tr>\n",
       "      <th>114</th>\n",
       "      <td>Togo</td>\n",
       "      <td>39.1</td>\n",
       "      <td>36.5</td>\n",
       "      <td>25.3</td>\n",
       "      <td>23.7</td>\n",
       "    </tr>\n",
       "    <tr>\n",
       "      <th>123</th>\n",
       "      <td>Venezuela</td>\n",
       "      <td>14.6</td>\n",
       "      <td>11.2</td>\n",
       "      <td>7.4</td>\n",
       "      <td>22.2</td>\n",
       "    </tr>\n",
       "    <tr>\n",
       "      <th>125</th>\n",
       "      <td>Yemen</td>\n",
       "      <td>41.0</td>\n",
       "      <td>38.8</td>\n",
       "      <td>38.4</td>\n",
       "      <td>45.1</td>\n",
       "    </tr>\n",
       "  </tbody>\n",
       "</table>\n",
       "</div>"
      ],
      "text/plain": [
       "Year                       Country  2000  2006  2012  2021\n",
       "0                      Afghanistan  50.9  42.7  34.3  28.3\n",
       "3                           Angola  65.0  46.9  27.8  26.0\n",
       "7                       Bangladesh  34.0  28.9  28.6  19.1\n",
       "9                            Benin  34.0  27.7  24.0  22.2\n",
       "12                        Botswana  26.7  26.2  24.3  23.2\n",
       "15                    Burkina Faso  44.9  35.8  29.7  24.5\n",
       "18                        Cameroon  35.7  30.9  23.1  18.6\n",
       "20        Central African Republic  48.9  48.0  40.5  43.0\n",
       "21                            Chad  50.8  51.2  45.7  39.6\n",
       "26                           Congo  34.9  34.6  28.5  30.3\n",
       "28                   Cote d'Ivoire  33.3  37.1  30.0  22.3\n",
       "31    Democratic Republic of Congo  50.6  45.3  42.3  39.0\n",
       "32                        Djibouti  44.3  36.9  35.4  27.4\n",
       "39                        Ethiopia  53.5  43.4  33.5  24.1\n",
       "45                       Guatemala  28.4  24.6  22.0  19.6\n",
       "49                           Haiti  42.0  43.6  35.2  32.8\n",
       "51                           India  38.8  37.4  28.8  27.5\n",
       "54                            Iraq  23.9  23.9  27.5  22.8\n",
       "58                           Kenya  36.7  31.2  25.4  23.0\n",
       "61                            Laos  44.1  31.9  25.7  19.5\n",
       "64                         Lesotho  32.5  29.6  24.6  27.4\n",
       "65                         Liberia  48.1  40.0  35.0  33.3\n",
       "67                      Madagascar  42.8  41.6  34.3  36.3\n",
       "68                          Malawi  43.1  33.5  26.2  21.3\n",
       "70                            Mali  41.7  36.8  24.8  24.7\n",
       "71                      Mauritania  31.9  28.9  23.6  22.6\n",
       "78                      Mozambique  48.0  38.2  31.5  31.3\n",
       "80                         Namibia  25.3  25.8  26.6  20.2\n",
       "81                           Nepal  37.4  30.9  23.1  19.1\n",
       "84                         Nigeria  39.5  32.5  30.4  28.3\n",
       "85                     North Korea  39.5  33.1  29.1  25.2\n",
       "88                        Pakistan  36.7  33.1  32.1  24.7\n",
       "90                Papua New Guinea  33.6  30.3  33.7  27.8\n",
       "96                          Rwanda  49.3  38.3  31.0  26.4\n",
       "100                   Sierra Leone  57.7  52.7  34.7  31.3\n",
       "102                Solomon Islands  20.0  18.2  20.2  18.8\n",
       "103                        Somalia  58.1  57.9  65.1  50.8\n",
       "111                       Tanzania  40.6  33.6  29.1  24.7\n",
       "114                           Togo  39.1  36.5  25.3  23.7\n",
       "123                      Venezuela  14.6  11.2   7.4  22.2\n",
       "125                          Yemen  41.0  38.8  38.4  45.1"
      ]
     },
     "execution_count": 32,
     "metadata": {},
     "output_type": "execute_result"
    }
   ],
   "source": [
    "High_Countries = df_GHI.where (df_GHI[2021] > 18.5)\n",
    "High_Countries = High_Countries.dropna()\n",
    "High_Countries"
   ]
  },
  {
   "cell_type": "code",
   "execution_count": 33,
   "id": "cdc4f9bb",
   "metadata": {
    "execution": {
     "iopub.execute_input": "2023-01-04T17:25:19.742372Z",
     "iopub.status.busy": "2023-01-04T17:25:19.741926Z",
     "iopub.status.idle": "2023-01-04T17:25:19.750897Z",
     "shell.execute_reply": "2023-01-04T17:25:19.749739Z"
    },
    "papermill": {
     "duration": 0.043261,
     "end_time": "2023-01-04T17:25:19.754103",
     "exception": false,
     "start_time": "2023-01-04T17:25:19.710842",
     "status": "completed"
    },
    "tags": []
   },
   "outputs": [
    {
     "data": {
      "text/plain": [
       "41"
      ]
     },
     "execution_count": 33,
     "metadata": {},
     "output_type": "execute_result"
    }
   ],
   "source": [
    "High_Countries[2021].count()"
   ]
  },
  {
   "cell_type": "markdown",
   "id": "e41b415a",
   "metadata": {
    "papermill": {
     "duration": 0.029054,
     "end_time": "2023-01-04T17:25:19.813466",
     "exception": false,
     "start_time": "2023-01-04T17:25:19.784412",
     "status": "completed"
    },
    "tags": []
   },
   "source": [
    "In 2021, there 41 countries which are not meeting the UN target."
   ]
  },
  {
   "cell_type": "markdown",
   "id": "416a126c",
   "metadata": {
    "papermill": {
     "duration": 0.02776,
     "end_time": "2023-01-04T17:25:19.870344",
     "exception": false,
     "start_time": "2023-01-04T17:25:19.842584",
     "status": "completed"
    },
    "tags": []
   },
   "source": [
    "**Learnings from Global Hunger Index 2021**\n",
    "\n",
    "Based on current Global Hunger Index projections, the world and 41 nations, in particular, will fail to achieve a level of Zero hunger by 2030.\n",
    "\n",
    "The analysis shows current setbacks against poverty and showcases the trouble ahead.\n",
    "* In Europe, Latin America, Central Asia, the Caribbean, East and West Asia, Southeast Asia, and North Africa, hunger levels or poverty are low or moderate.\n",
    "* Country Somalia suffers from an extremely alarming level of food poverty.\n",
    "* Hunger is alarming in 7 nations: Yemen, Central African Republic, Syria, South Sudan, Comoros, Burundi, Chad, Democratic Republic of Congo, and Madagascar."
   ]
  },
  {
   "cell_type": "markdown",
   "id": "c0d29542",
   "metadata": {
    "papermill": {
     "duration": 0.027468,
     "end_time": "2023-01-04T17:25:19.925670",
     "exception": false,
     "start_time": "2023-01-04T17:25:19.898202",
     "status": "completed"
    },
    "tags": []
   },
   "source": [
    "**What is the UN target in 2030?**\n"
   ]
  },
  {
   "cell_type": "markdown",
   "id": "276a93d5",
   "metadata": {
    "papermill": {
     "duration": 0.027921,
     "end_time": "2023-01-04T17:25:19.982834",
     "exception": false,
     "start_time": "2023-01-04T17:25:19.954913",
     "status": "completed"
    },
    "tags": []
   },
   "source": [
    "The UN target in 2030 is simple. Zero hunger on the globe."
   ]
  },
  {
   "cell_type": "markdown",
   "id": "0fd6689a",
   "metadata": {
    "papermill": {
     "duration": 0.028409,
     "end_time": "2023-01-04T17:25:20.040948",
     "exception": false,
     "start_time": "2023-01-04T17:25:20.012539",
     "status": "completed"
    },
    "tags": []
   },
   "source": [
    "The number of people affected by hunger globally rose to as many as 828 million in 2021, an increase of about 46 million since 2020 and 150 million since the outbreak of the COVID-19 pandemic([resource](https://www.who.int/news/item/06-07-2022-un-report--global-hunger-numbers-rose-to-as-many-as-828-million-in-2021), according to a United Nations report that provides fresh evidence that the world is moving further away from its goal of ending hunger, food insecurity and malnutrition in all its forms by 2030."
   ]
  },
  {
   "cell_type": "markdown",
   "id": "210af4af",
   "metadata": {
    "papermill": {
     "duration": 0.02749,
     "end_time": "2023-01-04T17:25:20.096818",
     "exception": false,
     "start_time": "2023-01-04T17:25:20.069328",
     "status": "completed"
    },
    "tags": []
   },
   "source": [
    "# **Linear Regression Model**"
   ]
  },
  {
   "cell_type": "markdown",
   "id": "e95f7b83",
   "metadata": {
    "papermill": {
     "duration": 0.027619,
     "end_time": "2023-01-04T17:25:20.152129",
     "exception": false,
     "start_time": "2023-01-04T17:25:20.124510",
     "status": "completed"
    },
    "tags": []
   },
   "source": [
    "**Splitting the data**"
   ]
  },
  {
   "cell_type": "code",
   "execution_count": 34,
   "id": "6569bdad",
   "metadata": {
    "execution": {
     "iopub.execute_input": "2023-01-04T17:25:20.210317Z",
     "iopub.status.busy": "2023-01-04T17:25:20.209902Z",
     "iopub.status.idle": "2023-01-04T17:25:20.225769Z",
     "shell.execute_reply": "2023-01-04T17:25:20.224479Z"
    },
    "papermill": {
     "duration": 0.04775,
     "end_time": "2023-01-04T17:25:20.227990",
     "exception": false,
     "start_time": "2023-01-04T17:25:20.180240",
     "status": "completed"
    },
    "tags": []
   },
   "outputs": [],
   "source": [
    "\n",
    "X = df_GHI.dropna(axis=1)\n",
    "y = df_GHI.dropna(axis=1)\n",
    "\n",
    "X = df_GHI.drop('Country',axis=1)\n",
    "y = df_GHI.drop('Country',axis=1)\n",
    "X_train,X_test,y_train,y_test=train_test_split(X,y,random_state=0,test_size=0.30)"
   ]
  },
  {
   "cell_type": "code",
   "execution_count": 35,
   "id": "c8771a4a",
   "metadata": {
    "execution": {
     "iopub.execute_input": "2023-01-04T17:25:20.286967Z",
     "iopub.status.busy": "2023-01-04T17:25:20.286612Z",
     "iopub.status.idle": "2023-01-04T17:25:20.291355Z",
     "shell.execute_reply": "2023-01-04T17:25:20.290429Z"
    },
    "papermill": {
     "duration": 0.037578,
     "end_time": "2023-01-04T17:25:20.293749",
     "exception": false,
     "start_time": "2023-01-04T17:25:20.256171",
     "status": "completed"
    },
    "tags": []
   },
   "outputs": [],
   "source": [
    "# X_train = X_train.dropna\n",
    "# X_test = X_test.dropna\n",
    "\n",
    "# y_train = y_train.dropna\n",
    "# y_test = y_test.dropna"
   ]
  },
  {
   "cell_type": "code",
   "execution_count": 36,
   "id": "d27621ff",
   "metadata": {
    "execution": {
     "iopub.execute_input": "2023-01-04T17:25:20.354962Z",
     "iopub.status.busy": "2023-01-04T17:25:20.354590Z",
     "iopub.status.idle": "2023-01-04T17:25:20.370313Z",
     "shell.execute_reply": "2023-01-04T17:25:20.369112Z"
    },
    "papermill": {
     "duration": 0.047112,
     "end_time": "2023-01-04T17:25:20.372320",
     "exception": false,
     "start_time": "2023-01-04T17:25:20.325208",
     "status": "completed"
    },
    "tags": []
   },
   "outputs": [
    {
     "data": {
      "text/html": [
       "<div>\n",
       "<style scoped>\n",
       "    .dataframe tbody tr th:only-of-type {\n",
       "        vertical-align: middle;\n",
       "    }\n",
       "\n",
       "    .dataframe tbody tr th {\n",
       "        vertical-align: top;\n",
       "    }\n",
       "\n",
       "    .dataframe thead th {\n",
       "        text-align: right;\n",
       "    }\n",
       "</style>\n",
       "<table border=\"1\" class=\"dataframe\">\n",
       "  <thead>\n",
       "    <tr style=\"text-align: right;\">\n",
       "      <th>Year</th>\n",
       "      <th>2000</th>\n",
       "      <th>2006</th>\n",
       "      <th>2012</th>\n",
       "      <th>2021</th>\n",
       "    </tr>\n",
       "  </thead>\n",
       "  <tbody>\n",
       "    <tr>\n",
       "      <th>100</th>\n",
       "      <td>57.7</td>\n",
       "      <td>52.7</td>\n",
       "      <td>34.7</td>\n",
       "      <td>31.3</td>\n",
       "    </tr>\n",
       "    <tr>\n",
       "      <th>6</th>\n",
       "      <td>25.0</td>\n",
       "      <td>15.9</td>\n",
       "      <td>10.6</td>\n",
       "      <td>7.5</td>\n",
       "    </tr>\n",
       "    <tr>\n",
       "      <th>92</th>\n",
       "      <td>20.6</td>\n",
       "      <td>16.4</td>\n",
       "      <td>9.2</td>\n",
       "      <td>8.0</td>\n",
       "    </tr>\n",
       "    <tr>\n",
       "      <th>52</th>\n",
       "      <td>26.1</td>\n",
       "      <td>29.5</td>\n",
       "      <td>23.0</td>\n",
       "      <td>18.0</td>\n",
       "    </tr>\n",
       "    <tr>\n",
       "      <th>97</th>\n",
       "      <td>11.0</td>\n",
       "      <td>12.1</td>\n",
       "      <td>8.2</td>\n",
       "      <td>6.8</td>\n",
       "    </tr>\n",
       "    <tr>\n",
       "      <th>...</th>\n",
       "      <td>...</td>\n",
       "      <td>...</td>\n",
       "      <td>...</td>\n",
       "      <td>...</td>\n",
       "    </tr>\n",
       "    <tr>\n",
       "      <th>67</th>\n",
       "      <td>42.8</td>\n",
       "      <td>41.6</td>\n",
       "      <td>34.3</td>\n",
       "      <td>36.3</td>\n",
       "    </tr>\n",
       "    <tr>\n",
       "      <th>64</th>\n",
       "      <td>32.5</td>\n",
       "      <td>29.6</td>\n",
       "      <td>24.6</td>\n",
       "      <td>27.4</td>\n",
       "    </tr>\n",
       "    <tr>\n",
       "      <th>117</th>\n",
       "      <td>10.2</td>\n",
       "      <td>6.5</td>\n",
       "      <td>5.0</td>\n",
       "      <td>2.5</td>\n",
       "    </tr>\n",
       "    <tr>\n",
       "      <th>47</th>\n",
       "      <td>NaN</td>\n",
       "      <td>NaN</td>\n",
       "      <td>NaN</td>\n",
       "      <td>27.5</td>\n",
       "    </tr>\n",
       "    <tr>\n",
       "      <th>44</th>\n",
       "      <td>28.4</td>\n",
       "      <td>22.0</td>\n",
       "      <td>17.9</td>\n",
       "      <td>14.9</td>\n",
       "    </tr>\n",
       "  </tbody>\n",
       "</table>\n",
       "<p>89 rows × 4 columns</p>\n",
       "</div>"
      ],
      "text/plain": [
       "Year  2000  2006  2012  2021\n",
       "100   57.7  52.7  34.7  31.3\n",
       "6     25.0  15.9  10.6   7.5\n",
       "92    20.6  16.4   9.2   8.0\n",
       "52    26.1  29.5  23.0  18.0\n",
       "97    11.0  12.1   8.2   6.8\n",
       "..     ...   ...   ...   ...\n",
       "67    42.8  41.6  34.3  36.3\n",
       "64    32.5  29.6  24.6  27.4\n",
       "117   10.2   6.5   5.0   2.5\n",
       "47     NaN   NaN   NaN  27.5\n",
       "44    28.4  22.0  17.9  14.9\n",
       "\n",
       "[89 rows x 4 columns]"
      ]
     },
     "execution_count": 36,
     "metadata": {},
     "output_type": "execute_result"
    }
   ],
   "source": [
    "X_train"
   ]
  },
  {
   "cell_type": "code",
   "execution_count": 37,
   "id": "bf33e0da",
   "metadata": {
    "execution": {
     "iopub.execute_input": "2023-01-04T17:25:20.432164Z",
     "iopub.status.busy": "2023-01-04T17:25:20.430805Z",
     "iopub.status.idle": "2023-01-04T17:25:20.438684Z",
     "shell.execute_reply": "2023-01-04T17:25:20.436836Z"
    },
    "papermill": {
     "duration": 0.040449,
     "end_time": "2023-01-04T17:25:20.442024",
     "exception": false,
     "start_time": "2023-01-04T17:25:20.401575",
     "status": "completed"
    },
    "tags": []
   },
   "outputs": [
    {
     "name": "stdout",
     "output_type": "stream",
     "text": [
      "(89, 4)\n"
     ]
    }
   ],
   "source": [
    "print(X_train.shape)"
   ]
  },
  {
   "cell_type": "code",
   "execution_count": 38,
   "id": "75c4f937",
   "metadata": {
    "execution": {
     "iopub.execute_input": "2023-01-04T17:25:20.502024Z",
     "iopub.status.busy": "2023-01-04T17:25:20.501636Z",
     "iopub.status.idle": "2023-01-04T17:25:20.509429Z",
     "shell.execute_reply": "2023-01-04T17:25:20.507475Z"
    },
    "papermill": {
     "duration": 0.041693,
     "end_time": "2023-01-04T17:25:20.512480",
     "exception": false,
     "start_time": "2023-01-04T17:25:20.470787",
     "status": "completed"
    },
    "tags": []
   },
   "outputs": [
    {
     "name": "stdout",
     "output_type": "stream",
     "text": [
      "(39, 4)\n"
     ]
    }
   ],
   "source": [
    "print(y_test.shape)"
   ]
  },
  {
   "cell_type": "markdown",
   "id": "0b304856",
   "metadata": {
    "papermill": {
     "duration": 0.028422,
     "end_time": "2023-01-04T17:25:20.569491",
     "exception": false,
     "start_time": "2023-01-04T17:25:20.541069",
     "status": "completed"
    },
    "tags": []
   },
   "source": [
    "**Selecting model**"
   ]
  },
  {
   "cell_type": "code",
   "execution_count": 39,
   "id": "641f2e9f",
   "metadata": {
    "execution": {
     "iopub.execute_input": "2023-01-04T17:25:20.628943Z",
     "iopub.status.busy": "2023-01-04T17:25:20.627991Z",
     "iopub.status.idle": "2023-01-04T17:25:20.637330Z",
     "shell.execute_reply": "2023-01-04T17:25:20.636502Z"
    },
    "papermill": {
     "duration": 0.040946,
     "end_time": "2023-01-04T17:25:20.639176",
     "exception": false,
     "start_time": "2023-01-04T17:25:20.598230",
     "status": "completed"
    },
    "tags": []
   },
   "outputs": [],
   "source": [
    "X_train = X_train.dropna()\n",
    "y_train = y_train.dropna()\n",
    "\n",
    "X_test = X_test.dropna()\n",
    "y_test = y_test.dropna()"
   ]
  },
  {
   "cell_type": "code",
   "execution_count": 40,
   "id": "67e86227",
   "metadata": {
    "execution": {
     "iopub.execute_input": "2023-01-04T17:25:20.698041Z",
     "iopub.status.busy": "2023-01-04T17:25:20.696771Z",
     "iopub.status.idle": "2023-01-04T17:25:20.701829Z",
     "shell.execute_reply": "2023-01-04T17:25:20.700638Z"
    },
    "papermill": {
     "duration": 0.037914,
     "end_time": "2023-01-04T17:25:20.705138",
     "exception": false,
     "start_time": "2023-01-04T17:25:20.667224",
     "status": "completed"
    },
    "tags": []
   },
   "outputs": [],
   "source": [
    "# Linear_model.fit(X_train,y_train)"
   ]
  },
  {
   "cell_type": "markdown",
   "id": "a342b768",
   "metadata": {
    "papermill": {
     "duration": 0.03043,
     "end_time": "2023-01-04T17:25:20.766276",
     "exception": false,
     "start_time": "2023-01-04T17:25:20.735846",
     "status": "completed"
    },
    "tags": []
   },
   "source": [
    "**Model Fitting**"
   ]
  },
  {
   "cell_type": "code",
   "execution_count": 41,
   "id": "6bcaab89",
   "metadata": {
    "execution": {
     "iopub.execute_input": "2023-01-04T17:25:20.826178Z",
     "iopub.status.busy": "2023-01-04T17:25:20.825746Z",
     "iopub.status.idle": "2023-01-04T17:25:20.830691Z",
     "shell.execute_reply": "2023-01-04T17:25:20.829123Z"
    },
    "papermill": {
     "duration": 0.038746,
     "end_time": "2023-01-04T17:25:20.834008",
     "exception": false,
     "start_time": "2023-01-04T17:25:20.795262",
     "status": "completed"
    },
    "tags": []
   },
   "outputs": [],
   "source": [
    "# Linear_model.fit(X_train,y_train)"
   ]
  },
  {
   "cell_type": "markdown",
   "id": "19deaf2e",
   "metadata": {
    "papermill": {
     "duration": 0.030813,
     "end_time": "2023-01-04T17:25:20.893727",
     "exception": false,
     "start_time": "2023-01-04T17:25:20.862914",
     "status": "completed"
    },
    "tags": []
   },
   "source": [
    "**Prediction**"
   ]
  },
  {
   "cell_type": "code",
   "execution_count": 42,
   "id": "1ba804f1",
   "metadata": {
    "execution": {
     "iopub.execute_input": "2023-01-04T17:25:20.955825Z",
     "iopub.status.busy": "2023-01-04T17:25:20.955418Z",
     "iopub.status.idle": "2023-01-04T17:25:20.959884Z",
     "shell.execute_reply": "2023-01-04T17:25:20.958644Z"
    },
    "papermill": {
     "duration": 0.038845,
     "end_time": "2023-01-04T17:25:20.962155",
     "exception": false,
     "start_time": "2023-01-04T17:25:20.923310",
     "status": "completed"
    },
    "tags": []
   },
   "outputs": [],
   "source": [
    "# y_pred = Linear_model.predict(X_test)\n",
    "# y_pred"
   ]
  },
  {
   "cell_type": "markdown",
   "id": "c3c7fb43",
   "metadata": {
    "papermill": {
     "duration": 0.02911,
     "end_time": "2023-01-04T17:25:21.021744",
     "exception": false,
     "start_time": "2023-01-04T17:25:20.992634",
     "status": "completed"
    },
    "tags": []
   },
   "source": [
    "**Evaluation**"
   ]
  },
  {
   "cell_type": "code",
   "execution_count": 43,
   "id": "2cf63e51",
   "metadata": {
    "execution": {
     "iopub.execute_input": "2023-01-04T17:25:21.084586Z",
     "iopub.status.busy": "2023-01-04T17:25:21.084166Z",
     "iopub.status.idle": "2023-01-04T17:25:21.088916Z",
     "shell.execute_reply": "2023-01-04T17:25:21.087571Z"
    },
    "papermill": {
     "duration": 0.039607,
     "end_time": "2023-01-04T17:25:21.090840",
     "exception": false,
     "start_time": "2023-01-04T17:25:21.051233",
     "status": "completed"
    },
    "tags": []
   },
   "outputs": [],
   "source": [
    "# from sklearn import metrics\n",
    "\n",
    "# R2=metrics.r2_score(y_test,y_pred)\n",
    "# R2"
   ]
  },
  {
   "cell_type": "code",
   "execution_count": 44,
   "id": "9ff57f6b",
   "metadata": {
    "execution": {
     "iopub.execute_input": "2023-01-04T17:25:21.151570Z",
     "iopub.status.busy": "2023-01-04T17:25:21.150327Z",
     "iopub.status.idle": "2023-01-04T17:25:21.155440Z",
     "shell.execute_reply": "2023-01-04T17:25:21.154312Z"
    },
    "papermill": {
     "duration": 0.038555,
     "end_time": "2023-01-04T17:25:21.157259",
     "exception": false,
     "start_time": "2023-01-04T17:25:21.118704",
     "status": "completed"
    },
    "tags": []
   },
   "outputs": [],
   "source": [
    "# print(metrics.mean_absolute_error(y_test,y_pred))"
   ]
  },
  {
   "cell_type": "code",
   "execution_count": 45,
   "id": "8f012900",
   "metadata": {
    "execution": {
     "iopub.execute_input": "2023-01-04T17:25:21.217487Z",
     "iopub.status.busy": "2023-01-04T17:25:21.216184Z",
     "iopub.status.idle": "2023-01-04T17:25:21.222411Z",
     "shell.execute_reply": "2023-01-04T17:25:21.220949Z"
    },
    "papermill": {
     "duration": 0.039001,
     "end_time": "2023-01-04T17:25:21.225000",
     "exception": false,
     "start_time": "2023-01-04T17:25:21.185999",
     "status": "completed"
    },
    "tags": []
   },
   "outputs": [],
   "source": [
    "# # print(Linear_model.predict([[2030]])) \n",
    "\n",
    "# prediction = Linear_model.predict([[2025,2030,2035,2040]])\n",
    "# prediction"
   ]
  },
  {
   "cell_type": "markdown",
   "id": "fe38504f",
   "metadata": {
    "papermill": {
     "duration": 0.028586,
     "end_time": "2023-01-04T17:25:21.282814",
     "exception": false,
     "start_time": "2023-01-04T17:25:21.254228",
     "status": "completed"
    },
    "tags": []
   },
   "source": [
    "**Assumptions**"
   ]
  },
  {
   "cell_type": "markdown",
   "id": "0d132f11",
   "metadata": {
    "papermill": {
     "duration": 0.029135,
     "end_time": "2023-01-04T17:25:21.340460",
     "exception": false,
     "start_time": "2023-01-04T17:25:21.311325",
     "status": "completed"
    },
    "tags": []
   },
   "source": [
    "**Normality**"
   ]
  },
  {
   "cell_type": "markdown",
   "id": "312967cb",
   "metadata": {
    "papermill": {
     "duration": 0.029809,
     "end_time": "2023-01-04T17:25:21.400297",
     "exception": false,
     "start_time": "2023-01-04T17:25:21.370488",
     "status": "completed"
    },
    "tags": []
   },
   "source": [
    "**Linearity**"
   ]
  },
  {
   "cell_type": "markdown",
   "id": "c4f616d7",
   "metadata": {
    "papermill": {
     "duration": 0.028151,
     "end_time": "2023-01-04T17:25:21.456757",
     "exception": false,
     "start_time": "2023-01-04T17:25:21.428606",
     "status": "completed"
    },
    "tags": []
   },
   "source": [
    "**Decisin Tree Regressor**"
   ]
  },
  {
   "cell_type": "code",
   "execution_count": 46,
   "id": "680725ee",
   "metadata": {
    "execution": {
     "iopub.execute_input": "2023-01-04T17:25:21.516332Z",
     "iopub.status.busy": "2023-01-04T17:25:21.515847Z",
     "iopub.status.idle": "2023-01-04T17:25:21.525303Z",
     "shell.execute_reply": "2023-01-04T17:25:21.523447Z"
    },
    "papermill": {
     "duration": 0.042191,
     "end_time": "2023-01-04T17:25:21.528277",
     "exception": false,
     "start_time": "2023-01-04T17:25:21.486086",
     "status": "completed"
    },
    "tags": []
   },
   "outputs": [
    {
     "data": {
      "text/plain": [
       "RangeIndex(start=0, stop=128, step=1)"
      ]
     },
     "execution_count": 46,
     "metadata": {},
     "output_type": "execute_result"
    }
   ],
   "source": [
    "df_GHI.index"
   ]
  },
  {
   "cell_type": "code",
   "execution_count": 47,
   "id": "b69d8969",
   "metadata": {
    "execution": {
     "iopub.execute_input": "2023-01-04T17:25:21.591531Z",
     "iopub.status.busy": "2023-01-04T17:25:21.591087Z",
     "iopub.status.idle": "2023-01-04T17:25:21.616575Z",
     "shell.execute_reply": "2023-01-04T17:25:21.615208Z"
    },
    "papermill": {
     "duration": 0.059812,
     "end_time": "2023-01-04T17:25:21.618975",
     "exception": false,
     "start_time": "2023-01-04T17:25:21.559163",
     "status": "completed"
    },
    "tags": []
   },
   "outputs": [
    {
     "data": {
      "text/html": [
       "<div>\n",
       "<style scoped>\n",
       "    .dataframe tbody tr th:only-of-type {\n",
       "        vertical-align: middle;\n",
       "    }\n",
       "\n",
       "    .dataframe tbody tr th {\n",
       "        vertical-align: top;\n",
       "    }\n",
       "\n",
       "    .dataframe thead th {\n",
       "        text-align: right;\n",
       "    }\n",
       "</style>\n",
       "<table border=\"1\" class=\"dataframe\">\n",
       "  <thead>\n",
       "    <tr style=\"text-align: right;\">\n",
       "      <th>Year</th>\n",
       "      <th>2000</th>\n",
       "      <th>2006</th>\n",
       "      <th>2012</th>\n",
       "      <th>2021</th>\n",
       "    </tr>\n",
       "  </thead>\n",
       "  <tbody>\n",
       "    <tr>\n",
       "      <th>92</th>\n",
       "      <td>58.1</td>\n",
       "      <td>57.9</td>\n",
       "      <td>65.1</td>\n",
       "      <td>50.8</td>\n",
       "    </tr>\n",
       "    <tr>\n",
       "      <th>74</th>\n",
       "      <td>41.0</td>\n",
       "      <td>38.8</td>\n",
       "      <td>38.4</td>\n",
       "      <td>45.1</td>\n",
       "    </tr>\n",
       "    <tr>\n",
       "      <th>85</th>\n",
       "      <td>48.9</td>\n",
       "      <td>48.0</td>\n",
       "      <td>40.5</td>\n",
       "      <td>43.0</td>\n",
       "    </tr>\n",
       "    <tr>\n",
       "      <th>88</th>\n",
       "      <td>50.8</td>\n",
       "      <td>51.2</td>\n",
       "      <td>45.7</td>\n",
       "      <td>39.6</td>\n",
       "    </tr>\n",
       "    <tr>\n",
       "      <th>87</th>\n",
       "      <td>50.6</td>\n",
       "      <td>45.3</td>\n",
       "      <td>42.3</td>\n",
       "      <td>39.0</td>\n",
       "    </tr>\n",
       "    <tr>\n",
       "      <th>...</th>\n",
       "      <td>...</td>\n",
       "      <td>...</td>\n",
       "      <td>...</td>\n",
       "      <td>...</td>\n",
       "    </tr>\n",
       "    <tr>\n",
       "      <th>7</th>\n",
       "      <td>7.9</td>\n",
       "      <td>5.9</td>\n",
       "      <td>5.0</td>\n",
       "      <td>2.5</td>\n",
       "    </tr>\n",
       "    <tr>\n",
       "      <th>9</th>\n",
       "      <td>9.3</td>\n",
       "      <td>6.7</td>\n",
       "      <td>2.5</td>\n",
       "      <td>2.5</td>\n",
       "    </tr>\n",
       "    <tr>\n",
       "      <th>23</th>\n",
       "      <td>13.3</td>\n",
       "      <td>9.0</td>\n",
       "      <td>2.5</td>\n",
       "      <td>2.5</td>\n",
       "    </tr>\n",
       "    <tr>\n",
       "      <th>18</th>\n",
       "      <td>11.5</td>\n",
       "      <td>7.4</td>\n",
       "      <td>5.5</td>\n",
       "      <td>2.5</td>\n",
       "    </tr>\n",
       "    <tr>\n",
       "      <th>0</th>\n",
       "      <td>2.5</td>\n",
       "      <td>2.5</td>\n",
       "      <td>2.5</td>\n",
       "      <td>2.5</td>\n",
       "    </tr>\n",
       "  </tbody>\n",
       "</table>\n",
       "<p>94 rows × 4 columns</p>\n",
       "</div>"
      ],
      "text/plain": [
       "Year  2000  2006  2012  2021\n",
       "92    58.1  57.9  65.1  50.8\n",
       "74    41.0  38.8  38.4  45.1\n",
       "85    48.9  48.0  40.5  43.0\n",
       "88    50.8  51.2  45.7  39.6\n",
       "87    50.6  45.3  42.3  39.0\n",
       "..     ...   ...   ...   ...\n",
       "7      7.9   5.9   5.0   2.5\n",
       "9      9.3   6.7   2.5   2.5\n",
       "23    13.3   9.0   2.5   2.5\n",
       "18    11.5   7.4   5.5   2.5\n",
       "0      2.5   2.5   2.5   2.5\n",
       "\n",
       "[94 rows x 4 columns]"
      ]
     },
     "execution_count": 47,
     "metadata": {},
     "output_type": "execute_result"
    }
   ],
   "source": [
    "train_df = df_GHI[[2000, 2006, 2012, 2021]].groupby([2000], as_index=False).mean().sort_values(by=2021, ascending=False)\n",
    "train_df.dropna()\n",
    "train_df"
   ]
  },
  {
   "cell_type": "code",
   "execution_count": 48,
   "id": "5091bf8e",
   "metadata": {
    "execution": {
     "iopub.execute_input": "2023-01-04T17:25:21.678430Z",
     "iopub.status.busy": "2023-01-04T17:25:21.677563Z",
     "iopub.status.idle": "2023-01-04T17:25:21.701583Z",
     "shell.execute_reply": "2023-01-04T17:25:21.699867Z"
    },
    "papermill": {
     "duration": 0.055995,
     "end_time": "2023-01-04T17:25:21.704230",
     "exception": false,
     "start_time": "2023-01-04T17:25:21.648235",
     "status": "completed"
    },
    "tags": []
   },
   "outputs": [
    {
     "data": {
      "text/html": [
       "<div>\n",
       "<style scoped>\n",
       "    .dataframe tbody tr th:only-of-type {\n",
       "        vertical-align: middle;\n",
       "    }\n",
       "\n",
       "    .dataframe tbody tr th {\n",
       "        vertical-align: top;\n",
       "    }\n",
       "\n",
       "    .dataframe thead th {\n",
       "        text-align: right;\n",
       "    }\n",
       "</style>\n",
       "<table border=\"1\" class=\"dataframe\">\n",
       "  <thead>\n",
       "    <tr style=\"text-align: right;\">\n",
       "      <th>Year</th>\n",
       "      <th>2000</th>\n",
       "      <th>2006</th>\n",
       "      <th>2012</th>\n",
       "      <th>2021</th>\n",
       "    </tr>\n",
       "  </thead>\n",
       "  <tbody>\n",
       "    <tr>\n",
       "      <th>92</th>\n",
       "      <td>58.1</td>\n",
       "      <td>57.9</td>\n",
       "      <td>65.1</td>\n",
       "      <td>50.8</td>\n",
       "    </tr>\n",
       "    <tr>\n",
       "      <th>88</th>\n",
       "      <td>50.8</td>\n",
       "      <td>51.2</td>\n",
       "      <td>45.7</td>\n",
       "      <td>39.6</td>\n",
       "    </tr>\n",
       "    <tr>\n",
       "      <th>87</th>\n",
       "      <td>50.6</td>\n",
       "      <td>45.3</td>\n",
       "      <td>42.3</td>\n",
       "      <td>39.0</td>\n",
       "    </tr>\n",
       "    <tr>\n",
       "      <th>85</th>\n",
       "      <td>48.9</td>\n",
       "      <td>48.0</td>\n",
       "      <td>40.5</td>\n",
       "      <td>43.0</td>\n",
       "    </tr>\n",
       "    <tr>\n",
       "      <th>74</th>\n",
       "      <td>41.0</td>\n",
       "      <td>38.8</td>\n",
       "      <td>38.4</td>\n",
       "      <td>45.1</td>\n",
       "    </tr>\n",
       "    <tr>\n",
       "      <th>...</th>\n",
       "      <td>...</td>\n",
       "      <td>...</td>\n",
       "      <td>...</td>\n",
       "      <td>...</td>\n",
       "    </tr>\n",
       "    <tr>\n",
       "      <th>6</th>\n",
       "      <td>7.5</td>\n",
       "      <td>7.7</td>\n",
       "      <td>2.5</td>\n",
       "      <td>2.5</td>\n",
       "    </tr>\n",
       "    <tr>\n",
       "      <th>9</th>\n",
       "      <td>9.3</td>\n",
       "      <td>6.7</td>\n",
       "      <td>2.5</td>\n",
       "      <td>2.5</td>\n",
       "    </tr>\n",
       "    <tr>\n",
       "      <th>21</th>\n",
       "      <td>12.3</td>\n",
       "      <td>8.8</td>\n",
       "      <td>2.5</td>\n",
       "      <td>6.3</td>\n",
       "    </tr>\n",
       "    <tr>\n",
       "      <th>1</th>\n",
       "      <td>5.5</td>\n",
       "      <td>2.5</td>\n",
       "      <td>2.5</td>\n",
       "      <td>2.5</td>\n",
       "    </tr>\n",
       "    <tr>\n",
       "      <th>0</th>\n",
       "      <td>2.5</td>\n",
       "      <td>2.5</td>\n",
       "      <td>2.5</td>\n",
       "      <td>2.5</td>\n",
       "    </tr>\n",
       "  </tbody>\n",
       "</table>\n",
       "<p>94 rows × 4 columns</p>\n",
       "</div>"
      ],
      "text/plain": [
       "Year  2000  2006  2012  2021\n",
       "92    58.1  57.9  65.1  50.8\n",
       "88    50.8  51.2  45.7  39.6\n",
       "87    50.6  45.3  42.3  39.0\n",
       "85    48.9  48.0  40.5  43.0\n",
       "74    41.0  38.8  38.4  45.1\n",
       "..     ...   ...   ...   ...\n",
       "6      7.5   7.7   2.5   2.5\n",
       "9      9.3   6.7   2.5   2.5\n",
       "21    12.3   8.8   2.5   6.3\n",
       "1      5.5   2.5   2.5   2.5\n",
       "0      2.5   2.5   2.5   2.5\n",
       "\n",
       "[94 rows x 4 columns]"
      ]
     },
     "execution_count": 48,
     "metadata": {},
     "output_type": "execute_result"
    }
   ],
   "source": [
    "test_df = df_GHI[[2000, 2006, 2012, 2021]].groupby([2000], as_index=False).mean().sort_values(by=2012, ascending=False)\n",
    "test_df.dropna()\n",
    "test_df"
   ]
  },
  {
   "cell_type": "code",
   "execution_count": 49,
   "id": "b2305c10",
   "metadata": {
    "execution": {
     "iopub.execute_input": "2023-01-04T17:25:21.764121Z",
     "iopub.status.busy": "2023-01-04T17:25:21.763175Z",
     "iopub.status.idle": "2023-01-04T17:25:21.772717Z",
     "shell.execute_reply": "2023-01-04T17:25:21.771696Z"
    },
    "papermill": {
     "duration": 0.041404,
     "end_time": "2023-01-04T17:25:21.774552",
     "exception": false,
     "start_time": "2023-01-04T17:25:21.733148",
     "status": "completed"
    },
    "tags": []
   },
   "outputs": [
    {
     "data": {
      "text/plain": [
       "((94, 3), (94,), (94, 3))"
      ]
     },
     "execution_count": 49,
     "metadata": {},
     "output_type": "execute_result"
    }
   ],
   "source": [
    "X_train = train_df.drop(2021, axis=1)\n",
    "Y_train = train_df[2012]\n",
    "#X_test  = test_df\n",
    "X_test  = test_df.drop(2012, axis=1).copy()\n",
    "X_train.shape, Y_train.shape, X_test.shape"
   ]
  },
  {
   "cell_type": "code",
   "execution_count": 50,
   "id": "390b2d8b",
   "metadata": {
    "execution": {
     "iopub.execute_input": "2023-01-04T17:25:21.836808Z",
     "iopub.status.busy": "2023-01-04T17:25:21.836398Z",
     "iopub.status.idle": "2023-01-04T17:25:21.841651Z",
     "shell.execute_reply": "2023-01-04T17:25:21.840325Z"
    },
    "papermill": {
     "duration": 0.038853,
     "end_time": "2023-01-04T17:25:21.844296",
     "exception": false,
     "start_time": "2023-01-04T17:25:21.805443",
     "status": "completed"
    },
    "tags": []
   },
   "outputs": [],
   "source": [
    "# # Logistic Regression\n",
    "\n",
    "# lab_enc = preprocessing.LabelEncoder()\n",
    "# X_train = lab_enc.fit_transform(X_train) \n",
    "# Y_train = lab_enc.fit_transform(Y_train) \n",
    "# X_test = lab_enc.fit_transform(X_test) \n",
    "\n",
    "# logreg = LogisticRegression()\n",
    "# # Y_train = Y_train.reshape(-1, 1)\n",
    "# logreg.fit(X_train, Y_train)\n",
    "\n",
    "# Y_pred = logreg.predict(X_test)\n",
    "# acc_log = round(logreg.score(X_train, Y_train) * 100, 2)\n",
    "# acc_log"
   ]
  },
  {
   "cell_type": "code",
   "execution_count": 51,
   "id": "4c5b0443",
   "metadata": {
    "execution": {
     "iopub.execute_input": "2023-01-04T17:25:21.905558Z",
     "iopub.status.busy": "2023-01-04T17:25:21.904634Z",
     "iopub.status.idle": "2023-01-04T17:25:21.909032Z",
     "shell.execute_reply": "2023-01-04T17:25:21.908370Z"
    },
    "papermill": {
     "duration": 0.037037,
     "end_time": "2023-01-04T17:25:21.910573",
     "exception": false,
     "start_time": "2023-01-04T17:25:21.873536",
     "status": "completed"
    },
    "tags": []
   },
   "outputs": [],
   "source": [
    "# lab_enc = preprocessing.LabelEncoder()\n",
    "# X_train = lab_enc.fit_transform(X_train) \n",
    "# Y_train = lab_enc.fit_transform(Y_train) \n",
    "# X_test = lab_enc.fit_transform(X_test) \n",
    "\n",
    "# X_test = X_train\n",
    "# m1 = 'Logistic Regression'\n",
    "# lr = LogisticRegression()\n",
    "# model = lr.fit(X_train, Y_train)\n",
    "# lr_predict = lr.predict(X_test)\n",
    "# lr_conf_matrix = confusion_matrix(Y_test, lr_predict)\n",
    "# lr_acc_score = accuracy_score(y_test, lr_predict)\n",
    "# print(\"confussion matrix\")\n",
    "# print(lr_conf_matrix)\n",
    "# print(\"\\n\")\n",
    "# print(\"Accuracy of Logistic Regression:\",lr_acc_score*100,'\\n')\n",
    "# print(classification_report(Y_test,lr_predict))"
   ]
  }
 ],
 "metadata": {
  "kernelspec": {
   "display_name": "Python 3",
   "language": "python",
   "name": "python3"
  },
  "language_info": {
   "codemirror_mode": {
    "name": "ipython",
    "version": 3
   },
   "file_extension": ".py",
   "mimetype": "text/x-python",
   "name": "python",
   "nbconvert_exporter": "python",
   "pygments_lexer": "ipython3",
   "version": "3.7.12"
  },
  "papermill": {
   "default_parameters": {},
   "duration": 26.318805,
   "end_time": "2023-01-04T17:25:22.860545",
   "environment_variables": {},
   "exception": null,
   "input_path": "__notebook__.ipynb",
   "output_path": "__notebook__.ipynb",
   "parameters": {},
   "start_time": "2023-01-04T17:24:56.541740",
   "version": "2.3.4"
  }
 },
 "nbformat": 4,
 "nbformat_minor": 5
}
